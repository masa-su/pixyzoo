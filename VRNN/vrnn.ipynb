{
 "cells": [
  {
   "cell_type": "markdown",
   "metadata": {},
   "source": [
    "# VRNN\n",
    "Original paper: A Recurrent Latent Variable Model for Sequential Data (https://arxiv.org/pdf/1506.02216.pdf )"
   ]
  },
  {
   "cell_type": "code",
   "execution_count": 1,
   "metadata": {},
   "outputs": [],
   "source": [
    "from tqdm import tqdm\n",
    "\n",
    "import torch\n",
    "from torch import optim\n",
    "import torch.nn as nn\n",
    "import torch.nn.functional as F\n",
    "from torchvision import transforms, datasets\n",
    "from tensorboardX import SummaryWriter\n",
    "\n",
    "batch_size = 32\n",
    "epochs = 10\n",
    "seed = 1\n",
    "torch.manual_seed(seed)\n",
    "\n",
    "if torch.cuda.is_available():\n",
    "    device = \"cuda\"\n",
    "else:\n",
    "    device = \"cpu\""
   ]
  },
  {
   "cell_type": "code",
   "execution_count": 2,
   "metadata": {},
   "outputs": [],
   "source": [
    "# toy dataset (MNIST)\n",
    "def init_dataset(f_batch_size):\n",
    "    kwargs = {'num_workers': 1, 'pin_memory': True}\n",
    "    data_dir = '../data'\n",
    "    mnist_transform = transforms.Compose([\n",
    "        transforms.ToTensor(),\n",
    "        transforms.Lambda(lambda data: data[0])\n",
    "    ])\n",
    "    train_loader = torch.utils.data.DataLoader(\n",
    "        datasets.MNIST(data_dir, train=True, download=True,\n",
    "                       transform=mnist_transform),\n",
    "        batch_size=f_batch_size, shuffle=True, **kwargs)\n",
    "    test_loader = torch.utils.data.DataLoader(\n",
    "        datasets.MNIST(data_dir, train=False, transform=mnist_transform),\n",
    "        batch_size=f_batch_size, shuffle=True, **kwargs)\n",
    "\n",
    "    fixed_t_size = 28\n",
    "    return train_loader, test_loader, fixed_t_size\n",
    "\n",
    "train_loader, test_loader, t_max = init_dataset(batch_size)"
   ]
  },
  {
   "cell_type": "code",
   "execution_count": 3,
   "metadata": {},
   "outputs": [],
   "source": [
    "from pixyz.models import Model\n",
    "from pixyz.losses import KullbackLeibler, StochasticReconstructionLoss\n",
    "from pixyz.losses import IterativeLoss\n",
    "from pixyz.distributions import Bernoulli, Normal, Deterministic"
   ]
  },
  {
   "cell_type": "code",
   "execution_count": 4,
   "metadata": {},
   "outputs": [],
   "source": [
    "x_dim = 28\n",
    "h_dim = 100\n",
    "z_dim = 64\n",
    "t_max = x_dim\n",
    "\n",
    "class Phi_x(nn.Module):\n",
    "    def __init__(self):\n",
    "        super(Phi_x, self).__init__()\n",
    "        self.fc0 = nn.Linear(x_dim, h_dim)\n",
    "\n",
    "    def forward(self, x):\n",
    "        return F.relu(self.fc0(x))\n",
    "\n",
    "class Phi_z(nn.Module):\n",
    "    def __init__(self):\n",
    "        super(Phi_z, self).__init__()\n",
    "        self.fc0 = nn.Linear(z_dim, h_dim)\n",
    "\n",
    "    def forward(self, z):\n",
    "        return F.relu(self.fc0(z))\n",
    "\n",
    "f_phi_x = Phi_x().to(device)\n",
    "f_phi_z = Phi_z().to(device)"
   ]
  },
  {
   "cell_type": "code",
   "execution_count": 5,
   "metadata": {},
   "outputs": [],
   "source": [
    "class Generator(Bernoulli):\n",
    "    def __init__(self):\n",
    "        super(Generator, self).__init__(cond_var=[\"z\", \"h_prev\"], var=[\"x\"])\n",
    "        self.fc1 = nn.Linear(h_dim + h_dim, h_dim)\n",
    "        self.fc2 = nn.Linear(h_dim, h_dim)\n",
    "        self.fc3 = nn.Linear(h_dim, x_dim)\n",
    "        self.f_phi_z = f_phi_z\n",
    "\n",
    "    def forward(self, z, h_prev):\n",
    "        h = torch.cat((self.f_phi_z(z), h_prev), dim=-1)\n",
    "        h = F.relu(self.fc1(h))\n",
    "        h = F.relu(self.fc2(h))\n",
    "        return {\"probs\": torch.sigmoid(self.fc3(h))}\n",
    "\n",
    "class Prior(Normal):\n",
    "    def __init__(self):\n",
    "        super(Prior, self).__init__(cond_var=[\"h_prev\"], var=[\"z\"])\n",
    "        self.fc1 = nn.Linear(h_dim, h_dim)\n",
    "        self.fc21 = nn.Linear(h_dim, z_dim)\n",
    "        self.fc22 = nn.Linear(h_dim, z_dim)\n",
    "\n",
    "    def forward(self, h_prev):\n",
    "        h = F.relu(self.fc1(h_prev))\n",
    "        return {\"loc\": self.fc21(h), \"scale\": F.softplus(self.fc22(h))}\n",
    "\n",
    "class Inference(Normal):\n",
    "    def __init__(self):\n",
    "        super(Inference, self).__init__(cond_var=[\"x\", \"h_prev\"], var=[\"z\"], name=\"q\")\n",
    "        self.fc1 = nn.Linear(h_dim + h_dim, h_dim)\n",
    "        self.fc21 = nn.Linear(h_dim, z_dim)\n",
    "        self.fc22 = nn.Linear(h_dim, z_dim)\n",
    "        self.f_phi_x = f_phi_x\n",
    "\n",
    "    def forward(self, x, h_prev):\n",
    "        h = torch.cat((self.f_phi_x(x), h_prev), dim=-1)\n",
    "        h = F.relu(self.fc1(h))\n",
    "        return {\"loc\": self.fc21(h), \"scale\": F.softplus(self.fc22(h))}\n",
    "\n",
    "class Recurrence(Deterministic):\n",
    "    def __init__(self):\n",
    "        super(Recurrence, self).__init__(cond_var=[\"x\", \"z\", \"h_prev\"], var=[\"h\"])\n",
    "        self.rnncell = nn.GRUCell(h_dim * 2, h_dim).to(device)\n",
    "        self.f_phi_x = f_phi_x\n",
    "        self.f_phi_z = f_phi_z\n",
    "        self.hidden_size = self.rnncell.hidden_size\n",
    "\n",
    "    def forward(self, x, z, h_prev):\n",
    "        h_next = self.rnncell(torch.cat((self.f_phi_z(z), self.f_phi_x(x)), dim=-1), h_prev)\n",
    "        return {\"h\": h_next}\n",
    "\n",
    "prior = Prior().to(device)\n",
    "decoder = Generator().to(device)\n",
    "encoder = Inference().to(device)\n",
    "recurrence = Recurrence().to(device)"
   ]
  },
  {
   "cell_type": "code",
   "execution_count": 6,
   "metadata": {},
   "outputs": [],
   "source": [
    "encoder_with_recurrence = encoder * recurrence\n",
    "generate_from_prior = prior * decoder * recurrence"
   ]
  },
  {
   "cell_type": "code",
   "execution_count": 7,
   "metadata": {},
   "outputs": [
    {
     "name": "stdout",
     "output_type": "stream",
     "text": [
      "Distributions (for training): \n",
      "  q(z|x,h_prev), p(x|z,h_prev), p(z|h_prev), p(h|x,z,h_prev) \n",
      "Loss function: \n",
      "  sum_(t=1)^(T=28) mean(-E_p(h,z|x,h_prev)[log p(x|z,h_prev)] + KL[q(z|x,h_prev)||p(z|h_prev)]) \n",
      "Optimizer: \n",
      "  Adam (\n",
      "  Parameter Group 0\n",
      "      amsgrad: False\n",
      "      betas: (0.9, 0.999)\n",
      "      eps: 1e-08\n",
      "      lr: 0.001\n",
      "      weight_decay: 0\n",
      "  )\n"
     ]
    }
   ],
   "source": [
    "reconst = StochasticReconstructionLoss(encoder_with_recurrence, decoder)\n",
    "kl = KullbackLeibler(encoder, prior)\n",
    "\n",
    "step_loss = (reconst + kl).mean()\n",
    "loss = IterativeLoss(step_loss, max_iter=t_max,\n",
    "                     series_var=['x'], update_value={\"h\": \"h_prev\"})\n",
    "\n",
    "vrnn = Model(loss, distributions=[encoder, decoder, prior, recurrence],\n",
    "             optimizer=optim.Adam, optimizer_params={'lr': 1e-3})\n",
    "\n",
    "print(vrnn)"
   ]
  },
  {
   "cell_type": "code",
   "execution_count": 8,
   "metadata": {},
   "outputs": [],
   "source": [
    "def data_loop(epoch, loader, model, device, train_mode=False):\n",
    "    mean_loss = 0\n",
    "    for batch_idx, (data, _) in enumerate(tqdm(loader)):\n",
    "        data = data.to(device)\n",
    "        batch_size = data.size()[0]\n",
    "        x = data.transpose(0, 1)\n",
    "        h_prev = torch.zeros(batch_size, recurrence.hidden_size).to(device)\n",
    "        if train_mode:\n",
    "            mean_loss += model.train({'x': x, 'h_prev': h_prev}).item() * batch_size\n",
    "        else:\n",
    "            mean_loss += model.test({'x': x, 'h_prev': h_prev}).item() * batch_size\n",
    "\n",
    "    mean_loss /= len(loader.dataset)\n",
    "    if train_mode:\n",
    "        print('Epoch: {} Train loss: {:.4f}'.format(epoch, mean_loss))\n",
    "    else:\n",
    "        print('Test loss: {:.4f}'.format(mean_loss))\n",
    "    return mean_loss"
   ]
  },
  {
   "cell_type": "code",
   "execution_count": 9,
   "metadata": {},
   "outputs": [],
   "source": [
    "def plot_image_from_latent(batch_size):\n",
    "    x = []\n",
    "    h_prev = torch.zeros(batch_size, recurrence.hidden_size).to(device)\n",
    "    for step in range(t_max):\n",
    "        samples = generate_from_prior.sample({'h_prev': h_prev})\n",
    "        x_t = decoder.sample_mean({\"z\": samples[\"z\"], \"h_prev\": samples[\"h_prev\"]})\n",
    "        h_prev = samples[\"h\"]\n",
    "        x.append(x_t[None, :])\n",
    "    x = torch.cat(x, dim=0).transpose(0, 1)\n",
    "    return x"
   ]
  },
  {
   "cell_type": "code",
   "execution_count": null,
   "metadata": {},
   "outputs": [],
   "source": [
    "writer = SummaryWriter()\n",
    "\n",
    "for epoch in range(1, epochs + 1):\n",
    "    train_loss = data_loop(epoch, train_loader, vrnn, device, train_mode=True)\n",
    "    test_loss = data_loop(epoch, test_loader, vrnn, device)\n",
    "\n",
    "    writer.add_scalar('train_loss', train_loss, epoch)\n",
    "    writer.add_scalar('test_loss', test_loss, epoch)\n",
    "\n",
    "    sample = plot_image_from_latent(batch_size)[:, None]\n",
    "    writer.add_image('Image_from_latent', sample, epoch)"
   ]
  },
  {
   "cell_type": "code",
   "execution_count": null,
   "metadata": {},
   "outputs": [],
   "source": []
  }
 ],
 "metadata": {
  "kernelspec": {
   "display_name": "Python 3",
   "language": "python",
   "name": "python3"
  },
  "language_info": {
   "codemirror_mode": {
    "name": "ipython",
    "version": 3
   },
   "file_extension": ".py",
   "mimetype": "text/x-python",
   "name": "python",
   "nbconvert_exporter": "python",
   "pygments_lexer": "ipython3",
   "version": "3.6.5"
  }
 },
 "nbformat": 4,
 "nbformat_minor": 2
}

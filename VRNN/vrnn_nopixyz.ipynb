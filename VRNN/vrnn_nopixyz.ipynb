{
 "cells": [
  {
   "cell_type": "markdown",
   "metadata": {},
   "source": [
    "# VRNN\n",
    "Original paper: A Recurrent Latent Variable Model for Sequential Data (https://arxiv.org/pdf/1506.02216.pdf )"
   ]
  },
  {
   "cell_type": "code",
   "execution_count": 2,
   "metadata": {},
   "outputs": [],
   "source": [
    "from tqdm import tqdm\n",
    "import numpy as np\n",
    "import random\n",
    "\n",
    "import torch\n",
    "from torch import optim\n",
    "import torch.nn as nn\n",
    "import torch.nn.functional as F\n",
    "from torchvision import transforms, datasets\n",
    "from tensorboardX import SummaryWriter\n",
    "\n",
    "batch_size = 4\n",
    "epochs = 10\n",
    "seed = 1\n",
    "torch.manual_seed(seed)\n",
    "np.random.seed(seed)\n",
    "random.seed(seed)\n",
    "\n",
    "if torch.cuda.is_available():\n",
    "    device = \"cuda\"\n",
    "else:\n",
    "    device = \"cpu\""
   ]
  },
  {
   "cell_type": "code",
   "execution_count": 5,
   "metadata": {},
   "outputs": [],
   "source": [
    "from pixyz.models import Model\n",
    "from pixyz.losses import KullbackLeibler, StochasticReconstructionLoss\n",
    "from pixyz.losses import IterativeLoss\n",
    "from pixyz.distributions import Bernoulli, Normal, Deterministic\n",
    "from pixyz.utils import print_latex"
   ]
  },
  {
   "cell_type": "code",
   "execution_count": 6,
   "metadata": {},
   "outputs": [],
   "source": [
    "x_dim = 28\n",
    "h_dim = 100\n",
    "z_dim = 64\n",
    "t_max = x_dim\n",
    "\n",
    "# xのfeature_extraction, Encoderの入力となる\n",
    "class Phi_x(nn.Module):\n",
    "    def __init__(self):\n",
    "        super(Phi_x, self).__init__()\n",
    "        self.fc0 = nn.Linear(x_dim, h_dim)\n",
    "\n",
    "    def forward(self, x):\n",
    "        return F.relu(self.fc0(x))\n",
    "\n",
    "# 潜在変数zを加工するNN, decoderの入力となる, feature_extraction\n",
    "class Phi_z(nn.Module):\n",
    "    def __init__(self):\n",
    "        super(Phi_z, self).__init__()\n",
    "        self.fc0 = nn.Linear(z_dim, h_dim)\n",
    "\n",
    "    def forward(self, z):\n",
    "        return F.relu(self.fc0(z))\n",
    "\n",
    "f_phi_x = Phi_x().to(device)\n",
    "f_phi_z = Phi_z().to(device)"
   ]
  },
  {
   "cell_type": "code",
   "execution_count": 7,
   "metadata": {},
   "outputs": [],
   "source": [
    "# zとh_t-1に条件づけられたxt\n",
    "# 入力はfeature_extractされたz, h_t-1\n",
    "class Generator(Bernoulli):\n",
    "    def __init__(self):\n",
    "        super(Generator, self).__init__(cond_var=[\"z\", \"h_prev\"], var=[\"x\"])\n",
    "        self.fc1 = nn.Linear(h_dim + h_dim, h_dim)\n",
    "        self.fc2 = nn.Linear(h_dim, h_dim)\n",
    "        self.fc3 = nn.Linear(h_dim, x_dim)\n",
    "        # MNISTだから?\n",
    "        # 論文上のやつの実装\n",
    "        # self.fc31 = nn.Linear(h_dim, x_dim)\n",
    "        # self.fc32 = nn.Linear(h_dim, x_dim)\n",
    "        self.f_phi_z = f_phi_z\n",
    "\n",
    "    def forward(self, z, h_prev):\n",
    "        h = torch.cat((self.f_phi_z(z), h_prev), dim=-1)\n",
    "        h = F.relu(self.fc1(h))\n",
    "        h = F.relu(self.fc2(h))\n",
    "        # MNISTだから?\n",
    "        # 論文上のやつの実装\n",
    "        # {\"loc\": self.fc31(h), \"scale\": F.softplus(self.fc32(h))}\n",
    "        return {\"probs\": torch.sigmoid(self.fc3(h))}\n",
    "\n",
    "\n",
    "# 潜在変数zのprior, 通常のVAEと違いh_prevにより平均と分散が決まる, 標準正規分布ではない\n",
    "class Prior(Normal):\n",
    "    def __init__(self):\n",
    "        super(Prior, self).__init__(cond_var=[\"h_prev\"], var=[\"z\"])\n",
    "        self.fc1 = nn.Linear(h_dim, h_dim)\n",
    "        self.fc21 = nn.Linear(h_dim, z_dim)\n",
    "        self.fc22 = nn.Linear(h_dim, z_dim)\n",
    "\n",
    "    def forward(self, h_prev):\n",
    "        h = F.relu(self.fc1(h_prev))\n",
    "        return {\"loc\": self.fc21(h), \"scale\": F.softplus(self.fc22(h))}\n",
    "\n",
    "\n",
    "# 事後分布の推論\n",
    "# feature_extractされたxtと, h_prevによる\n",
    "class Inference(Normal):\n",
    "    def __init__(self):\n",
    "        super(Inference, self).__init__(cond_var=[\"x\", \"h_prev\"], var=[\"z\"], name=\"q\")\n",
    "        self.fc1 = nn.Linear(h_dim + h_dim, h_dim)\n",
    "        self.fc21 = nn.Linear(h_dim, z_dim)\n",
    "        self.fc22 = nn.Linear(h_dim, z_dim)\n",
    "        self.f_phi_x = f_phi_x\n",
    "\n",
    "    def forward(self, x, h_prev):\n",
    "        h = torch.cat((self.f_phi_x(x), h_prev), dim=-1)\n",
    "        h = F.relu(self.fc1(h))\n",
    "        return {\"loc\": self.fc21(h), \"scale\": F.softplus(self.fc22(h))}\n",
    "\n",
    "\n",
    "# RNNの部分, x, z, h_prevを入力として次の隠れ状態を出力する\n",
    "class Recurrence(Deterministic):\n",
    "    def __init__(self):\n",
    "        super(Recurrence, self).__init__(cond_var=[\"x\", \"z\", \"h_prev\"], var=[\"h\"])\n",
    "        # 1 層のGRUCell\n",
    "        self.rnncell = nn.GRUCell(h_dim * 2, h_dim).to(device)\n",
    "        # 隠れ状態\n",
    "        self.hidden_size = self.rnncell.hidden_size\n",
    "        \n",
    "        # xtのfeature_extractor\n",
    "        self.f_phi_x = f_phi_x\n",
    "        #zのfeature_extractor\n",
    "        self.f_phi_z = f_phi_z\n",
    "\n",
    "    def forward(self, x, z, h_prev):\n",
    "        extracted_x = self.f_phi_x(x)\n",
    "        extracted_z = self.f_phi_z(z)\n",
    "        \n",
    "        rnn_input_t = torch.cat((extracted_z, extracted_x), dim=-1)\n",
    "        h_next = self.rnncell(rnn_input_t, h_prev)\n",
    "        return {\"h\": h_next}\n",
    "\n",
    "prior = Prior().to(device)\n",
    "decoder = Generator().to(device)\n",
    "encoder = Inference().to(device)\n",
    "recurrence = Recurrence().to(device)"
   ]
  },
  {
   "cell_type": "code",
   "execution_count": 8,
   "metadata": {},
   "outputs": [],
   "source": [
    "encoder_with_recurrence = encoder * recurrence\n",
    "generate_from_prior = prior * decoder * recurrence"
   ]
  },
  {
   "cell_type": "code",
   "execution_count": 9,
   "metadata": {},
   "outputs": [
    {
     "data": {
      "text/latex": [
       "$$p(h,z|x,h_{prev}) = p(h|x,z,h_{prev})q(z|x,h_{prev})$$"
      ],
      "text/plain": [
       "<IPython.core.display.Math object>"
      ]
     },
     "execution_count": 9,
     "metadata": {},
     "output_type": "execute_result"
    }
   ],
   "source": [
    "print_latex(encoder_with_recurrence)"
   ]
  },
  {
   "cell_type": "code",
   "execution_count": 10,
   "metadata": {},
   "outputs": [
    {
     "data": {
      "text/latex": [
       "$$p(h,x,z|h_{prev}) = p(h|x,z,h_{prev})p(x|z,h_{prev})p(z|h_{prev})$$"
      ],
      "text/plain": [
       "<IPython.core.display.Math object>"
      ]
     },
     "execution_count": 10,
     "metadata": {},
     "output_type": "execute_result"
    }
   ],
   "source": [
    "print_latex(generate_from_prior)"
   ]
  },
  {
   "cell_type": "code",
   "execution_count": 11,
   "metadata": {},
   "outputs": [],
   "source": [
    "train_loader = torch.utils.data.DataLoader(\n",
    "    datasets.MNIST('../data', train=True, download=True, transform=transforms.ToTensor()),\n",
    "    batch_size=batch_size, shuffle=True)"
   ]
  },
  {
   "cell_type": "code",
   "execution_count": 16,
   "metadata": {},
   "outputs": [],
   "source": [
    "mnist_transform = transforms.Compose([\n",
    "        transforms.ToTensor(),\n",
    "        transforms.Lambda(lambda data: data[0])\n",
    "    ])\n",
    "masa_train_loader = torch.utils.data.DataLoader(\n",
    "    datasets.MNIST('../data', train=True, download=True,\n",
    "                   transform=mnist_transform),\n",
    "    batch_size=4, shuffle=True)"
   ]
  },
  {
   "cell_type": "code",
   "execution_count": null,
   "metadata": {},
   "outputs": [],
   "source": [
    "import math\n",
    "def KLGaussianGaussian(phi_mu, phi_sigma, prior_mu, prior_sigma):\n",
    "    '''\n",
    "    Re-parameterized formula for KL\n",
    "    between Gaussian predicted by encoder and Gaussian dist\n",
    "    '''\n",
    "    kl = 0.5 * (2 * torch.log(prior_sigma) - 2 * torch.log(phi_sigma) + (phi_sigma**2 + (phi_mu - prior_mu2)**2) / prior_sigma**2 - 1)\n",
    "    kl = torch.sum(kl)\n",
    "    return kl\n",
    "\n",
    "\n",
    "def Gaussian_nll(y, mu, sigma):\n",
    "    '''\n",
    "    gaussian negative log-likelihood\n",
    "    '''\n",
    "    nll = torch.sum(torch.sqrt(y - mu) / sigma**2 + 2 * torch.log(sigma) + torch.log(2 * math.pi))\n",
    "    nll = 0.5 * nll\n",
    "    return nll\n",
    "\n",
    "\n",
    "def bi_nll(y_hat, y):\n",
    "    '''\n",
    "    binary cross entropy\n",
    "    '''\n",
    "    nll = - (y * torch.log(y_hat) + (1 - y) * torch.log(1 - y_hat))\n",
    "    nll = torch.sum(nll)\n",
    "    return nll"
   ]
  },
  {
   "cell_type": "code",
   "execution_count": 26,
   "metadata": {},
   "outputs": [],
   "source": [
    "class VRNN(nn.Module):\n",
    "    def __init__(self):\n",
    "        super(VRNN, self).__init__()\n",
    "        self.z_prior = prior\n",
    "        self.encoder = encoder\n",
    "        self.decoder = decoder\n",
    "        self.rnn = recurrence\n",
    "        self.n_layers = 1\n",
    "    \n",
    "    def forward(self, x):\n",
    "        all_enc_mean, all_enc_std = [], []\n",
    "        all_dec_mean, all_dec_std = [], []\n",
    "        kld_loss = 0\n",
    "        nll_loss = 0\n",
    "        x_ts = []\n",
    "        dec_ts = []\n",
    "        \n",
    "        # torch.zeros(batch_size, h_dim), 隠れ状態の初期化\n",
    "        h = torch.zeros(x.size(1), h_dim)\n",
    "        \n",
    "        # timestep t分処理を行う(x.size(0)=行数)\n",
    "        for t in range(x.size(0)):\n",
    "            # Encoding\n",
    "            enc_t = self.encoder(x[t], h)\n",
    "            enc_mean_t, enc_std_t = enc_t['loc'], enc_t['scale']\n",
    "            \n",
    "            # prior\n",
    "            prior_t = self.z_prior(h)\n",
    "            prior_mean_t, prior_std_t = prior_t['loc'], prior_t['scale']\n",
    "            \n",
    "            # z_sampling\n",
    "            z_t = self.reparameterize(enc_mean_t, enc_std_t)\n",
    "            \n",
    "            # decoding\n",
    "            dec_t = self.decoder(z_t, h)\n",
    "            dec_mean_t = dec_t['probs']\n",
    "            #dec_std_t = dec_t['scale']\n",
    "            \n",
    "            # recurence\n",
    "            h = self.rnn(x[t], z_t, h)['h']\n",
    "            \n",
    "            # compute loss\n",
    "            kld_loss += KLGaussianGaussian(enc_mean_t, enc_std_t, prior_mean_t, prior_std_t)\n",
    "            \n",
    "            #nll_loss += self._nll_gauss(dec_mean_t, dec_std_t, x[t])\n",
    "            nll_loss += bi_nll(dec_mean_t, x[t])\n",
    "        return kld_loss, nll_loss\n",
    "    \n",
    "    \n",
    "    def reparameterize(self, mean, var):\n",
    "        \"\"\"using std to sample\"\"\"\n",
    "        eps = torch.randn(mean.size()).to(device)\n",
    "        z = mean + torch.sqrt(var) * eps\n",
    "        return z"
   ]
  },
  {
   "cell_type": "code",
   "execution_count": null,
   "metadata": {},
   "outputs": [],
   "source": [
    "def train():\n",
    "    train_loss = 0\n",
    "    for data, _ in train_loader:\n",
    "        print(_[0])\n",
    "        #print('before_squeeze: ', data.shape)\n",
    "        #print('before_squeeze: ', data[0])\n",
    "        data = data.squeeze().transpose(0, 1)\n",
    "        #print('after_squeeze: ', data.shape)\n",
    "        #print('after_squeeze: ', data[0])\n",
    "        \n",
    "        kld_loss, nll_loss, x_ts, dec_ts = vrnn(data)\n",
    "        \n",
    "        optimizer.zero_grad()\n",
    "        loss = kld_loss + nll_loss\n",
    "        loss.backward()\n",
    "        optimizer.step()\n",
    "        return x_ts, dec_ts"
   ]
  },
  {
   "cell_type": "code",
   "execution_count": null,
   "metadata": {},
   "outputs": [],
   "source": []
  },
  {
   "cell_type": "code",
   "execution_count": null,
   "metadata": {},
   "outputs": [],
   "source": []
  },
  {
   "cell_type": "code",
   "execution_count": null,
   "metadata": {},
   "outputs": [],
   "source": []
  },
  {
   "cell_type": "code",
   "execution_count": null,
   "metadata": {},
   "outputs": [],
   "source": []
  },
  {
   "cell_type": "code",
   "execution_count": null,
   "metadata": {},
   "outputs": [],
   "source": []
  },
  {
   "cell_type": "code",
   "execution_count": null,
   "metadata": {},
   "outputs": [],
   "source": []
  },
  {
   "cell_type": "code",
   "execution_count": null,
   "metadata": {},
   "outputs": [],
   "source": [
    "# with pixyz\n",
    "class VRNN(nn.Module):\n",
    "    def __init__(self):\n",
    "        super(VRNN, self).__init__()\n",
    "        self.z_prior = prior\n",
    "        self.encoder = encoder\n",
    "        self.decoder = decoder\n",
    "        self.rnn = recurrence\n",
    "        self.n_layers = 1\n",
    "    \n",
    "    def forward(self, x):\n",
    "        all_enc_mean, all_enc_std = [], []\n",
    "        all_dec_mean, all_dec_std = [], []\n",
    "        kld_loss = 0\n",
    "        nll_loss = 0\n",
    "        x_ts = []\n",
    "        dec_ts = []\n",
    "        \n",
    "        # torch.zeros(batch_size, h_dim), 隠れ状態の初期化\n",
    "        h = torch.zeros(x.size(1), h_dim)\n",
    "        \n",
    "        # timestep t分処理を行う(x.size(0)=行数)\n",
    "        for t in range(x.size(0)):\n",
    "            # Encoding\n",
    "            enc_t = self.encoder(x[t], h)\n",
    "            enc_mean_t, enc_std_t = enc_t['loc'], enc_t['scale']\n",
    "            \n",
    "            # prior\n",
    "            prior_t = self.z_prior(h)\n",
    "            prior_mean_t, prior_std_t = prior_t['loc'], prior_t['scale']\n",
    "            \n",
    "            # z_sampling\n",
    "            z_t = self.reparameterize(enc_mean_t, enc_std_t)\n",
    "            \n",
    "            # decoding\n",
    "            dec_t = self.decoder(z_t, h)\n",
    "            dec_mean_t = dec_t['probs']\n",
    "            #dec_std_t = dec_t['scale']\n",
    "            \n",
    "            # recurence\n",
    "            h = self.rnn(x[t], z_t, h)['h']\n",
    "            \n",
    "            # compute loss\n",
    "            kld_loss = KullbackLeibler(self.encoder, self.z_prior)\n",
    "            \n",
    "            reconst = StochasticReconstructionLoss(self.decoder, self.decoder)\n",
    "            \n",
    "            loss = (kld_loss + reconst).eval()\n",
    "            \n",
    "        return kld_loss, nll_loss\n",
    "    \n",
    "    \n",
    "    def reparameterize(self, mean, var):\n",
    "        \"\"\"using std to sample\"\"\"\n",
    "        eps = torch.randn(mean.size()).to(device)\n",
    "        z = mean + torch.sqrt(var) * eps\n",
    "        return z"
   ]
  },
  {
   "cell_type": "code",
   "execution_count": 229,
   "metadata": {},
   "outputs": [],
   "source": [
    "class VRNN(nn.Module):\n",
    "    def __init__(self):\n",
    "        super(VRNN, self).__init__()\n",
    "        self.z_prior = prior\n",
    "        self.encoder = encoder\n",
    "        self.decoder = decoder\n",
    "        self.rnn = recurrence\n",
    "        self.n_layers = 1\n",
    "    \n",
    "    def forward(self, x):\n",
    "        all_enc_mean, all_enc_std = [], []\n",
    "        all_dec_mean, all_dec_std = [], []\n",
    "        kld_loss = 0\n",
    "        nll_loss = 0\n",
    "        x_ts = []\n",
    "        dec_ts = []\n",
    "        # Cellとの違いかわからんがhの設定が気になる\n",
    "        h = torch.zeros(x.size(1), h_dim)\n",
    "#         print('hidden_shape', h.shape)\n",
    "#         print('h', h)\n",
    "        # h[-1]ってなんぞや-> 隠れ状態の出力層に一番近いところ\n",
    "#         print('x_shape: ', x.shape)\n",
    "#         print('x[0]: ', x[0])\n",
    "        for t in range(x.size(0)):\n",
    "            print('Time step: ', t)\n",
    "            # Encoding\n",
    "#             print('x_t_shape', x[t].shape)\n",
    "#             print('x_t: ', x[t])\n",
    "#             print('h[-1]: ', h[-1])\n",
    "            enc_t = self.encoder(x[t], h)\n",
    "            enc_mean_t, enc_std_t = enc_t['loc'], enc_t['scale']\n",
    "            \n",
    "            # prior\n",
    "            prior_t = self.z_prior(h)\n",
    "            prior_mean_t, prior_std_t = prior_t['loc'], prior_t['scale']\n",
    "            \n",
    "            # z_sampling\n",
    "            z_t = self.reparameterize(enc_mean_t, enc_std_t)\n",
    "            \n",
    "            # decoding\n",
    "            dec_t = self.decoder(z_t, h)\n",
    "            dec_mean_t = dec_t['probs']\n",
    "            #dec_std_t = dec_t['scale']\n",
    "            \n",
    "            # recurence\n",
    "            h = self.rnn(x[t], z_t, h)['h'].squeeze()\n",
    "#             print('h_next shape', h.shape)\n",
    "            \n",
    "            # compute loss\n",
    "            kld_loss = self._kld_gauss(enc_mean_t, enc_std_t, prior_mean_t, prior_std_t)\n",
    "            #nll_loss += self._nll_gauss(dec_mean_t, dec_std_t, x[t])\n",
    "            nll_loss += self._nll_bernoulli(dec_mean_t, x[t])\n",
    "            x_ts.append(x[t][0].detach().numpy())\n",
    "            dec_ts.append(dec_mean_t[0].detach().numpy())\n",
    "        return kld_loss, nll_loss, x_ts, dec_ts\n",
    "    \n",
    "    \n",
    "    def reparameterize(self, mean, var):\n",
    "        \"\"\"using std to sample\"\"\"\n",
    "        eps = torch.randn(mean.size()).to(device)\n",
    "        z = mean + torch.sqrt(var) * eps\n",
    "        return z\n"
   ]
  },
  {
   "cell_type": "code",
   "execution_count": 27,
   "metadata": {},
   "outputs": [],
   "source": [
    "vrnn = VRNN()\n",
    "optimizer = torch.optim.Adam(vrnn.parameters(), lr=0.001)"
   ]
  },
  {
   "cell_type": "code",
   "execution_count": 28,
   "metadata": {},
   "outputs": [],
   "source": [
    "import matplotlib.pyplot as plt\n",
    "%matplotlib inline"
   ]
  },
  {
   "cell_type": "code",
   "execution_count": 29,
   "metadata": {},
   "outputs": [],
   "source": [
    "def train():\n",
    "    train_loss = 0\n",
    "    for data, _ in train_loader:\n",
    "        print(_[0])\n",
    "        #print('before_squeeze: ', data.shape)\n",
    "        #print('before_squeeze: ', data[0])\n",
    "        data = data.squeeze().transpose(0, 1)\n",
    "        #print('after_squeeze: ', data.shape)\n",
    "        #print('after_squeeze: ', data[0])\n",
    "        \n",
    "        kld_loss, nll_loss, x_ts, dec_ts = vrnn(data)\n",
    "        \n",
    "        optimizer.zero_grad()\n",
    "        loss = kld_loss + nll_loss\n",
    "        loss.backward()\n",
    "        optimizer.step()\n",
    "        return x_ts, dec_ts"
   ]
  },
  {
   "cell_type": "code",
   "execution_count": 30,
   "metadata": {
    "scrolled": true
   },
   "outputs": [
    {
     "name": "stdout",
     "output_type": "stream",
     "text": [
      "tensor(6)\n",
      "D_{KL} \\left[q(z|x,h_{prev})||p(z|h_{prev}) \\right]\n",
      "D_{KL} \\left[q(z|x,h_{prev})||p(z|h_{prev}) \\right]\n",
      "D_{KL} \\left[q(z|x,h_{prev})||p(z|h_{prev}) \\right]\n",
      "D_{KL} \\left[q(z|x,h_{prev})||p(z|h_{prev}) \\right]\n",
      "D_{KL} \\left[q(z|x,h_{prev})||p(z|h_{prev}) \\right]\n",
      "D_{KL} \\left[q(z|x,h_{prev})||p(z|h_{prev}) \\right]\n",
      "D_{KL} \\left[q(z|x,h_{prev})||p(z|h_{prev}) \\right]\n",
      "D_{KL} \\left[q(z|x,h_{prev})||p(z|h_{prev}) \\right]\n",
      "D_{KL} \\left[q(z|x,h_{prev})||p(z|h_{prev}) \\right]\n",
      "D_{KL} \\left[q(z|x,h_{prev})||p(z|h_{prev}) \\right]\n",
      "D_{KL} \\left[q(z|x,h_{prev})||p(z|h_{prev}) \\right]\n",
      "D_{KL} \\left[q(z|x,h_{prev})||p(z|h_{prev}) \\right]\n",
      "D_{KL} \\left[q(z|x,h_{prev})||p(z|h_{prev}) \\right]\n",
      "D_{KL} \\left[q(z|x,h_{prev})||p(z|h_{prev}) \\right]\n",
      "D_{KL} \\left[q(z|x,h_{prev})||p(z|h_{prev}) \\right]\n",
      "D_{KL} \\left[q(z|x,h_{prev})||p(z|h_{prev}) \\right]\n",
      "D_{KL} \\left[q(z|x,h_{prev})||p(z|h_{prev}) \\right]\n",
      "D_{KL} \\left[q(z|x,h_{prev})||p(z|h_{prev}) \\right]\n",
      "D_{KL} \\left[q(z|x,h_{prev})||p(z|h_{prev}) \\right]\n",
      "D_{KL} \\left[q(z|x,h_{prev})||p(z|h_{prev}) \\right]\n",
      "D_{KL} \\left[q(z|x,h_{prev})||p(z|h_{prev}) \\right]\n",
      "D_{KL} \\left[q(z|x,h_{prev})||p(z|h_{prev}) \\right]\n",
      "D_{KL} \\left[q(z|x,h_{prev})||p(z|h_{prev}) \\right]\n",
      "D_{KL} \\left[q(z|x,h_{prev})||p(z|h_{prev}) \\right]\n",
      "D_{KL} \\left[q(z|x,h_{prev})||p(z|h_{prev}) \\right]\n",
      "D_{KL} \\left[q(z|x,h_{prev})||p(z|h_{prev}) \\right]\n",
      "D_{KL} \\left[q(z|x,h_{prev})||p(z|h_{prev}) \\right]\n",
      "D_{KL} \\left[q(z|x,h_{prev})||p(z|h_{prev}) \\right]\n"
     ]
    },
    {
     "ename": "ValueError",
     "evalue": "not enough values to unpack (expected 4, got 2)",
     "output_type": "error",
     "traceback": [
      "\u001b[0;31m---------------------------------------------------------------------------\u001b[0m",
      "\u001b[0;31mValueError\u001b[0m                                Traceback (most recent call last)",
      "\u001b[0;32m<ipython-input-30-b8811b492581>\u001b[0m in \u001b[0;36m<module>\u001b[0;34m()\u001b[0m\n\u001b[0;32m----> 1\u001b[0;31m \u001b[0mx_ts\u001b[0m\u001b[0;34m,\u001b[0m \u001b[0mdec_ts\u001b[0m \u001b[0;34m=\u001b[0m \u001b[0mtrain\u001b[0m\u001b[0;34m(\u001b[0m\u001b[0;34m)\u001b[0m\u001b[0;34m\u001b[0m\u001b[0;34m\u001b[0m\u001b[0m\n\u001b[0m",
      "\u001b[0;32m<ipython-input-29-42999ec81eec>\u001b[0m in \u001b[0;36mtrain\u001b[0;34m()\u001b[0m\n\u001b[1;32m      9\u001b[0m         \u001b[0;31m#print('after_squeeze: ', data[0])\u001b[0m\u001b[0;34m\u001b[0m\u001b[0;34m\u001b[0m\u001b[0;34m\u001b[0m\u001b[0m\n\u001b[1;32m     10\u001b[0m \u001b[0;34m\u001b[0m\u001b[0m\n\u001b[0;32m---> 11\u001b[0;31m         \u001b[0mkld_loss\u001b[0m\u001b[0;34m,\u001b[0m \u001b[0mnll_loss\u001b[0m\u001b[0;34m,\u001b[0m \u001b[0mx_ts\u001b[0m\u001b[0;34m,\u001b[0m \u001b[0mdec_ts\u001b[0m \u001b[0;34m=\u001b[0m \u001b[0mvrnn\u001b[0m\u001b[0;34m(\u001b[0m\u001b[0mdata\u001b[0m\u001b[0;34m)\u001b[0m\u001b[0;34m\u001b[0m\u001b[0;34m\u001b[0m\u001b[0m\n\u001b[0m\u001b[1;32m     12\u001b[0m \u001b[0;34m\u001b[0m\u001b[0m\n\u001b[1;32m     13\u001b[0m         \u001b[0moptimizer\u001b[0m\u001b[0;34m.\u001b[0m\u001b[0mzero_grad\u001b[0m\u001b[0;34m(\u001b[0m\u001b[0;34m)\u001b[0m\u001b[0;34m\u001b[0m\u001b[0;34m\u001b[0m\u001b[0m\n",
      "\u001b[0;31mValueError\u001b[0m: not enough values to unpack (expected 4, got 2)"
     ]
    }
   ],
   "source": []
  },
  {
   "cell_type": "code",
   "execution_count": 23,
   "metadata": {},
   "outputs": [
    {
     "data": {
      "text/plain": [
       "[array([0., 0., 0., 0., 0., 0., 0., 0., 0., 0., 0., 0., 0., 0., 0., 0., 0.,\n",
       "        0., 0., 0., 0., 0., 0., 0., 0., 0., 0., 0.], dtype=float32),\n",
       " array([0., 0., 0., 0., 0., 0., 0., 0., 0., 0., 0., 0., 0., 0., 0., 0., 0.,\n",
       "        0., 0., 0., 0., 0., 0., 0., 0., 0., 0., 0.], dtype=float32),\n",
       " array([0., 0., 0., 0., 0., 0., 0., 0., 0., 0., 0., 0., 0., 0., 0., 0., 0.,\n",
       "        0., 0., 0., 0., 0., 0., 0., 0., 0., 0., 0.], dtype=float32),\n",
       " array([0., 0., 0., 0., 0., 0., 0., 0., 0., 0., 0., 0., 0., 0., 0., 0., 0.,\n",
       "        0., 0., 0., 0., 0., 0., 0., 0., 0., 0., 0.], dtype=float32),\n",
       " array([0., 0., 0., 0., 0., 0., 0., 0., 0., 0., 0., 0., 0., 0., 0., 0., 0.,\n",
       "        0., 0., 0., 0., 0., 0., 0., 0., 0., 0., 0.], dtype=float32),\n",
       " array([0., 0., 0., 0., 0., 0., 0., 0., 0., 0., 0., 0., 0., 0., 0., 0., 0.,\n",
       "        0., 0., 0., 0., 0., 0., 0., 0., 0., 0., 0.], dtype=float32),\n",
       " array([0., 0., 0., 0., 0., 0., 0., 0., 0., 0., 0., 0., 0., 0., 0., 0., 0.,\n",
       "        0., 0., 0., 0., 0., 0., 0., 0., 0., 0., 0.], dtype=float32),\n",
       " array([0.        , 0.        , 0.        , 0.        , 0.        ,\n",
       "        0.        , 0.        , 0.32941177, 0.3764706 , 0.3764706 ,\n",
       "        0.3764706 , 0.3764706 , 0.3764706 , 0.3764706 , 1.        ,\n",
       "        0.99215686, 0.99215686, 0.99215686, 0.6       , 0.3764706 ,\n",
       "        0.09411765, 0.        , 0.        , 0.        , 0.        ,\n",
       "        0.        , 0.        , 0.        ], dtype=float32),\n",
       " array([0.        , 0.        , 0.        , 0.        , 0.        ,\n",
       "        0.        , 0.0627451 , 0.88235295, 0.9843137 , 0.99215686,\n",
       "        0.9843137 , 0.9843137 , 0.9843137 , 0.9843137 , 0.99215686,\n",
       "        0.9843137 , 0.9843137 , 0.9843137 , 0.9843137 , 0.99215686,\n",
       "        0.8039216 , 0.37254903, 0.        , 0.        , 0.        ,\n",
       "        0.        , 0.        , 0.        ], dtype=float32),\n",
       " array([0.        , 0.        , 0.        , 0.        , 0.        ,\n",
       "        0.        , 0.49803922, 0.9843137 , 0.9843137 , 0.99215686,\n",
       "        0.9843137 , 0.9843137 , 0.9843137 , 0.9843137 , 0.99215686,\n",
       "        0.9843137 , 0.9843137 , 0.9843137 , 0.9843137 , 0.99215686,\n",
       "        0.9843137 , 0.49411765, 0.        , 0.        , 0.        ,\n",
       "        0.        , 0.        , 0.        ], dtype=float32),\n",
       " array([0.        , 0.        , 0.        , 0.        , 0.        ,\n",
       "        0.        , 0.0627451 , 0.88235295, 0.9843137 , 0.99215686,\n",
       "        0.8       , 0.7372549 , 0.7372549 , 0.7372549 , 0.7411765 ,\n",
       "        0.7372549 , 0.42745098, 0.27450982, 0.89411765, 0.99215686,\n",
       "        0.9843137 , 0.49411765, 0.        , 0.        , 0.        ,\n",
       "        0.        , 0.        , 0.        ], dtype=float32),\n",
       " array([0.        , 0.        , 0.        , 0.        , 0.        ,\n",
       "        0.        , 0.        , 0.3254902 , 0.36862746, 0.37254903,\n",
       "        0.09019608, 0.        , 0.        , 0.        , 0.        ,\n",
       "        0.        , 0.        , 0.        , 0.61960787, 0.99215686,\n",
       "        0.9843137 , 0.49411765, 0.        , 0.        , 0.        ,\n",
       "        0.        , 0.        , 0.        ], dtype=float32),\n",
       " array([0.        , 0.        , 0.        , 0.        , 0.        ,\n",
       "        0.        , 0.        , 0.        , 0.        , 0.        ,\n",
       "        0.        , 0.        , 0.        , 0.        , 0.        ,\n",
       "        0.        , 0.        , 0.09411765, 0.7607843 , 1.        ,\n",
       "        0.8666667 , 0.        , 0.        , 0.        , 0.        ,\n",
       "        0.        , 0.        , 0.        ], dtype=float32),\n",
       " array([0.        , 0.        , 0.        , 0.        , 0.        ,\n",
       "        0.        , 0.        , 0.        , 0.        , 0.        ,\n",
       "        0.        , 0.        , 0.        , 0.        , 0.        ,\n",
       "        0.        , 0.        , 0.32941177, 0.9843137 , 0.99215686,\n",
       "        0.39607844, 0.        , 0.        , 0.        , 0.        ,\n",
       "        0.        , 0.        , 0.        ], dtype=float32),\n",
       " array([0.        , 0.        , 0.        , 0.        , 0.        ,\n",
       "        0.        , 0.        , 0.        , 0.        , 0.        ,\n",
       "        0.        , 0.        , 0.        , 0.        , 0.        ,\n",
       "        0.        , 0.2509804 , 0.9254902 , 0.9843137 , 0.8039216 ,\n",
       "        0.12156863, 0.        , 0.        , 0.        , 0.        ,\n",
       "        0.        , 0.        , 0.        ], dtype=float32),\n",
       " array([0.        , 0.        , 0.        , 0.        , 0.        ,\n",
       "        0.        , 0.        , 0.        , 0.        , 0.        ,\n",
       "        0.        , 0.        , 0.        , 0.        , 0.        ,\n",
       "        0.03137255, 0.61960787, 0.9843137 , 0.9843137 , 0.46666667,\n",
       "        0.        , 0.        , 0.        , 0.        , 0.        ,\n",
       "        0.        , 0.        , 0.        ], dtype=float32),\n",
       " array([0.        , 0.        , 0.        , 0.        , 0.        ,\n",
       "        0.        , 0.        , 0.        , 0.        , 0.        ,\n",
       "        0.        , 0.        , 0.        , 0.        , 0.        ,\n",
       "        0.1254902 , 0.9843137 , 0.9843137 , 0.59607846, 0.        ,\n",
       "        0.        , 0.        , 0.        , 0.        , 0.        ,\n",
       "        0.        , 0.        , 0.        ], dtype=float32),\n",
       " array([0.        , 0.        , 0.        , 0.        , 0.        ,\n",
       "        0.        , 0.        , 0.        , 0.        , 0.        ,\n",
       "        0.        , 0.        , 0.        , 0.        , 0.14117648,\n",
       "        0.8392157 , 0.99215686, 0.99215686, 0.37254903, 0.        ,\n",
       "        0.        , 0.        , 0.        , 0.        , 0.        ,\n",
       "        0.        , 0.        , 0.        ], dtype=float32),\n",
       " array([0.        , 0.        , 0.        , 0.        , 0.        ,\n",
       "        0.        , 0.        , 0.        , 0.        , 0.        ,\n",
       "        0.        , 0.        , 0.        , 0.        , 0.3764706 ,\n",
       "        0.9843137 , 0.9843137 , 0.72156864, 0.09019608, 0.        ,\n",
       "        0.        , 0.        , 0.        , 0.        , 0.        ,\n",
       "        0.        , 0.        , 0.        ], dtype=float32),\n",
       " array([0.        , 0.        , 0.        , 0.        , 0.        ,\n",
       "        0.        , 0.        , 0.        , 0.        , 0.        ,\n",
       "        0.        , 0.        , 0.        , 0.        , 0.68235296,\n",
       "        0.9843137 , 0.7372549 , 0.05882353, 0.        , 0.        ,\n",
       "        0.        , 0.        , 0.        , 0.        , 0.        ,\n",
       "        0.        , 0.        , 0.        ], dtype=float32),\n",
       " array([0.        , 0.        , 0.        , 0.        , 0.        ,\n",
       "        0.        , 0.        , 0.        , 0.        , 0.        ,\n",
       "        0.        , 0.        , 0.0627451 , 0.2509804 , 0.99215686,\n",
       "        0.9843137 , 0.49411765, 0.        , 0.        , 0.        ,\n",
       "        0.        , 0.        , 0.        , 0.        , 0.        ,\n",
       "        0.        , 0.        , 0.        ], dtype=float32),\n",
       " array([0.        , 0.        , 0.        , 0.        , 0.        ,\n",
       "        0.        , 0.        , 0.        , 0.        , 0.        ,\n",
       "        0.        , 0.        , 0.2509804 , 0.9843137 , 0.99215686,\n",
       "        0.9843137 , 0.49411765, 0.        , 0.        , 0.        ,\n",
       "        0.        , 0.        , 0.        , 0.        , 0.        ,\n",
       "        0.        , 0.        , 0.        ], dtype=float32),\n",
       " array([0.        , 0.        , 0.        , 0.        , 0.        ,\n",
       "        0.        , 0.        , 0.        , 0.        , 0.        ,\n",
       "        0.        , 0.        , 0.4862745 , 0.99215686, 1.        ,\n",
       "        0.6313726 , 0.        , 0.        , 0.        , 0.        ,\n",
       "        0.        , 0.        , 0.        , 0.        , 0.        ,\n",
       "        0.        , 0.        , 0.        ], dtype=float32),\n",
       " array([0.        , 0.        , 0.        , 0.        , 0.        ,\n",
       "        0.        , 0.        , 0.        , 0.        , 0.        ,\n",
       "        0.01568628, 0.4392157 , 0.95686275, 0.9843137 , 0.70980394,\n",
       "        0.0627451 , 0.        , 0.        , 0.        , 0.        ,\n",
       "        0.        , 0.        , 0.        , 0.        , 0.        ,\n",
       "        0.        , 0.        , 0.        ], dtype=float32),\n",
       " array([0.        , 0.        , 0.        , 0.        , 0.        ,\n",
       "        0.        , 0.        , 0.        , 0.        , 0.        ,\n",
       "        0.1254902 , 0.9843137 , 0.9843137 , 0.9843137 , 0.61960787,\n",
       "        0.        , 0.        , 0.        , 0.        , 0.        ,\n",
       "        0.        , 0.        , 0.        , 0.        , 0.        ,\n",
       "        0.        , 0.        , 0.        ], dtype=float32),\n",
       " array([0.        , 0.        , 0.        , 0.        , 0.        ,\n",
       "        0.        , 0.        , 0.        , 0.        , 0.        ,\n",
       "        0.1254902 , 0.9843137 , 0.9843137 , 0.9843137 , 0.07450981,\n",
       "        0.        , 0.        , 0.        , 0.        , 0.        ,\n",
       "        0.        , 0.        , 0.        , 0.        , 0.        ,\n",
       "        0.        , 0.        , 0.        ], dtype=float32),\n",
       " array([0.        , 0.        , 0.        , 0.        , 0.        ,\n",
       "        0.        , 0.        , 0.        , 0.        , 0.        ,\n",
       "        0.1254902 , 0.9843137 , 0.827451  , 0.36862746, 0.        ,\n",
       "        0.        , 0.        , 0.        , 0.        , 0.        ,\n",
       "        0.        , 0.        , 0.        , 0.        , 0.        ,\n",
       "        0.        , 0.        , 0.        ], dtype=float32),\n",
       " array([0., 0., 0., 0., 0., 0., 0., 0., 0., 0., 0., 0., 0., 0., 0., 0., 0.,\n",
       "        0., 0., 0., 0., 0., 0., 0., 0., 0., 0., 0.], dtype=float32)]"
      ]
     },
     "execution_count": 23,
     "metadata": {},
     "output_type": "execute_result"
    }
   ],
   "source": [
    "x_ts"
   ]
  },
  {
   "cell_type": "code",
   "execution_count": 24,
   "metadata": {},
   "outputs": [
    {
     "name": "stdout",
     "output_type": "stream",
     "text": [
      "(28, 28)\n"
     ]
    },
    {
     "data": {
      "text/plain": [
       "<matplotlib.image.AxesImage at 0x1342b4e10>"
      ]
     },
     "execution_count": 24,
     "metadata": {},
     "output_type": "execute_result"
    },
    {
     "data": {
      "image/png": "[encoded data removed]",
      "text/plain": [
       "<Figure size 432x288 with 1 Axes>"
      ]
     },
     "metadata": {},
     "output_type": "display_data"
    }
   ],
   "source": [
    "import numpy as np\n",
    "x_t = np.array(x_ts)\n",
    "x_t = x_t.reshape(28, 28)\n",
    "print(x_t.shape)\n",
    "plt.imshow(x_t)"
   ]
  },
  {
   "cell_type": "code",
   "execution_count": 25,
   "metadata": {},
   "outputs": [
    {
     "name": "stdout",
     "output_type": "stream",
     "text": [
      "(28, 28)\n"
     ]
    },
    {
     "data": {
      "text/plain": [
       "<matplotlib.image.AxesImage at 0x1341846a0>"
      ]
     },
     "execution_count": 25,
     "metadata": {},
     "output_type": "execute_result"
    },
    {
     "data": {
      "image/png": "[encoded data removed]",
      "text/plain": [
       "<Figure size 432x288 with 1 Axes>"
      ]
     },
     "metadata": {},
     "output_type": "display_data"
    }
   ],
   "source": [
    "dec_t = np.array(dec_ts)\n",
    "dec_t = dec_t.reshape(28, 28)\n",
    "print(dec_t.shape)\n",
    "plt.imshow(dec_t)"
   ]
  },
  {
   "cell_type": "code",
   "execution_count": 10,
   "metadata": {},
   "outputs": [
    {
     "name": "stdout",
     "output_type": "stream",
     "text": [
      "Distributions (for training): \n",
      "  q(z|x,h_{prev}), p(x|z,h_{prev}), p(z|h_{prev}), p(h|x,z,h_{prev}) \n",
      "Loss function: \n",
      "  \\sum_{t=1}^{28} mean \\left(D_{KL} \\left[q(z|x,h_{prev})||p(z|h_{prev}) \\right] - \\mathbb{E}_{p(h,z|x,h_{prev})} \\left[\\log p(x|z,h_{prev}) \\right] \\right) \n",
      "Optimizer: \n",
      "  Adam (\n",
      "  Parameter Group 0\n",
      "      amsgrad: False\n",
      "      betas: (0.9, 0.999)\n",
      "      eps: 1e-08\n",
      "      lr: 0.001\n",
      "      weight_decay: 0\n",
      "  )\n"
     ]
    },
    {
     "data": {
      "text/latex": [
       "$$\\sum_{t=1}^{28} mean \\left(D_{KL} \\left[q(z|x,h_{prev})||p(z|h_{prev}) \\right] - \\mathbb{E}_{p(h,z|x,h_{prev})} \\left[\\log p(x|z,h_{prev}) \\right] \\right)$$"
      ],
      "text/plain": [
       "<IPython.core.display.Math object>"
      ]
     },
     "execution_count": 10,
     "metadata": {},
     "output_type": "execute_result"
    }
   ],
   "source": [
    "reconst = StochasticReconstructionLoss(encoder_with_recurrence, decoder)\n",
    "kl = KullbackLeibler(encoder, prior)\n",
    "\n",
    "step_loss = (reconst + kl).mean()\n",
    "loss = IterativeLoss(step_loss, max_iter=t_max,\n",
    "                     series_var=['x'],\n",
    "                     update_value={\"h\": \"h_prev\"})\n",
    "\n",
    "vrnn = Model(loss, distributions=[encoder, decoder, prior, recurrence],\n",
    "             optimizer=optim.Adam, optimizer_params={'lr': 1e-3})\n",
    "\n",
    "print(vrnn)\n",
    "print_latex(vrnn)"
   ]
  },
  {
   "cell_type": "code",
   "execution_count": 11,
   "metadata": {
    "collapsed": true
   },
   "outputs": [],
   "source": [
    "def data_loop(epoch, loader, model, device, train_mode=False):\n",
    "    mean_loss = 0\n",
    "    for batch_idx, (data, _) in enumerate(tqdm(loader)):\n",
    "        data = data.to(device)\n",
    "        batch_size = data.size()[0]\n",
    "        x = data.transpose(0, 1)\n",
    "        h_prev = torch.zeros(batch_size, recurrence.hidden_size).to(device)\n",
    "        if train_mode:\n",
    "            mean_loss += model.train({'x': x, 'h_prev': h_prev}).item() * batch_size\n",
    "        else:\n",
    "            mean_loss += model.test({'x': x, 'h_prev': h_prev}).item() * batch_size\n",
    "\n",
    "    mean_loss /= len(loader.dataset)\n",
    "    if train_mode:\n",
    "        print('Epoch: {} Train loss: {:.4f}'.format(epoch, mean_loss))\n",
    "    else:\n",
    "        print('Test loss: {:.4f}'.format(mean_loss))\n",
    "    return mean_loss"
   ]
  },
  {
   "cell_type": "code",
   "execution_count": 12,
   "metadata": {
    "collapsed": true
   },
   "outputs": [],
   "source": [
    "def plot_image_from_latent(batch_size):\n",
    "    x = []\n",
    "    h_prev = torch.zeros(batch_size, recurrence.hidden_size).to(device)\n",
    "    for step in range(t_max):\n",
    "        samples = generate_from_prior.sample({'h_prev': h_prev})\n",
    "        x_t = decoder.sample_mean({\"z\": samples[\"z\"], \"h_prev\": samples[\"h_prev\"]})\n",
    "        h_prev = samples[\"h\"]\n",
    "        x.append(x_t[None, :])\n",
    "    x = torch.cat(x, dim=0).transpose(0, 1)\n",
    "    return x"
   ]
  },
  {
   "cell_type": "code",
   "execution_count": null,
   "metadata": {},
   "outputs": [
    {
     "name": "stderr",
     "output_type": "stream",
     "text": [
      "100%|██████████| 1875/1875 [07:02<00:00,  4.47it/s]\n",
      "  0%|          | 0/313 [00:00<?, ?it/s]"
     ]
    },
    {
     "name": "stdout",
     "output_type": "stream",
     "text": [
      "Epoch: 1 Train loss: 213.7318\n"
     ]
    },
    {
     "name": "stderr",
     "output_type": "stream",
     "text": [
      "100%|██████████| 313/313 [00:28<00:00, 12.50it/s]\n",
      "  0%|          | 0/1875 [00:00<?, ?it/s]"
     ]
    },
    {
     "name": "stdout",
     "output_type": "stream",
     "text": [
      "Test loss: 196.9736\n"
     ]
    },
    {
     "name": "stderr",
     "output_type": "stream",
     "text": [
      "100%|██████████| 1875/1875 [07:18<00:00,  5.03it/s]\n",
      "  0%|          | 0/313 [00:00<?, ?it/s]"
     ]
    },
    {
     "name": "stdout",
     "output_type": "stream",
     "text": [
      "Epoch: 2 Train loss: 189.6261\n"
     ]
    },
    {
     "name": "stderr",
     "output_type": "stream",
     "text": [
      "100%|██████████| 313/313 [00:27<00:00, 12.11it/s]\n",
      "  0%|          | 0/1875 [00:00<?, ?it/s]"
     ]
    },
    {
     "name": "stdout",
     "output_type": "stream",
     "text": [
      "Test loss: 185.0552\n"
     ]
    },
    {
     "name": "stderr",
     "output_type": "stream",
     "text": [
      "100%|██████████| 1875/1875 [07:02<00:00,  5.01it/s]\n",
      "  0%|          | 0/313 [00:00<?, ?it/s]"
     ]
    },
    {
     "name": "stdout",
     "output_type": "stream",
     "text": [
      "Epoch: 3 Train loss: 184.1123\n"
     ]
    },
    {
     "name": "stderr",
     "output_type": "stream",
     "text": [
      "100%|██████████| 313/313 [00:26<00:00, 11.61it/s]\n",
      "  0%|          | 0/1875 [00:00<?, ?it/s]"
     ]
    },
    {
     "name": "stdout",
     "output_type": "stream",
     "text": [
      "Test loss: 180.9454\n"
     ]
    },
    {
     "name": "stderr",
     "output_type": "stream",
     "text": [
      "100%|██████████| 1875/1875 [06:58<00:00,  5.05it/s]\n",
      "  0%|          | 0/313 [00:00<?, ?it/s]"
     ]
    },
    {
     "name": "stdout",
     "output_type": "stream",
     "text": [
      "Epoch: 4 Train loss: 178.7878\n"
     ]
    },
    {
     "name": "stderr",
     "output_type": "stream",
     "text": [
      "100%|██████████| 313/313 [00:34<00:00,  6.68it/s]\n"
     ]
    },
    {
     "name": "stdout",
     "output_type": "stream",
     "text": [
      "Test loss: 176.4252\n"
     ]
    },
    {
     "name": "stderr",
     "output_type": "stream",
     "text": [
      "100%|██████████| 1875/1875 [11:26:32<00:00,  4.10it/s]       \n",
      "  0%|          | 0/313 [00:00<?, ?it/s]"
     ]
    },
    {
     "name": "stdout",
     "output_type": "stream",
     "text": [
      "Epoch: 5 Train loss: 176.8936\n"
     ]
    },
    {
     "name": "stderr",
     "output_type": "stream",
     "text": [
      "100%|██████████| 313/313 [00:49<00:00, 10.51it/s]\n",
      "  0%|          | 0/1875 [00:00<?, ?it/s]"
     ]
    },
    {
     "name": "stdout",
     "output_type": "stream",
     "text": [
      "Test loss: 175.5571\n"
     ]
    },
    {
     "name": "stderr",
     "output_type": "stream",
     "text": [
      "100%|██████████| 1875/1875 [33:48<00:00,  5.19it/s]    \n",
      "  0%|          | 0/313 [00:00<?, ?it/s]"
     ]
    },
    {
     "name": "stdout",
     "output_type": "stream",
     "text": [
      "Epoch: 6 Train loss: 176.1811\n"
     ]
    },
    {
     "name": "stderr",
     "output_type": "stream",
     "text": [
      "100%|██████████| 313/313 [00:27<00:00, 11.40it/s]\n",
      "  0%|          | 0/1875 [00:00<?, ?it/s]"
     ]
    },
    {
     "name": "stdout",
     "output_type": "stream",
     "text": [
      "Test loss: 175.0856\n"
     ]
    },
    {
     "name": "stderr",
     "output_type": "stream",
     "text": [
      "100%|██████████| 1875/1875 [07:16<00:00,  4.21it/s]\n",
      "  0%|          | 0/313 [00:00<?, ?it/s]"
     ]
    },
    {
     "name": "stdout",
     "output_type": "stream",
     "text": [
      "Epoch: 7 Train loss: 175.8236\n"
     ]
    },
    {
     "name": "stderr",
     "output_type": "stream",
     "text": [
      "100%|██████████| 313/313 [00:32<00:00, 10.84it/s]\n",
      "  0%|          | 0/1875 [00:00<?, ?it/s]"
     ]
    },
    {
     "name": "stdout",
     "output_type": "stream",
     "text": [
      "Test loss: 174.6942\n"
     ]
    },
    {
     "name": "stderr",
     "output_type": "stream",
     "text": [
      "100%|██████████| 1875/1875 [06:38<00:00,  4.94it/s]\n",
      "  0%|          | 0/313 [00:00<?, ?it/s]"
     ]
    },
    {
     "name": "stdout",
     "output_type": "stream",
     "text": [
      "Epoch: 8 Train loss: 175.5170\n"
     ]
    },
    {
     "name": "stderr",
     "output_type": "stream",
     "text": [
      "100%|██████████| 313/313 [00:36<00:00, 11.12it/s]\n",
      "  0%|          | 0/1875 [00:00<?, ?it/s]"
     ]
    },
    {
     "name": "stdout",
     "output_type": "stream",
     "text": [
      "Test loss: 174.6903\n"
     ]
    },
    {
     "name": "stderr",
     "output_type": "stream",
     "text": [
      "100%|██████████| 1875/1875 [07:30<00:00,  4.65it/s]\n",
      "  0%|          | 0/313 [00:00<?, ?it/s]"
     ]
    },
    {
     "name": "stdout",
     "output_type": "stream",
     "text": [
      "Epoch: 9 Train loss: 175.3001\n"
     ]
    },
    {
     "name": "stderr",
     "output_type": "stream",
     "text": [
      "100%|██████████| 313/313 [00:35<00:00, 11.55it/s]\n",
      "  0%|          | 0/1875 [00:00<?, ?it/s]"
     ]
    },
    {
     "name": "stdout",
     "output_type": "stream",
     "text": [
      "Test loss: 174.1828\n"
     ]
    },
    {
     "name": "stderr",
     "output_type": "stream",
     "text": [
      "100%|██████████| 1875/1875 [06:36<00:00,  4.90it/s]\n",
      "  0%|          | 0/313 [00:00<?, ?it/s]"
     ]
    },
    {
     "name": "stdout",
     "output_type": "stream",
     "text": [
      "Epoch: 10 Train loss: 175.0960\n"
     ]
    },
    {
     "name": "stderr",
     "output_type": "stream",
     "text": [
      "100%|██████████| 313/313 [00:28<00:00, 10.93it/s]"
     ]
    },
    {
     "name": "stdout",
     "output_type": "stream",
     "text": [
      "Test loss: 174.2940\n"
     ]
    },
    {
     "name": "stderr",
     "output_type": "stream",
     "text": [
      "\n"
     ]
    }
   ],
   "source": [
    "writer = SummaryWriter()\n",
    "\n",
    "for epoch in range(1, epochs + 1):\n",
    "    train_loss = data_loop(epoch, train_loader, vrnn, device, train_mode=True)\n",
    "    test_loss = data_loop(epoch, test_loader, vrnn, device)\n",
    "\n",
    "    writer.add_scalar('train_loss', train_loss, epoch)\n",
    "    writer.add_scalar('test_loss', test_loss, epoch)\n",
    "\n",
    "    sample = plot_image_from_latent(batch_size)[:, None]\n",
    "    writer.add_images('Image_from_latent', sample, epoch)"
   ]
  },
  {
   "cell_type": "code",
   "execution_count": null,
   "metadata": {
    "collapsed": true
   },
   "outputs": [],
   "source": []
  }
 ],
 "metadata": {
  "kernelspec": {
   "display_name": "Python [conda env:py36]",
   "language": "python",
   "name": "conda-env-py36-py"
  },
  "language_info": {
   "codemirror_mode": {
    "name": "ipython",
    "version": 3
   },
   "file_extension": ".py",
   "mimetype": "text/x-python",
   "name": "python",
   "nbconvert_exporter": "python",
   "pygments_lexer": "ipython3",
   "version": "3.6.8"
  }
 },
 "nbformat": 4,
 "nbformat_minor": 2
}

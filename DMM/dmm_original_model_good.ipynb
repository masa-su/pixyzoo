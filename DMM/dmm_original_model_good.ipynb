{
 "cells": [
  {
   "cell_type": "markdown",
   "metadata": {},
   "source": [
    "# Deep Markov Model\n",
    "* Original paper: Structured Inference Networks for Nonlinear State Space Models (https://arxiv.org/abs/1609.09869)\n",
    "* Original code: https://github.com/clinicalml/dmm"
   ]
  },
  {
   "cell_type": "markdown",
   "metadata": {},
   "source": [
    " ## Deep Markov Model summary\n",
    ">Deep Markov models (DMM), a class of\n",
    "generative models where classic linear emission and transition distributions are replaced with complex multi-layer\n",
    "perceptrons (MLPs).\n"
   ]
  },
  {
   "cell_type": "code",
   "execution_count": 1,
   "metadata": {},
   "outputs": [],
   "source": [
    "from tqdm import tqdm\n",
    "\n",
    "import torch\n",
    "from torch import optim\n",
    "import torch.nn as nn\n",
    "import torch.nn.functional as F\n",
    "from torchvision import transforms, datasets\n",
    "from tensorboardX import SummaryWriter"
   ]
  },
  {
   "cell_type": "code",
   "execution_count": 2,
   "metadata": {},
   "outputs": [
    {
     "data": {
      "text/plain": [
       "<torch._C.Generator at 0x7fc1dd8a7f10>"
      ]
     },
     "execution_count": 2,
     "metadata": {},
     "output_type": "execute_result"
    }
   ],
   "source": [
    "batch_size = 256\n",
    "epochs = 25\n",
    "seed = 1\n",
    "torch.manual_seed(seed)"
   ]
  },
  {
   "cell_type": "code",
   "execution_count": 3,
   "metadata": {},
   "outputs": [],
   "source": [
    "if torch.cuda.is_available():\n",
    "    device = \"cuda\"\n",
    "else:\n",
    "    device = \"cpu\""
   ]
  },
  {
   "cell_type": "code",
   "execution_count": 4,
   "metadata": {},
   "outputs": [],
   "source": [
    "# Experiment Setting\n",
    "# generate MNIST by stacking row images(consider row as time step)\n",
    "def init_dataset(f_batch_size):\n",
    "    kwargs = {'num_workers': 1, 'pin_memory': True}\n",
    "    data_dir = '../data'\n",
    "    mnist_transform = transforms.Compose([\n",
    "        transforms.ToTensor(),\n",
    "        transforms.Lambda(lambda data: data[0])\n",
    "    ])\n",
    "    train_loader = torch.utils.data.DataLoader(\n",
    "        datasets.MNIST(data_dir, train=True, download=True,\n",
    "                       transform=mnist_transform),\n",
    "        batch_size=f_batch_size, shuffle=True, **kwargs)\n",
    "    test_loader = torch.utils.data.DataLoader(\n",
    "        datasets.MNIST(data_dir, train=False, transform=mnist_transform),\n",
    "        batch_size=f_batch_size, shuffle=True, **kwargs)\n",
    "\n",
    "    fixed_t_size = 28\n",
    "    return train_loader, test_loader, fixed_t_size\n",
    "\n",
    "train_loader, test_loader, t_max = init_dataset(batch_size)"
   ]
  },
  {
   "cell_type": "code",
   "execution_count": 5,
   "metadata": {},
   "outputs": [
    {
     "name": "stdout",
     "output_type": "stream",
     "text": [
      "0.1.3\n"
     ]
    }
   ],
   "source": [
    "import pixyz\n",
    "print(pixyz.__version__)"
   ]
  },
  {
   "cell_type": "markdown",
   "metadata": {},
   "source": [
    "## Define probability distributions\n",
    "### In the original paper\n",
    "Prior(Transition model, equation(1) in the paper): $z_{t} \\sim  \\cal{N}\\left(G_{\\alpha}\\left(z_{t-1}, \\Delta_{t}\\right), S_{\\beta}\\left(z_{t-1}, \\Delta_{t}\\right)\\right)$  \n",
    "Generator(Emission, equation(2) in the paper): $x_{t} \\sim \\Pi\\left(F_{\\kappa}\\left(z_{t}\\right)\\right)$  \n",
    "Inference(equation(5) in the paper): $\\begin{aligned} q_{\\phi}\\left(z_{t} | z_{t-1}, x_{t}, \\ldots, x_{T}\\right) = \\mathcal{N}\\left(\\mu_{\\phi}\\left(z_{t-1}, x_{t}, \\ldots, x_{T}\\right),\\right.&\\left.\\Sigma_{\\phi}\\left(z_{t-1}, x_{t}, \\ldots, x_{T}\\right)\\right) \\end{aligned}$\n",
    "\n",
    "### MNIST settings\n",
    "Prior(Transition model): $p_{\\theta}(z_{t} | z_{t-1}) =  \\cal{N}(\\mu = f_{prior_\\mu}(z_{t-1}), \\sigma^2 = f_{prior_\\sigma^2}(z_{t-1})$    \n",
    "Generator(Emission): $p_{\\theta}(x | z)=\\mathscr{B}\\left(x ; \\lambda=g_{x}(z)\\right)$  \n",
    "\n",
    "RNN: $p(h) = RNN(x)$  \n",
    "Inference(Combiner): $p_{\\phi}(z | h, z_{t-1}) = \\cal{N}(\\mu = f_{\\mu}(h, z_{t-1}), \\sigma^2 = f_{\\sigma^2}(h, z_{t-1})$"
   ]
  },
  {
   "cell_type": "code",
   "execution_count": 6,
   "metadata": {},
   "outputs": [],
   "source": [
    "from pixyz.utils import print_latex\n",
    "from pixyz.distributions import Bernoulli, Normal, Deterministic"
   ]
  },
  {
   "cell_type": "code",
   "execution_count": 7,
   "metadata": {},
   "outputs": [],
   "source": [
    "x_dim = 28\n",
    "h_dim = 32\n",
    "hidden_dim = 32\n",
    "z_dim = 16\n",
    "t_max = x_dim"
   ]
  },
  {
   "cell_type": "code",
   "execution_count": 8,
   "metadata": {},
   "outputs": [],
   "source": [
    "# RNN\n",
    "class RNN(Deterministic):\n",
    "    \"\"\"\n",
    "    h = RNN(x)\n",
    "    Given observed x, RNN output hidden state\n",
    "    \"\"\"\n",
    "    def __init__(self):\n",
    "        super(RNN, self).__init__(cond_var=[\"x\"], var=[\"h\"])\n",
    "        self.rnn = nn.GRU(x_dim, h_dim, bidirectional=True)\n",
    "#         self.h0 = torch.zeros(2, batch_size, self.rnn.hidden_size).to(device)\n",
    "        self.h0 = nn.Parameter(torch.zeros(2, 1, self.rnn.hidden_size))\n",
    "        self.hidden_size = self.rnn.hidden_size\n",
    "        \n",
    "    def forward(self, x):\n",
    "        # if on gpu we need the fully broadcast view of the rnn initial state\n",
    "        # to be in contiguous gpu memory\n",
    "        # x(Batch_size, Time, Features)\n",
    "        h0 = self.h0.expand(2, x.size(1), self.rnn.hidden_size).contiguous()\n",
    "        h, _ = self.rnn(x, h0)\n",
    "        return {\"h\": h}"
   ]
  },
  {
   "cell_type": "code",
   "execution_count": 9,
   "metadata": {},
   "outputs": [],
   "source": [
    "# Emission p(x_t | z_t)\n",
    "class Generator(Bernoulli):\n",
    "    \"\"\"\n",
    "    Given the latent z at time step t, return the vector of\n",
    "    probabilities that parameterizes the bernlulli distribution p(x_t | x_t)\n",
    "    \"\"\"\n",
    "    def __init__(self):\n",
    "        super(Generator, self).__init__(cond_var=[\"z\"], var=[\"x\"])\n",
    "        self.fc1 = nn.Linear(z_dim, hidden_dim)\n",
    "        self.fc2 = nn.Linear(hidden_dim, x_dim)\n",
    "    \n",
    "    def forward(self, z):\n",
    "        h = F.relu(self.fc1(z))\n",
    "        return {\"probs\": torch.sigmoid(self.fc2(h))}"
   ]
  },
  {
   "cell_type": "code",
   "execution_count": 10,
   "metadata": {},
   "outputs": [],
   "source": [
    "# Combiner q(z_t | z_{t-1}, x_{1:T})\n",
    "class Inference(Normal):\n",
    "    \"\"\"\n",
    "    given the latent z at time step t-1 and the hidden state of the RNN h(x_{0:T} \n",
    "    return the loc and scale vectors that\n",
    "    parameterize the gaussian distribution q(z_t | z_{t-1}, x_{t:T})\n",
    "    \"\"\"\n",
    "    def __init__(self):\n",
    "        super(Inference, self).__init__(cond_var=[\"h\", \"z_prev\"], var=[\"z\"])\n",
    "        self.fc1 = nn.Linear(z_dim, h_dim*2)\n",
    "        self.fc21 = nn.Linear(h_dim*2, z_dim)\n",
    "        self.fc22 = nn.Linear(h_dim*2, z_dim)\n",
    "\n",
    "        \n",
    "    def forward(self, h, z_prev):\n",
    "        h_z = torch.tanh(self.fc1(z_prev))\n",
    "        h = 0.5 * (h + h_z)\n",
    "        return {\"loc\": self.fc21(h), \"scale\": F.softplus(self.fc22(h))}"
   ]
  },
  {
   "cell_type": "code",
   "execution_count": 11,
   "metadata": {},
   "outputs": [],
   "source": [
    "# Transition model p(z_t | z_{t-1})\n",
    "class Prior(Normal):\n",
    "    \"\"\"\n",
    "    Given the latent variable at the time step t-1\n",
    "    return the mean and scale vectors that parameterize the\n",
    "    gaussian distribution p(z_t | z_{t-1})\n",
    "    \"\"\"\n",
    "    def __init__(self):\n",
    "        super(Prior, self).__init__(cond_var=[\"z_prev\"], var=[\"z\"])\n",
    "        self.fc1 = nn.Linear(z_dim, hidden_dim)\n",
    "        self.fc21 = nn.Linear(hidden_dim, z_dim)\n",
    "        self.fc22 = nn.Linear(hidden_dim, z_dim)\n",
    "        \n",
    "    def forward(self, z_prev):\n",
    "        h = F.relu(self.fc1(z_prev))\n",
    "        return {\"loc\": self.fc21(h), \"scale\": F.softplus(self.fc22(h))}"
   ]
  },
  {
   "cell_type": "code",
   "execution_count": 12,
   "metadata": {},
   "outputs": [],
   "source": [
    "prior = Prior().to(device)\n",
    "encoder = Inference().to(device)\n",
    "decoder = Generator().to(device)\n",
    "rnn = RNN().to(device)"
   ]
  },
  {
   "cell_type": "code",
   "execution_count": 13,
   "metadata": {},
   "outputs": [
    {
     "name": "stdout",
     "output_type": "stream",
     "text": [
      "Distribution:\n",
      "  p(z|z_{prev})\n",
      "Network architecture:\n",
      "  Prior(\n",
      "    name=p, distribution_name=Normal,\n",
      "    var=['z'], cond_var=['z_prev'], input_var=['z_prev'], features_shape=torch.Size([])\n",
      "    (fc1): Linear(in_features=16, out_features=32, bias=True)\n",
      "    (fc21): Linear(in_features=32, out_features=16, bias=True)\n",
      "    (fc22): Linear(in_features=32, out_features=16, bias=True)\n",
      "  )\n",
      "********************************************************************************\n",
      "Distribution:\n",
      "  p(z|h,z_{prev})\n",
      "Network architecture:\n",
      "  Inference(\n",
      "    name=p, distribution_name=Normal,\n",
      "    var=['z'], cond_var=['h', 'z_prev'], input_var=['h', 'z_prev'], features_shape=torch.Size([])\n",
      "    (fc1): Linear(in_features=16, out_features=64, bias=True)\n",
      "    (fc21): Linear(in_features=64, out_features=16, bias=True)\n",
      "    (fc22): Linear(in_features=64, out_features=16, bias=True)\n",
      "  )\n",
      "********************************************************************************\n",
      "Distribution:\n",
      "  p(x|z)\n",
      "Network architecture:\n",
      "  Generator(\n",
      "    name=p, distribution_name=Bernoulli,\n",
      "    var=['x'], cond_var=['z'], input_var=['z'], features_shape=torch.Size([])\n",
      "    (fc1): Linear(in_features=16, out_features=32, bias=True)\n",
      "    (fc2): Linear(in_features=32, out_features=28, bias=True)\n",
      "  )\n",
      "********************************************************************************\n",
      "Distribution:\n",
      "  p(h|x)\n",
      "Network architecture:\n",
      "  RNN(\n",
      "    name=p, distribution_name=Deterministic,\n",
      "    var=['h'], cond_var=['x'], input_var=['x'], features_shape=torch.Size([])\n",
      "    (rnn): GRU(28, 32, bidirectional=True)\n",
      "  )\n"
     ]
    }
   ],
   "source": [
    "print(prior)\n",
    "print(\"*\"*80)\n",
    "print(encoder)\n",
    "print(\"*\"*80)\n",
    "print(decoder)\n",
    "print(\"*\"*80)\n",
    "print(rnn)"
   ]
  },
  {
   "cell_type": "code",
   "execution_count": 14,
   "metadata": {},
   "outputs": [
    {
     "name": "stdout",
     "output_type": "stream",
     "text": [
      "Distribution:\n",
      "  p(x,z|z_{prev}) = p(x|z)p(z|z_{prev})\n",
      "Network architecture:\n",
      "  Prior(\n",
      "    name=p, distribution_name=Normal,\n",
      "    var=['z'], cond_var=['z_prev'], input_var=['z_prev'], features_shape=torch.Size([])\n",
      "    (fc1): Linear(in_features=16, out_features=32, bias=True)\n",
      "    (fc21): Linear(in_features=32, out_features=16, bias=True)\n",
      "    (fc22): Linear(in_features=32, out_features=16, bias=True)\n",
      "  )\n",
      "  Generator(\n",
      "    name=p, distribution_name=Bernoulli,\n",
      "    var=['x'], cond_var=['z'], input_var=['z'], features_shape=torch.Size([])\n",
      "    (fc1): Linear(in_features=16, out_features=32, bias=True)\n",
      "    (fc2): Linear(in_features=32, out_features=28, bias=True)\n",
      "  )\n"
     ]
    },
    {
     "data": {
      "text/latex": [
       "$$p(x,z|z_{prev}) = p(x|z)p(z|z_{prev})$$"
      ],
      "text/plain": [
       "<IPython.core.display.Math object>"
      ]
     },
     "execution_count": 14,
     "metadata": {},
     "output_type": "execute_result"
    }
   ],
   "source": [
    "generate_from_prior = prior * decoder\n",
    "print(generate_from_prior)\n",
    "print_latex(generate_from_prior)"
   ]
  },
  {
   "cell_type": "markdown",
   "metadata": {},
   "source": [
    "## Define Loss function\n",
    "### In the original paper(equation (6) in the paper)\n",
    "${\\mathcal{L}(\\vec{x} ;(\\theta, \\phi))=\\sum_{t=1}^{T} \\underset{q_{\\phi}\\left(z_{t} | \\vec{x}\\right)}{\\mathbb{E}}\\left[\\log p_{\\theta}\\left(x_{t} | z_{t}\\right)\\right]} {-\\operatorname{KL}\\left(q_{\\phi}\\left(z_{1} | \\vec{x}\\right) | p_{\\theta}\\left(z_{1}\\right)\\right)}  {-\\sum_{t=2}^{T} \\underset{q_{\\phi}\\left(z_{t-1} | \\vec{x}\\right)}{\\mathbb{E}}\\left[\\operatorname{KL}\\left(q_{\\phi}\\left(z_{t} | z_{t-1}\\vec{x}\\right) | p_{\\theta}\\left(z_{t} | z_{t-1}\\right)\\right)\\right]}$"
   ]
  },
  {
   "cell_type": "code",
   "execution_count": 15,
   "metadata": {},
   "outputs": [],
   "source": [
    "from pixyz.losses import KullbackLeibler\n",
    "from pixyz.losses import Expectation as E\n",
    "from pixyz.losses import LogProb\n",
    "from pixyz.losses import IterativeLoss"
   ]
  },
  {
   "cell_type": "code",
   "execution_count": 16,
   "metadata": {},
   "outputs": [
    {
     "data": {
      "text/latex": [
       "$$mean \\left(\\mathbb{E}_{p(h|x)} \\left[\\sum_{t=1}^{28} \\left(D_{KL} \\left[p(z|h,z_{prev})||p(z|z_{prev}) \\right] - \\mathbb{E}_{p(z|h,z_{prev})} \\left[\\log p(x|z) \\right]\\right) \\right] \\right)$$"
      ],
      "text/plain": [
       "<IPython.core.display.Math object>"
      ]
     },
     "execution_count": 16,
     "metadata": {},
     "output_type": "execute_result"
    }
   ],
   "source": [
    "step_loss = - E(encoder, LogProb(decoder)) + KullbackLeibler(encoder, prior)\n",
    "_loss = IterativeLoss(step_loss, max_iter=t_max, \n",
    "                      series_var=[\"x\", \"h\"], update_value={\"z\": \"z_prev\"})\n",
    "loss = E(rnn, _loss).mean()\n",
    "print_latex(loss)"
   ]
  },
  {
   "cell_type": "code",
   "execution_count": 17,
   "metadata": {},
   "outputs": [
    {
     "data": {
      "text/latex": [
       "$$mean \\left(\\mathbb{E}_{p(h|x)} \\left[D_{KL} \\left[p(z|h,z_{prev})||p(z|z_{prev}) \\right] - \\mathbb{E}_{p(z|h,z_{prev})} \\left[\\log p(x|z) \\right] \\right] \\right)$$"
      ],
      "text/plain": [
       "<IPython.core.display.Math object>"
      ]
     },
     "execution_count": 17,
     "metadata": {},
     "output_type": "execute_result"
    }
   ],
   "source": [
    "step_loss = - E(encoder, LogProb(decoder)) + KullbackLeibler(encoder, prior)\n",
    "# _loss = IterativeLoss(step_loss, max_iter=t_max, \n",
    "#                       series_var=[\"x\", \"h\"], update_value={\"z\": \"z_prev\"})\n",
    "loss = E(rnn, step_loss).mean()\n",
    "print_latex(loss)"
   ]
  },
  {
   "cell_type": "code",
   "execution_count": 18,
   "metadata": {},
   "outputs": [],
   "source": [
    "from pixyz.models import Model\n",
    "\n",
    "class DMM(Model):\n",
    "    def __init__(self,\n",
    "                 optimizer=optim.Adam,\n",
    "                 optimizer_params={},\n",
    "                 clip_grad_norm=None,\n",
    "                 clip_grad_value=None):\n",
    "        \"\"\"\n",
    "        Parameters\n",
    "        ----------\n",
    "        loss : pixyz.losses.Loss\n",
    "            Loss class for training.\n",
    "        test_loss : pixyz.losses.Loss\n",
    "            Loss class for testing.\n",
    "        distributions : list\n",
    "            List of :class:`pixyz.distributions.Distribution`.\n",
    "        optimizer : torch.optim\n",
    "            Optimization algorithm.\n",
    "        optimizer_params : dict\n",
    "            Parameters of optimizer\n",
    "        clip_grad_norm : float or int\n",
    "            Maximum allowed norm of the gradients.\n",
    "        clip_grad_value : float or int\n",
    "            Maximum allowed value of the gradients.\n",
    "        \"\"\"\n",
    "        self.prior = Prior().to(device)\n",
    "        self.encoder = Inference().to(device)\n",
    "        self.decoder = Generator().to(device)\n",
    "        self.rnn = RNN().to(device)\n",
    "        \n",
    "        self.reconst_loss = E(self.encoder, LogProb(self.decoder))\n",
    "        self.kl_loss = KullbackLeibler(self.encoder, self.prior)\n",
    "        \n",
    "        self.step_loss = self.kl_loss - self.reconst_loss\n",
    "        \n",
    "        distributions = [self.prior, self.encoder, self.decoder, self.rnn]\n",
    "        self.distributions = nn.ModuleList(distributions)\n",
    "\n",
    "        # set params and optim\n",
    "        params = self.distributions.parameters()\n",
    "        self.optimizer = optimizer(params, **optimizer_params)\n",
    "\n",
    "        self.clip_norm = clip_grad_norm\n",
    "        self.clip_value = clip_grad_value\n",
    "        \n",
    "        \n",
    "    \n",
    "    def calculate_loss(self, input_var_dict={}):        \n",
    "        batch_size = input_var_dict['x'].size()[1]\n",
    "        # time_dimension = input_var_dict['x'].size()[0]\n",
    "        \n",
    "        z_prev = torch.zeros(batch_size, z_dim).to(device)\n",
    "        \n",
    "        \"\"\"\n",
    "        # Without IterativeLoss\n",
    "        total_loss = 0\n",
    "        for t in range(t_max):\n",
    "            h_t = h[t]\n",
    "            step_loss, samples = self.step_loss.eval({'x': x_t, 'z_prev': z_prev}, return_dict=True)\n",
    "            total_loss += step_loss\n",
    "            z_prev = samples[\"z\"]\n",
    "        \"\"\"\n",
    "            \n",
    "        # With IterativeLoss            \n",
    "        _loss = IterativeLoss(self.step_loss, max_iter=t_max,\n",
    "                             series_var=['x', 'h'],\n",
    "                             update_value={\"z\": \"z_prev\"})\n",
    "        loss = E(self.rnn, _loss).mean()\n",
    "        total_loss = loss.eval({'x': input_var_dict['x'], 'z_prev': z_prev})\n",
    "        \n",
    "        return total_loss\n",
    "    \n",
    "    def train(self, train_x_dict={}):\n",
    "        \"\"\"Train the model.\n",
    "\n",
    "        Parameters\n",
    "        ----------\n",
    "        train_x_dict : dict\n",
    "            Input data.\n",
    "        **kwargs\n",
    "\n",
    "        Returns\n",
    "        -------\n",
    "        loss : torch.Tensor\n",
    "            Train loss value\n",
    "\n",
    "        \"\"\"\n",
    "        self.distributions.train()\n",
    "\n",
    "        self.optimizer.zero_grad()\n",
    "        loss = self.calculate_loss(train_x_dict)\n",
    "\n",
    "        # backprop\n",
    "        loss.backward()\n",
    "\n",
    "        if self.clip_norm:\n",
    "            clip_grad_norm_(self.distributions.parameters(), self.clip_norm)\n",
    "        if self.clip_value:\n",
    "            clip_grad_value_(self.distributions.parameters(), self.clip_value)\n",
    "\n",
    "        # update params\n",
    "        self.optimizer.step()\n",
    "\n",
    "        return loss.item()\n",
    "    \n",
    "    def test(self, test_x_dict={}):\n",
    "        \"\"\"Test the model.\n",
    "\n",
    "        Parameters\n",
    "        ----------\n",
    "        test_x_dict : dict\n",
    "            Input data\n",
    "        **kwargs\n",
    "\n",
    "        Returns\n",
    "        -------\n",
    "        loss : torch.Tensor\n",
    "            Test loss value\n",
    "\n",
    "        \"\"\"\n",
    "        self.distributions.eval()\n",
    "\n",
    "        with torch.no_grad():\n",
    "            loss = self.calculate_loss(test_x_dict)\n",
    "\n",
    "        return loss.item()\n",
    "    \n",
    "    def generate_image_after_nsteps(self, n_step_num, original_data):\n",
    "        self.distributions.eval()\n",
    "        with torch.no_grad():\n",
    "            xs = []\n",
    "            x = original_data.transpose(0, 1)\n",
    "            batch_size = original_data.size()[0]\n",
    "            z_prev = torch.zeros(batch_size, z_dim).to(device)\n",
    "            h = self.rnn.sample_mean({'x': x})\n",
    "            for t in range(t_max):\n",
    "                if t < n_step_num - 1:\n",
    "                    # before n_step, reconstruct\n",
    "                    h_t = h[t]\n",
    "                    z_t = self.encoder.sample_mean({'h': h_t, 'z_prev': z_prev})\n",
    "                    dec_x = self.decoder.sample_mean({'z': z_t})\n",
    "                    z_prev = z_t\n",
    "                    xs.append(dec_x[None, :])\n",
    "                else:\n",
    "                    # generate\n",
    "                    z_t = self.prior.sample({'z_prev': z_prev})[\"z\"]\n",
    "                    dec_x = self.decoder.sample_mean({'z': z_t})\n",
    "                    z_prev = z_t\n",
    "                    xs.append(dec_x[None, :])\n",
    "            generated_img = torch.cat(xs, dim=0).transpose(0, 1)\n",
    "        return generated_img\n",
    "\n",
    "    def reconst_image(self, original_data):\n",
    "        self.distributions.eval()\n",
    "        with torch.no_grad():\n",
    "            xs = []\n",
    "            x = original_data.transpose(0, 1)\n",
    "            batch_size = original_data.size()[0]\n",
    "            z_prev = torch.zeros(batch_size, z_dim).to(device)\n",
    "            h = self.rnn.sample_mean({'x': x})\n",
    "            for t in range(t_max):\n",
    "                h_t = h[t]\n",
    "                z_t = self.encoder.sample_mean({'h': h_t, 'z_prev': z_prev})\n",
    "                dec_x = self.decoder.sample_mean({'z': z_t})\n",
    "                z_prev = z_t\n",
    "                xs.append(dec_x[None, :])\n",
    "            recon_img = torch.cat(xs, dim=0).transpose(0, 1)\n",
    "        return recon_img\n",
    "\n",
    "    def plot_image_from_latent(self, batch_size):\n",
    "        self.distributions.eval()\n",
    "        with torch.no_grad():\n",
    "            xs = []\n",
    "            z_prev = torch.zeros(batch_size, z_dim).to(device)\n",
    "            for step in range(t_max):\n",
    "                z_t = self.prior.sample({'z_prev': z_prev})['z']\n",
    "                dec_x = self.decoder.sample_mean({'z': z_t})\n",
    "                z_prev = z_t\n",
    "                xs.append(dec_x[None, :])\n",
    "            plotted_image = torch.cat(xs, dim=0).transpose(0, 1)\n",
    "        return plotted_image"
   ]
  },
  {
   "cell_type": "code",
   "execution_count": 19,
   "metadata": {},
   "outputs": [],
   "source": [
    " _x, _ = iter(test_loader).next()\n",
    "fixed_batch = _x.to(device)\n",
    "batch_size = fixed_batch.size()[0]\n",
    "sequential_x = fixed_batch.transpose(0, 1)"
   ]
  },
  {
   "cell_type": "code",
   "execution_count": 20,
   "metadata": {},
   "outputs": [
    {
     "data": {
      "text/plain": [
       "tensor(600.5259, device='cuda:0', grad_fn=<MeanBackward0>)"
      ]
     },
     "execution_count": 20,
     "metadata": {},
     "output_type": "execute_result"
    }
   ],
   "source": [
    "dmm = DMM()\n",
    "dmm.calculate_loss(input_var_dict={'x': sequential_x})"
   ]
  },
  {
   "cell_type": "markdown",
   "metadata": {},
   "source": [
    "## Define DMM model using Model class"
   ]
  },
  {
   "cell_type": "markdown",
   "metadata": {},
   "source": [
    "## Define Train and Test loop using model"
   ]
  },
  {
   "cell_type": "code",
   "execution_count": 21,
   "metadata": {},
   "outputs": [],
   "source": [
    "def data_loop(epoch, loader, model, device, train_mode=False):\n",
    "    mean_loss = 0\n",
    "    for batch_idx, (data, _) in enumerate(tqdm(loader)):\n",
    "        data = data.to(device)\n",
    "        batch_size = data.size()[0]\n",
    "        x = data.transpose(0, 1)\n",
    "        z_prev = torch.zeros(batch_size, z_dim).to(device)\n",
    "        #q_z_prev = torch.zeros(batch_size, z_dim).to(device)\n",
    "        if train_mode:\n",
    "            mean_loss += model.train({'x': x, 'z_prev': z_prev}) * batch_size\n",
    "        else:\n",
    "            mean_loss += model.test({'x': x, 'z_prev': z_prev}) * batch_size\n",
    "    mean_loss /= len(loader.dataset)\n",
    "    if train_mode:\n",
    "        print('Epoch: {} Train loss: {:.4f}'.format(epoch, mean_loss))\n",
    "    else:\n",
    "        print('Test loss: {:.4f}'.format(mean_loss))\n",
    "    return mean_loss"
   ]
  },
  {
   "cell_type": "code",
   "execution_count": 22,
   "metadata": {},
   "outputs": [
    {
     "name": "stderr",
     "output_type": "stream",
     "text": [
      "100%|██████████| 235/235 [00:34<00:00,  6.88it/s]\n",
      "  0%|          | 0/40 [00:00<?, ?it/s]"
     ]
    },
    {
     "name": "stdout",
     "output_type": "stream",
     "text": [
      "Epoch: 1 Train loss: 241.9602\n"
     ]
    },
    {
     "name": "stderr",
     "output_type": "stream",
     "text": [
      "100%|██████████| 40/40 [00:02<00:00, 14.54it/s]\n"
     ]
    },
    {
     "name": "stdout",
     "output_type": "stream",
     "text": [
      "Test loss: 174.9231\n"
     ]
    },
    {
     "name": "stderr",
     "output_type": "stream",
     "text": [
      "100%|██████████| 235/235 [00:34<00:00,  6.86it/s]\n",
      "  0%|          | 0/40 [00:00<?, ?it/s]"
     ]
    },
    {
     "name": "stdout",
     "output_type": "stream",
     "text": [
      "Epoch: 2 Train loss: 156.8226\n"
     ]
    },
    {
     "name": "stderr",
     "output_type": "stream",
     "text": [
      "100%|██████████| 40/40 [00:02<00:00, 13.37it/s]\n"
     ]
    },
    {
     "name": "stdout",
     "output_type": "stream",
     "text": [
      "Test loss: 144.5665\n"
     ]
    },
    {
     "name": "stderr",
     "output_type": "stream",
     "text": [
      "100%|██████████| 235/235 [00:34<00:00,  6.86it/s]\n",
      "  0%|          | 0/40 [00:00<?, ?it/s]"
     ]
    },
    {
     "name": "stdout",
     "output_type": "stream",
     "text": [
      "Epoch: 3 Train loss: 139.5204\n"
     ]
    },
    {
     "name": "stderr",
     "output_type": "stream",
     "text": [
      "100%|██████████| 40/40 [00:02<00:00, 14.28it/s]\n"
     ]
    },
    {
     "name": "stdout",
     "output_type": "stream",
     "text": [
      "Test loss: 133.8730\n"
     ]
    },
    {
     "name": "stderr",
     "output_type": "stream",
     "text": [
      "100%|██████████| 235/235 [00:33<00:00,  6.93it/s]\n",
      "  0%|          | 0/40 [00:00<?, ?it/s]"
     ]
    },
    {
     "name": "stdout",
     "output_type": "stream",
     "text": [
      "Epoch: 4 Train loss: 132.8676\n"
     ]
    },
    {
     "name": "stderr",
     "output_type": "stream",
     "text": [
      "100%|██████████| 40/40 [00:02<00:00, 15.28it/s]\n"
     ]
    },
    {
     "name": "stdout",
     "output_type": "stream",
     "text": [
      "Test loss: 129.7791\n"
     ]
    },
    {
     "name": "stderr",
     "output_type": "stream",
     "text": [
      "100%|██████████| 235/235 [00:34<00:00,  6.87it/s]\n",
      "  0%|          | 0/40 [00:00<?, ?it/s]"
     ]
    },
    {
     "name": "stdout",
     "output_type": "stream",
     "text": [
      "Epoch: 5 Train loss: 129.5975\n"
     ]
    },
    {
     "name": "stderr",
     "output_type": "stream",
     "text": [
      "100%|██████████| 40/40 [00:02<00:00, 15.29it/s]\n"
     ]
    },
    {
     "name": "stdout",
     "output_type": "stream",
     "text": [
      "Test loss: 127.6434\n"
     ]
    },
    {
     "name": "stderr",
     "output_type": "stream",
     "text": [
      "100%|██████████| 235/235 [00:33<00:00,  7.01it/s]\n",
      "  0%|          | 0/40 [00:00<?, ?it/s]"
     ]
    },
    {
     "name": "stdout",
     "output_type": "stream",
     "text": [
      "Epoch: 6 Train loss: 127.2680\n"
     ]
    },
    {
     "name": "stderr",
     "output_type": "stream",
     "text": [
      "100%|██████████| 40/40 [00:02<00:00, 13.58it/s]\n"
     ]
    },
    {
     "name": "stdout",
     "output_type": "stream",
     "text": [
      "Test loss: 125.6527\n"
     ]
    },
    {
     "name": "stderr",
     "output_type": "stream",
     "text": [
      "100%|██████████| 235/235 [00:34<00:00,  6.79it/s]\n",
      "  0%|          | 0/40 [00:00<?, ?it/s]"
     ]
    },
    {
     "name": "stdout",
     "output_type": "stream",
     "text": [
      "Epoch: 7 Train loss: 125.5457\n"
     ]
    },
    {
     "name": "stderr",
     "output_type": "stream",
     "text": [
      "100%|██████████| 40/40 [00:02<00:00, 14.73it/s]\n"
     ]
    },
    {
     "name": "stdout",
     "output_type": "stream",
     "text": [
      "Test loss: 124.0644\n"
     ]
    },
    {
     "name": "stderr",
     "output_type": "stream",
     "text": [
      "100%|██████████| 235/235 [00:34<00:00,  6.89it/s]\n",
      "  0%|          | 0/40 [00:00<?, ?it/s]"
     ]
    },
    {
     "name": "stdout",
     "output_type": "stream",
     "text": [
      "Epoch: 8 Train loss: 124.2994\n"
     ]
    },
    {
     "name": "stderr",
     "output_type": "stream",
     "text": [
      "100%|██████████| 40/40 [00:02<00:00, 14.16it/s]\n"
     ]
    },
    {
     "name": "stdout",
     "output_type": "stream",
     "text": [
      "Test loss: 123.6804\n"
     ]
    },
    {
     "name": "stderr",
     "output_type": "stream",
     "text": [
      "100%|██████████| 235/235 [00:34<00:00,  6.88it/s]\n",
      "  0%|          | 0/40 [00:00<?, ?it/s]"
     ]
    },
    {
     "name": "stdout",
     "output_type": "stream",
     "text": [
      "Epoch: 9 Train loss: 123.3705\n"
     ]
    },
    {
     "name": "stderr",
     "output_type": "stream",
     "text": [
      "100%|██████████| 40/40 [00:02<00:00, 15.07it/s]\n"
     ]
    },
    {
     "name": "stdout",
     "output_type": "stream",
     "text": [
      "Test loss: 122.1760\n"
     ]
    },
    {
     "name": "stderr",
     "output_type": "stream",
     "text": [
      "100%|██████████| 235/235 [00:33<00:00,  6.93it/s]\n",
      "  0%|          | 0/40 [00:00<?, ?it/s]"
     ]
    },
    {
     "name": "stdout",
     "output_type": "stream",
     "text": [
      "Epoch: 10 Train loss: 122.4995\n"
     ]
    },
    {
     "name": "stderr",
     "output_type": "stream",
     "text": [
      "100%|██████████| 40/40 [00:02<00:00, 15.59it/s]\n"
     ]
    },
    {
     "name": "stdout",
     "output_type": "stream",
     "text": [
      "Test loss: 121.2313\n"
     ]
    },
    {
     "name": "stderr",
     "output_type": "stream",
     "text": [
      "100%|██████████| 235/235 [00:33<00:00,  6.99it/s]\n",
      "  0%|          | 0/40 [00:00<?, ?it/s]"
     ]
    },
    {
     "name": "stdout",
     "output_type": "stream",
     "text": [
      "Epoch: 11 Train loss: 121.8245\n"
     ]
    },
    {
     "name": "stderr",
     "output_type": "stream",
     "text": [
      "100%|██████████| 40/40 [00:02<00:00, 14.83it/s]\n"
     ]
    },
    {
     "name": "stdout",
     "output_type": "stream",
     "text": [
      "Test loss: 121.0417\n"
     ]
    },
    {
     "name": "stderr",
     "output_type": "stream",
     "text": [
      "100%|██████████| 235/235 [00:33<00:00,  6.97it/s]\n",
      "  0%|          | 0/40 [00:00<?, ?it/s]"
     ]
    },
    {
     "name": "stdout",
     "output_type": "stream",
     "text": [
      "Epoch: 12 Train loss: 121.3876\n"
     ]
    },
    {
     "name": "stderr",
     "output_type": "stream",
     "text": [
      "100%|██████████| 40/40 [00:02<00:00, 14.95it/s]\n"
     ]
    },
    {
     "name": "stdout",
     "output_type": "stream",
     "text": [
      "Test loss: 120.2135\n"
     ]
    },
    {
     "name": "stderr",
     "output_type": "stream",
     "text": [
      "100%|██████████| 235/235 [00:34<00:00,  6.87it/s]\n",
      "  0%|          | 0/40 [00:00<?, ?it/s]"
     ]
    },
    {
     "name": "stdout",
     "output_type": "stream",
     "text": [
      "Epoch: 13 Train loss: 120.8118\n"
     ]
    },
    {
     "name": "stderr",
     "output_type": "stream",
     "text": [
      "100%|██████████| 40/40 [00:03<00:00, 13.25it/s]\n"
     ]
    },
    {
     "name": "stdout",
     "output_type": "stream",
     "text": [
      "Test loss: 119.6426\n"
     ]
    },
    {
     "name": "stderr",
     "output_type": "stream",
     "text": [
      "100%|██████████| 235/235 [00:34<00:00,  6.85it/s]\n",
      "  0%|          | 0/40 [00:00<?, ?it/s]"
     ]
    },
    {
     "name": "stdout",
     "output_type": "stream",
     "text": [
      "Epoch: 14 Train loss: 120.5697\n"
     ]
    },
    {
     "name": "stderr",
     "output_type": "stream",
     "text": [
      "100%|██████████| 40/40 [00:02<00:00, 13.96it/s]\n"
     ]
    },
    {
     "name": "stdout",
     "output_type": "stream",
     "text": [
      "Test loss: 119.0193\n"
     ]
    },
    {
     "name": "stderr",
     "output_type": "stream",
     "text": [
      "100%|██████████| 235/235 [00:34<00:00,  6.84it/s]\n",
      "  0%|          | 0/40 [00:00<?, ?it/s]"
     ]
    },
    {
     "name": "stdout",
     "output_type": "stream",
     "text": [
      "Epoch: 15 Train loss: 120.1707\n"
     ]
    },
    {
     "name": "stderr",
     "output_type": "stream",
     "text": [
      "100%|██████████| 40/40 [00:02<00:00, 14.40it/s]\n"
     ]
    },
    {
     "name": "stdout",
     "output_type": "stream",
     "text": [
      "Test loss: 118.6662\n"
     ]
    },
    {
     "name": "stderr",
     "output_type": "stream",
     "text": [
      "100%|██████████| 235/235 [00:33<00:00,  6.98it/s]\n",
      "  0%|          | 0/40 [00:00<?, ?it/s]"
     ]
    },
    {
     "name": "stdout",
     "output_type": "stream",
     "text": [
      "Epoch: 16 Train loss: 119.8397\n"
     ]
    },
    {
     "name": "stderr",
     "output_type": "stream",
     "text": [
      "100%|██████████| 40/40 [00:02<00:00, 13.60it/s]\n"
     ]
    },
    {
     "name": "stdout",
     "output_type": "stream",
     "text": [
      "Test loss: 118.4765\n"
     ]
    },
    {
     "name": "stderr",
     "output_type": "stream",
     "text": [
      "100%|██████████| 235/235 [00:34<00:00,  6.83it/s]\n",
      "  0%|          | 0/40 [00:00<?, ?it/s]"
     ]
    },
    {
     "name": "stdout",
     "output_type": "stream",
     "text": [
      "Epoch: 17 Train loss: 119.5151\n"
     ]
    },
    {
     "name": "stderr",
     "output_type": "stream",
     "text": [
      "100%|██████████| 40/40 [00:02<00:00, 15.45it/s]\n"
     ]
    },
    {
     "name": "stdout",
     "output_type": "stream",
     "text": [
      "Test loss: 118.4786\n"
     ]
    },
    {
     "name": "stderr",
     "output_type": "stream",
     "text": [
      "100%|██████████| 235/235 [00:33<00:00,  7.00it/s]\n",
      "  0%|          | 0/40 [00:00<?, ?it/s]"
     ]
    },
    {
     "name": "stdout",
     "output_type": "stream",
     "text": [
      "Epoch: 18 Train loss: 119.3542\n"
     ]
    },
    {
     "name": "stderr",
     "output_type": "stream",
     "text": [
      "100%|██████████| 40/40 [00:02<00:00, 14.04it/s]\n"
     ]
    },
    {
     "name": "stdout",
     "output_type": "stream",
     "text": [
      "Test loss: 118.2453\n"
     ]
    },
    {
     "name": "stderr",
     "output_type": "stream",
     "text": [
      "100%|██████████| 235/235 [00:33<00:00,  7.00it/s]\n",
      "  0%|          | 0/40 [00:00<?, ?it/s]"
     ]
    },
    {
     "name": "stdout",
     "output_type": "stream",
     "text": [
      "Epoch: 19 Train loss: 119.1043\n"
     ]
    },
    {
     "name": "stderr",
     "output_type": "stream",
     "text": [
      "100%|██████████| 40/40 [00:02<00:00, 15.38it/s]\n"
     ]
    },
    {
     "name": "stdout",
     "output_type": "stream",
     "text": [
      "Test loss: 118.0624\n"
     ]
    },
    {
     "name": "stderr",
     "output_type": "stream",
     "text": [
      "100%|██████████| 235/235 [00:33<00:00,  7.03it/s]\n",
      "  0%|          | 0/40 [00:00<?, ?it/s]"
     ]
    },
    {
     "name": "stdout",
     "output_type": "stream",
     "text": [
      "Epoch: 20 Train loss: 119.0036\n"
     ]
    },
    {
     "name": "stderr",
     "output_type": "stream",
     "text": [
      "100%|██████████| 40/40 [00:02<00:00, 15.40it/s]\n"
     ]
    },
    {
     "name": "stdout",
     "output_type": "stream",
     "text": [
      "Test loss: 117.9668\n"
     ]
    },
    {
     "name": "stderr",
     "output_type": "stream",
     "text": [
      "100%|██████████| 235/235 [00:33<00:00,  7.03it/s]\n",
      "  0%|          | 0/40 [00:00<?, ?it/s]"
     ]
    },
    {
     "name": "stdout",
     "output_type": "stream",
     "text": [
      "Epoch: 21 Train loss: 118.8365\n"
     ]
    },
    {
     "name": "stderr",
     "output_type": "stream",
     "text": [
      "100%|██████████| 40/40 [00:02<00:00, 14.16it/s]\n"
     ]
    },
    {
     "name": "stdout",
     "output_type": "stream",
     "text": [
      "Test loss: 117.7396\n"
     ]
    },
    {
     "name": "stderr",
     "output_type": "stream",
     "text": [
      "100%|██████████| 235/235 [00:34<00:00,  6.75it/s]\n",
      "  0%|          | 0/40 [00:00<?, ?it/s]"
     ]
    },
    {
     "name": "stdout",
     "output_type": "stream",
     "text": [
      "Epoch: 22 Train loss: 118.6330\n"
     ]
    },
    {
     "name": "stderr",
     "output_type": "stream",
     "text": [
      "100%|██████████| 40/40 [00:02<00:00, 15.30it/s]\n"
     ]
    },
    {
     "name": "stdout",
     "output_type": "stream",
     "text": [
      "Test loss: 118.0164\n"
     ]
    },
    {
     "name": "stderr",
     "output_type": "stream",
     "text": [
      "100%|██████████| 235/235 [00:35<00:00,  6.71it/s]\n",
      "  0%|          | 0/40 [00:00<?, ?it/s]"
     ]
    },
    {
     "name": "stdout",
     "output_type": "stream",
     "text": [
      "Epoch: 23 Train loss: 118.4450\n"
     ]
    },
    {
     "name": "stderr",
     "output_type": "stream",
     "text": [
      "100%|██████████| 40/40 [00:02<00:00, 15.29it/s]\n"
     ]
    },
    {
     "name": "stdout",
     "output_type": "stream",
     "text": [
      "Test loss: 117.4074\n"
     ]
    },
    {
     "name": "stderr",
     "output_type": "stream",
     "text": [
      "100%|██████████| 235/235 [00:34<00:00,  6.84it/s]\n",
      "  0%|          | 0/40 [00:00<?, ?it/s]"
     ]
    },
    {
     "name": "stdout",
     "output_type": "stream",
     "text": [
      "Epoch: 24 Train loss: 118.3671\n"
     ]
    },
    {
     "name": "stderr",
     "output_type": "stream",
     "text": [
      "100%|██████████| 40/40 [00:02<00:00, 15.34it/s]\n"
     ]
    },
    {
     "name": "stdout",
     "output_type": "stream",
     "text": [
      "Test loss: 118.1019\n"
     ]
    },
    {
     "name": "stderr",
     "output_type": "stream",
     "text": [
      "100%|██████████| 235/235 [00:33<00:00,  6.92it/s]\n",
      "  0%|          | 0/40 [00:00<?, ?it/s]"
     ]
    },
    {
     "name": "stdout",
     "output_type": "stream",
     "text": [
      "Epoch: 25 Train loss: 118.2798\n"
     ]
    },
    {
     "name": "stderr",
     "output_type": "stream",
     "text": [
      "100%|██████████| 40/40 [00:02<00:00, 14.70it/s]\n"
     ]
    },
    {
     "name": "stdout",
     "output_type": "stream",
     "text": [
      "Test loss: 116.9339\n"
     ]
    }
   ],
   "source": [
    "writer = SummaryWriter(comment='DMM_Iterative_Pixyz')\n",
    "# fixed _x for watching reconstruction improvement\n",
    "_x, _ = iter(test_loader).next()\n",
    "_x = _x.to(device)\n",
    "dmm = DMM(optimizer=optim.Adam, optimizer_params={'lr': 3e-3})\n",
    "\n",
    "for epoch in range(1, epochs + 1):\n",
    "    train_loss = data_loop(epoch, train_loader, dmm, device, train_mode=True)\n",
    "    test_loss = data_loop(epoch, test_loader, dmm, device)\n",
    "\n",
    "    writer.add_scalar('train_loss', train_loss, epoch)\n",
    "    writer.add_scalar('test_loss', test_loss, epoch)\n",
    "\n",
    "    sample = dmm.plot_image_from_latent(batch_size)[:, None]\n",
    "    writer.add_images('Image_from_latent', sample, epoch)\n",
    "    generated_img_7 = dmm.generate_image_after_nsteps(7, _x)\n",
    "    writer.add_images('Generate_after_7steps', generated_img_7[:, None], epoch)\n",
    "    \n",
    "    generated_img_14 = dmm.generate_image_after_nsteps(14, _x)\n",
    "    writer.add_images('Generate_after_14steps', generated_img_14[:, None], epoch)\n",
    "    \n",
    "    recon_img = dmm.reconst_image(_x)\n",
    "    writer.add_images('Reconstructed',  recon_img[:, None], epoch)\n",
    "    \n",
    "    writer.add_images('orignal', _x[:, None], epoch)"
   ]
  },
  {
   "cell_type": "markdown",
   "metadata": {},
   "source": [
    "## Image label conditioning on latent variable z"
   ]
  },
  {
   "cell_type": "markdown",
   "metadata": {},
   "source": [
    "### MNIST settings\n",
    "Prior(Transition model): $p_{\\theta}(z_{t} | z_{t-1}, u) =  \\cal{N}(\\mu = f_{prior_\\mu}(z_{t-1}, u), \\sigma^2 = f_{prior_\\sigma^2}(z_{t-1}, u)$    \n",
    "Generator(Emission): $p_{\\theta}(x | z)=\\mathscr{B}\\left(x ; \\lambda=g_{x}(z)\\right)$  \n",
    "\n",
    "RNN: $p(h) = RNN(x)$  \n",
    "Inference(Combiner): $p_{\\phi}(z | h, z_{t-1}, u) = \\cal{N}(\\mu = f_{\\mu}(h, z_{t-1}, u), \\sigma^2 = f_{\\sigma^2}(h, z_{t-1}, u)$"
   ]
  },
  {
   "cell_type": "code",
   "execution_count": 23,
   "metadata": {},
   "outputs": [],
   "source": [
    "x_dim = 28\n",
    "h_dim = 32\n",
    "hidden_dim = 32\n",
    "z_dim = 16\n",
    "t_max = x_dim\n",
    "\n",
    "# label dim\n",
    "u_dim = 10"
   ]
  },
  {
   "cell_type": "code",
   "execution_count": 24,
   "metadata": {},
   "outputs": [],
   "source": [
    "# RNN\n",
    "class RNN(Deterministic):\n",
    "    \"\"\"\n",
    "    h = RNN(x)\n",
    "    Given observed x, RNN output hidden state\n",
    "    \"\"\"\n",
    "    def __init__(self):\n",
    "        super(RNN, self).__init__(cond_var=[\"x\"], var=[\"h\"])\n",
    "        self.rnn = nn.GRU(x_dim, h_dim, bidirectional=True)\n",
    "#         self.h0 = torch.zeros(2, batch_size, self.rnn.hidden_size).to(device)\n",
    "        self.h0 = nn.Parameter(torch.zeros(2, 1, self.rnn.hidden_size))\n",
    "        self.hidden_size = self.rnn.hidden_size\n",
    "        \n",
    "    def forward(self, x):\n",
    "        # if on gpu we need the fully broadcast view of the rnn initial state\n",
    "        # to be in contiguous gpu memory\n",
    "        # x(Batch_size, Time, Features)\n",
    "        h0 = self.h0.expand(2, x.size(1), self.rnn.hidden_size).contiguous()\n",
    "        h, _ = self.rnn(x, h0)\n",
    "        return {\"h\": h}\n",
    "\n",
    "\n",
    "# Emission p(x_t | z_t)\n",
    "class Generator(Bernoulli):\n",
    "    \"\"\"\n",
    "    Given the latent z at time step t, return the vector of\n",
    "    probabilities that parameterizes the bernlulli distribution p(x_t | z_t)\n",
    "    \"\"\"\n",
    "    def __init__(self):\n",
    "        super(Generator, self).__init__(cond_var=[\"z\"], var=[\"x\"])\n",
    "        self.fc1 = nn.Linear(z_dim, hidden_dim)\n",
    "        self.fc2 = nn.Linear(hidden_dim, x_dim)\n",
    "    \n",
    "    def forward(self, z):\n",
    "        h = F.relu(self.fc1(z))\n",
    "        return {\"probs\": torch.sigmoid(self.fc2(h))}\n",
    "\n",
    "\n",
    "class Inference(Normal):\n",
    "    \"\"\"\n",
    "    given the latent z at time step t-1, the hidden state of the RNN h(x_{0:T} and u\n",
    "    return the loc and scale vectors that\n",
    "    parameterize the gaussian distribution q(z_t | z_{t-1}, x_{t:T}, u)\n",
    "    \"\"\"\n",
    "    def __init__(self):\n",
    "        super(Inference, self).__init__(cond_var=[\"h\", \"z_prev\", \"u\"], var=[\"z\"])\n",
    "        self.fc1 = nn.Linear(z_dim+u_dim, h_dim*2)\n",
    "        self.fc21 = nn.Linear(h_dim*2, z_dim)\n",
    "        self.fc22 = nn.Linear(h_dim*2, z_dim)\n",
    "\n",
    "        \n",
    "    def forward(self, h, z_prev, u):\n",
    "        feature = torch.cat((z_prev, u), 1)\n",
    "        h_z = torch.tanh(self.fc1(feature))\n",
    "        h = 0.5 * (h + h_z)\n",
    "        return {\"loc\": self.fc21(h), \"scale\": F.softplus(self.fc22(h))}\n",
    "\n",
    "\n",
    "class Prior(Normal):\n",
    "    \"\"\"\n",
    "    Given the latent variable at the time step t-1 and u,\n",
    "    return the mean and scale vectors that parameterize the\n",
    "    gaussian distribution p(z_t | z_{t-1}, u)\n",
    "    \"\"\"\n",
    "    def __init__(self):\n",
    "        super(Prior, self).__init__(cond_var=[\"z_prev\", \"u\"], var=[\"z\"])\n",
    "        self.fc1 = nn.Linear(z_dim+u_dim, hidden_dim)\n",
    "        self.fc21 = nn.Linear(hidden_dim, z_dim)\n",
    "        self.fc22 = nn.Linear(hidden_dim, z_dim)\n",
    "        \n",
    "    def forward(self, z_prev, u):\n",
    "        feature = torch.cat((z_prev, u), 1)\n",
    "        h = F.relu(self.fc1(feature))\n",
    "        return {\"loc\": self.fc21(h), \"scale\": F.softplus(self.fc22(h))}"
   ]
  },
  {
   "cell_type": "code",
   "execution_count": 25,
   "metadata": {},
   "outputs": [],
   "source": [
    "from pixyz.models import Model\n",
    "\n",
    "class DMM(Model):\n",
    "    def __init__(self,\n",
    "                 optimizer=optim.Adam,\n",
    "                 optimizer_params={},\n",
    "                 clip_grad_norm=None,\n",
    "                 clip_grad_value=None):\n",
    "        \"\"\"\n",
    "        Parameters\n",
    "        ----------\n",
    "        loss : pixyz.losses.Loss\n",
    "            Loss class for training.\n",
    "        test_loss : pixyz.losses.Loss\n",
    "            Loss class for testing.\n",
    "        distributions : list\n",
    "            List of :class:`pixyz.distributions.Distribution`.\n",
    "        optimizer : torch.optim\n",
    "            Optimization algorithm.\n",
    "        optimizer_params : dict\n",
    "            Parameters of optimizer\n",
    "        clip_grad_norm : float or int\n",
    "            Maximum allowed norm of the gradients.\n",
    "        clip_grad_value : float or int\n",
    "            Maximum allowed value of the gradients.\n",
    "        \"\"\"\n",
    "        self.prior = Prior().to(device)\n",
    "        self.encoder = Inference().to(device)\n",
    "        self.decoder = Generator().to(device)\n",
    "        self.rnn = RNN().to(device)\n",
    "        \n",
    "        self.reconst_loss = E(self.encoder, LogProb(self.decoder))\n",
    "        self.kl_loss = KullbackLeibler(self.encoder, self.prior)\n",
    "        \n",
    "        self.step_loss = self.kl_loss - self.reconst_loss\n",
    "        \n",
    "        distributions = [self.prior, self.encoder, self.decoder, self.rnn]\n",
    "        self.distributions = nn.ModuleList(distributions)\n",
    "\n",
    "        # set params and optim\n",
    "        params = self.distributions.parameters()\n",
    "        self.optimizer = optimizer(params, **optimizer_params)\n",
    "\n",
    "        self.clip_norm = clip_grad_norm\n",
    "        self.clip_value = clip_grad_value\n",
    "        \n",
    "        \n",
    "    \n",
    "    def calculate_loss(self, input_var_dict={}):        \n",
    "        batch_size = input_var_dict['x'].size()[1]\n",
    "        # time_dimension = input_var_dict['x'].size()[0]\n",
    "        \n",
    "        z_prev = torch.zeros(batch_size, z_dim).to(device)\n",
    "        \n",
    "        \"\"\"\n",
    "        # Without IterativeLoss\n",
    "        total_loss = 0\n",
    "        for t in range(t_max):\n",
    "            h_t = h[t]\n",
    "            step_loss, samples = self.step_loss.eval({'x': x_t, 'z_prev': z_prev}, return_dict=True)\n",
    "            total_loss += step_loss\n",
    "            z_prev = samples[\"z\"]\n",
    "        \"\"\"\n",
    "            \n",
    "        # With IterativeLoss            \n",
    "        _loss = IterativeLoss(self.step_loss, max_iter=t_max,\n",
    "                             series_var=['x', 'h', 'u'],\n",
    "                             update_value={\"z\": \"z_prev\"})\n",
    "        loss = E(self.rnn, _loss).mean()\n",
    "        total_loss = loss.eval({'x': input_var_dict['x'], 'u': input_var_dict['u'], 'z_prev': z_prev})\n",
    "        \n",
    "        return total_loss\n",
    "    \n",
    "    def train(self, train_x_dict={}):\n",
    "        \"\"\"Train the model.\n",
    "\n",
    "        Parameters\n",
    "        ----------\n",
    "        train_x_dict : dict\n",
    "            Input data.\n",
    "        **kwargs\n",
    "\n",
    "        Returns\n",
    "        -------\n",
    "        loss : torch.Tensor\n",
    "            Train loss value\n",
    "\n",
    "        \"\"\"\n",
    "        self.distributions.train()\n",
    "\n",
    "        self.optimizer.zero_grad()\n",
    "        loss = self.calculate_loss(train_x_dict)\n",
    "\n",
    "        # backprop\n",
    "        loss.backward()\n",
    "\n",
    "        if self.clip_norm:\n",
    "            clip_grad_norm_(self.distributions.parameters(), self.clip_norm)\n",
    "        if self.clip_value:\n",
    "            clip_grad_value_(self.distributions.parameters(), self.clip_value)\n",
    "\n",
    "        # update params\n",
    "        self.optimizer.step()\n",
    "\n",
    "        return loss.item()\n",
    "    \n",
    "    def test(self, test_x_dict={}):\n",
    "        \"\"\"Test the model.\n",
    "\n",
    "        Parameters\n",
    "        ----------\n",
    "        test_x_dict : dict\n",
    "            Input data\n",
    "        **kwargs\n",
    "\n",
    "        Returns\n",
    "        -------\n",
    "        loss : torch.Tensor\n",
    "            Test loss value\n",
    "\n",
    "        \"\"\"\n",
    "        self.distributions.eval()\n",
    "\n",
    "        with torch.no_grad():\n",
    "            loss = self.calculate_loss(test_x_dict)\n",
    "\n",
    "        return loss.item()\n",
    "    \n",
    "    def generate_image_after_nsteps(self, n_step_num, original_data, label):\n",
    "        self.distributions.eval()\n",
    "        with torch.no_grad():\n",
    "            xs = []\n",
    "            x = original_data.transpose(0, 1)\n",
    "            batch_size = original_data.size()[0]\n",
    "            z_prev = torch.zeros(batch_size, z_dim).to(device)\n",
    "            h = self.rnn.sample_mean({'x': x})\n",
    "            \n",
    "            label = torch.eye(10)[label].to(device)\n",
    "            label = torch.stack([label for num in range(t_max)])\n",
    "            for t in range(t_max):\n",
    "                if t < n_step_num - 1:\n",
    "                    # before n_step, reconstruct\n",
    "                    h_t = h[t]\n",
    "                    z_t = self.encoder.sample_mean({'h': h_t, 'z_prev': z_prev, 'u': label[t]})\n",
    "                    dec_x = self.decoder.sample_mean({'z': z_t})\n",
    "                    z_prev = z_t\n",
    "                    xs.append(dec_x[None, :])\n",
    "                else:\n",
    "                    # generate\n",
    "                    z_t = self.prior.sample({'z_prev': z_prev, 'u': label[t]})[\"z\"]\n",
    "                    dec_x = self.decoder.sample_mean({'z': z_t})\n",
    "                    z_prev = z_t\n",
    "                    xs.append(dec_x[None, :])\n",
    "            generated_img = torch.cat(xs, dim=0).transpose(0, 1)\n",
    "        return generated_img\n",
    "\n",
    "    def reconst_image(self, original_data, label):\n",
    "        self.distributions.eval()\n",
    "        with torch.no_grad():\n",
    "            xs = []\n",
    "            x = original_data.transpose(0, 1)\n",
    "            batch_size = original_data.size()[0]\n",
    "            z_prev = torch.zeros(batch_size, z_dim).to(device)\n",
    "            h = self.rnn.sample_mean({'x': x})\n",
    "            \n",
    "            label = torch.eye(10)[label].to(device)\n",
    "            label = torch.stack([label for num in range(t_max)])\n",
    "            for t in range(t_max):\n",
    "                h_t = h[t]\n",
    "                z_t = self.encoder.sample_mean({'h': h_t, 'z_prev': z_prev, 'u': label[t]})\n",
    "                dec_x = self.decoder.sample_mean({'z': z_t})\n",
    "                z_prev = z_t\n",
    "                xs.append(dec_x[None, :])\n",
    "            recon_img = torch.cat(xs, dim=0).transpose(0, 1)\n",
    "        return recon_img\n",
    "\n",
    "    def plot_image_from_latent(self, batch_size=100):\n",
    "        self.distributions.eval()\n",
    "        with torch.no_grad():\n",
    "            xs = []\n",
    "            z_prev = torch.zeros(batch_size, z_dim).to(device)\n",
    "            label = torch.tensor([0, 1, 2, 3, 4, 5, 6, 7, 8, 9]*10)\n",
    "            label = torch.eye(10)[label].to(device)\n",
    "            label = torch.stack([label for num in range(t_max)])\n",
    "            for t in range(t_max):\n",
    "                z_t = self.prior.sample({'z_prev': z_prev, 'u': label[t]})['z']\n",
    "                dec_x = self.decoder.sample_mean({'z': z_t})\n",
    "                z_prev = z_t\n",
    "                xs.append(dec_x[None, :])\n",
    "            plotted_image = torch.cat(xs, dim=0).transpose(0, 1)\n",
    "        return plotted_image"
   ]
  },
  {
   "cell_type": "code",
   "execution_count": 26,
   "metadata": {},
   "outputs": [
    {
     "name": "stdout",
     "output_type": "stream",
     "text": [
      "torch.Size([256, 28, 28])\n",
      "torch.Size([256, 10])\n",
      "torch.Size([28, 256, 10])\n"
     ]
    },
    {
     "data": {
      "text/plain": [
       "tensor(586.3669, device='cuda:0', grad_fn=<MeanBackward0>)"
      ]
     },
     "execution_count": 26,
     "metadata": {},
     "output_type": "execute_result"
    }
   ],
   "source": [
    "# check label dims\n",
    "x, label = iter(train_loader).next()\n",
    "label = torch.eye(10)[label].to(device)\n",
    "print(x.shape)\n",
    "print(label.shape)\n",
    "# copy labels for each time step\n",
    "labels_t = torch.stack([label for num in range(28)])\n",
    "print(labels_t.shape)\n",
    "\n",
    "dmm = DMM()\n",
    "dmm.calculate_loss(input_var_dict={'x': sequential_x, 'u': labels_t})"
   ]
  },
  {
   "cell_type": "code",
   "execution_count": 29,
   "metadata": {},
   "outputs": [],
   "source": [
    "def data_loop(epoch, loader, model, device, train_mode=False):\n",
    "    mean_loss = 0\n",
    "    for batch_idx, (data, label) in enumerate(tqdm(loader)):\n",
    "        data = data.to(device)\n",
    "        label = torch.eye(10)[label].to(device)\n",
    "    \n",
    "        batch_size = data.size()[0]\n",
    "        # convert to (timestep, batch_size, feature)\n",
    "        x = data.transpose(0, 1)\n",
    "        label = torch.stack([label for num in range(t_max)])\n",
    "        \n",
    "        z_prev = torch.zeros(batch_size, z_dim).to(device)\n",
    "        #q_z_prev = torch.zeros(batch_size, z_dim).to(device)\n",
    "        if train_mode:\n",
    "            mean_loss += model.train({'x': x, 'z_prev': z_prev, 'u': label}) * batch_size\n",
    "        else:\n",
    "            mean_loss += model.test({'x': x, 'z_prev': z_prev, 'u': label}) * batch_size\n",
    "    mean_loss /= len(loader.dataset)\n",
    "    if train_mode:\n",
    "        print('Epoch: {} Train loss: {:.4f}'.format(epoch, mean_loss))\n",
    "    else:\n",
    "        print('Test loss: {:.4f}'.format(mean_loss))\n",
    "    return mean_loss"
   ]
  },
  {
   "cell_type": "code",
   "execution_count": 30,
   "metadata": {},
   "outputs": [
    {
     "name": "stderr",
     "output_type": "stream",
     "text": [
      "100%|██████████| 235/235 [00:35<00:00,  6.61it/s]\n",
      "  0%|          | 0/40 [00:00<?, ?it/s]"
     ]
    },
    {
     "name": "stdout",
     "output_type": "stream",
     "text": [
      "Epoch: 1 Train loss: 240.5575\n"
     ]
    },
    {
     "name": "stderr",
     "output_type": "stream",
     "text": [
      "100%|██████████| 40/40 [00:03<00:00, 13.10it/s]\n"
     ]
    },
    {
     "name": "stdout",
     "output_type": "stream",
     "text": [
      "Test loss: 161.5460\n"
     ]
    },
    {
     "name": "stderr",
     "output_type": "stream",
     "text": [
      "100%|██████████| 235/235 [00:35<00:00,  6.56it/s]\n",
      "  0%|          | 0/40 [00:00<?, ?it/s]"
     ]
    },
    {
     "name": "stdout",
     "output_type": "stream",
     "text": [
      "Epoch: 2 Train loss: 151.3338\n"
     ]
    },
    {
     "name": "stderr",
     "output_type": "stream",
     "text": [
      "100%|██████████| 40/40 [00:03<00:00, 13.08it/s]\n"
     ]
    },
    {
     "name": "stdout",
     "output_type": "stream",
     "text": [
      "Test loss: 142.2698\n"
     ]
    },
    {
     "name": "stderr",
     "output_type": "stream",
     "text": [
      "100%|██████████| 235/235 [00:35<00:00,  6.57it/s]\n",
      "  0%|          | 0/40 [00:00<?, ?it/s]"
     ]
    },
    {
     "name": "stdout",
     "output_type": "stream",
     "text": [
      "Epoch: 3 Train loss: 135.3081\n"
     ]
    },
    {
     "name": "stderr",
     "output_type": "stream",
     "text": [
      "100%|██████████| 40/40 [00:02<00:00, 14.19it/s]\n"
     ]
    },
    {
     "name": "stdout",
     "output_type": "stream",
     "text": [
      "Test loss: 129.0952\n"
     ]
    },
    {
     "name": "stderr",
     "output_type": "stream",
     "text": [
      "100%|██████████| 235/235 [00:36<00:00,  6.47it/s]\n",
      "  0%|          | 0/40 [00:00<?, ?it/s]"
     ]
    },
    {
     "name": "stdout",
     "output_type": "stream",
     "text": [
      "Epoch: 4 Train loss: 128.5064\n"
     ]
    },
    {
     "name": "stderr",
     "output_type": "stream",
     "text": [
      "100%|██████████| 40/40 [00:02<00:00, 14.08it/s]\n"
     ]
    },
    {
     "name": "stdout",
     "output_type": "stream",
     "text": [
      "Test loss: 125.9396\n"
     ]
    },
    {
     "name": "stderr",
     "output_type": "stream",
     "text": [
      "100%|██████████| 235/235 [00:35<00:00,  6.71it/s]\n",
      "  0%|          | 0/40 [00:00<?, ?it/s]"
     ]
    },
    {
     "name": "stdout",
     "output_type": "stream",
     "text": [
      "Epoch: 5 Train loss: 125.6956\n"
     ]
    },
    {
     "name": "stderr",
     "output_type": "stream",
     "text": [
      "100%|██████████| 40/40 [00:02<00:00, 14.24it/s]\n"
     ]
    },
    {
     "name": "stdout",
     "output_type": "stream",
     "text": [
      "Test loss: 123.5771\n"
     ]
    },
    {
     "name": "stderr",
     "output_type": "stream",
     "text": [
      "100%|██████████| 235/235 [00:34<00:00,  6.72it/s]\n",
      "  0%|          | 0/40 [00:00<?, ?it/s]"
     ]
    },
    {
     "name": "stdout",
     "output_type": "stream",
     "text": [
      "Epoch: 6 Train loss: 124.0109\n"
     ]
    },
    {
     "name": "stderr",
     "output_type": "stream",
     "text": [
      "100%|██████████| 40/40 [00:03<00:00, 11.30it/s]\n"
     ]
    },
    {
     "name": "stdout",
     "output_type": "stream",
     "text": [
      "Test loss: 122.5931\n"
     ]
    },
    {
     "name": "stderr",
     "output_type": "stream",
     "text": [
      "100%|██████████| 235/235 [00:36<00:00,  6.42it/s]\n",
      "  0%|          | 0/40 [00:00<?, ?it/s]"
     ]
    },
    {
     "name": "stdout",
     "output_type": "stream",
     "text": [
      "Epoch: 7 Train loss: 122.6570\n"
     ]
    },
    {
     "name": "stderr",
     "output_type": "stream",
     "text": [
      "100%|██████████| 40/40 [00:03<00:00, 12.39it/s]\n"
     ]
    },
    {
     "name": "stdout",
     "output_type": "stream",
     "text": [
      "Test loss: 120.9117\n"
     ]
    },
    {
     "name": "stderr",
     "output_type": "stream",
     "text": [
      "100%|██████████| 235/235 [00:36<00:00,  6.47it/s]\n",
      "  0%|          | 0/40 [00:00<?, ?it/s]"
     ]
    },
    {
     "name": "stdout",
     "output_type": "stream",
     "text": [
      "Epoch: 8 Train loss: 121.6669\n"
     ]
    },
    {
     "name": "stderr",
     "output_type": "stream",
     "text": [
      "100%|██████████| 40/40 [00:03<00:00, 12.86it/s]\n"
     ]
    },
    {
     "name": "stdout",
     "output_type": "stream",
     "text": [
      "Test loss: 120.3675\n"
     ]
    },
    {
     "name": "stderr",
     "output_type": "stream",
     "text": [
      "100%|██████████| 235/235 [00:36<00:00,  6.52it/s]\n",
      "  0%|          | 0/40 [00:00<?, ?it/s]"
     ]
    },
    {
     "name": "stdout",
     "output_type": "stream",
     "text": [
      "Epoch: 9 Train loss: 120.8751\n"
     ]
    },
    {
     "name": "stderr",
     "output_type": "stream",
     "text": [
      "100%|██████████| 40/40 [00:02<00:00, 14.04it/s]\n"
     ]
    },
    {
     "name": "stdout",
     "output_type": "stream",
     "text": [
      "Test loss: 119.2471\n"
     ]
    },
    {
     "name": "stderr",
     "output_type": "stream",
     "text": [
      "100%|██████████| 235/235 [00:36<00:00,  6.42it/s]\n",
      "  0%|          | 0/40 [00:00<?, ?it/s]"
     ]
    },
    {
     "name": "stdout",
     "output_type": "stream",
     "text": [
      "Epoch: 10 Train loss: 119.9530\n"
     ]
    },
    {
     "name": "stderr",
     "output_type": "stream",
     "text": [
      "100%|██████████| 40/40 [00:02<00:00, 14.14it/s]\n"
     ]
    },
    {
     "name": "stdout",
     "output_type": "stream",
     "text": [
      "Test loss: 119.0139\n"
     ]
    },
    {
     "name": "stderr",
     "output_type": "stream",
     "text": [
      "100%|██████████| 235/235 [00:36<00:00,  6.42it/s]\n",
      "  0%|          | 0/40 [00:00<?, ?it/s]"
     ]
    },
    {
     "name": "stdout",
     "output_type": "stream",
     "text": [
      "Epoch: 11 Train loss: 119.2717\n"
     ]
    },
    {
     "name": "stderr",
     "output_type": "stream",
     "text": [
      "100%|██████████| 40/40 [00:02<00:00, 13.36it/s]\n"
     ]
    },
    {
     "name": "stdout",
     "output_type": "stream",
     "text": [
      "Test loss: 118.1272\n"
     ]
    },
    {
     "name": "stderr",
     "output_type": "stream",
     "text": [
      "100%|██████████| 235/235 [00:36<00:00,  6.42it/s]\n",
      "  0%|          | 0/40 [00:00<?, ?it/s]"
     ]
    },
    {
     "name": "stdout",
     "output_type": "stream",
     "text": [
      "Epoch: 12 Train loss: 118.6759\n"
     ]
    },
    {
     "name": "stderr",
     "output_type": "stream",
     "text": [
      "100%|██████████| 40/40 [00:03<00:00, 12.10it/s]\n"
     ]
    },
    {
     "name": "stdout",
     "output_type": "stream",
     "text": [
      "Test loss: 117.8931\n"
     ]
    },
    {
     "name": "stderr",
     "output_type": "stream",
     "text": [
      "100%|██████████| 235/235 [00:36<00:00,  6.50it/s]\n",
      "  0%|          | 0/40 [00:00<?, ?it/s]"
     ]
    },
    {
     "name": "stdout",
     "output_type": "stream",
     "text": [
      "Epoch: 13 Train loss: 118.1336\n"
     ]
    },
    {
     "name": "stderr",
     "output_type": "stream",
     "text": [
      "100%|██████████| 40/40 [00:03<00:00, 11.63it/s]\n"
     ]
    },
    {
     "name": "stdout",
     "output_type": "stream",
     "text": [
      "Test loss: 117.3202\n"
     ]
    },
    {
     "name": "stderr",
     "output_type": "stream",
     "text": [
      "100%|██████████| 235/235 [00:35<00:00,  6.61it/s]\n",
      "  0%|          | 0/40 [00:00<?, ?it/s]"
     ]
    },
    {
     "name": "stdout",
     "output_type": "stream",
     "text": [
      "Epoch: 14 Train loss: 117.6876\n"
     ]
    },
    {
     "name": "stderr",
     "output_type": "stream",
     "text": [
      "100%|██████████| 40/40 [00:02<00:00, 14.40it/s]\n"
     ]
    },
    {
     "name": "stdout",
     "output_type": "stream",
     "text": [
      "Test loss: 116.3162\n"
     ]
    },
    {
     "name": "stderr",
     "output_type": "stream",
     "text": [
      "100%|██████████| 235/235 [00:35<00:00,  6.57it/s]\n",
      "  0%|          | 0/40 [00:00<?, ?it/s]"
     ]
    },
    {
     "name": "stdout",
     "output_type": "stream",
     "text": [
      "Epoch: 15 Train loss: 117.1790\n"
     ]
    },
    {
     "name": "stderr",
     "output_type": "stream",
     "text": [
      "100%|██████████| 40/40 [00:02<00:00, 14.31it/s]\n"
     ]
    },
    {
     "name": "stdout",
     "output_type": "stream",
     "text": [
      "Test loss: 115.9207\n"
     ]
    },
    {
     "name": "stderr",
     "output_type": "stream",
     "text": [
      "100%|██████████| 235/235 [00:35<00:00,  6.62it/s]\n",
      "  0%|          | 0/40 [00:00<?, ?it/s]"
     ]
    },
    {
     "name": "stdout",
     "output_type": "stream",
     "text": [
      "Epoch: 16 Train loss: 116.9519\n"
     ]
    },
    {
     "name": "stderr",
     "output_type": "stream",
     "text": [
      "100%|██████████| 40/40 [00:03<00:00, 11.41it/s]\n"
     ]
    },
    {
     "name": "stdout",
     "output_type": "stream",
     "text": [
      "Test loss: 115.8908\n"
     ]
    },
    {
     "name": "stderr",
     "output_type": "stream",
     "text": [
      "100%|██████████| 235/235 [00:36<00:00,  6.47it/s]\n",
      "  0%|          | 0/40 [00:00<?, ?it/s]"
     ]
    },
    {
     "name": "stdout",
     "output_type": "stream",
     "text": [
      "Epoch: 17 Train loss: 116.5182\n"
     ]
    },
    {
     "name": "stderr",
     "output_type": "stream",
     "text": [
      "100%|██████████| 40/40 [00:02<00:00, 14.14it/s]\n"
     ]
    },
    {
     "name": "stdout",
     "output_type": "stream",
     "text": [
      "Test loss: 115.1156\n"
     ]
    },
    {
     "name": "stderr",
     "output_type": "stream",
     "text": [
      "100%|██████████| 235/235 [00:35<00:00,  6.57it/s]\n",
      "  0%|          | 0/40 [00:00<?, ?it/s]"
     ]
    },
    {
     "name": "stdout",
     "output_type": "stream",
     "text": [
      "Epoch: 18 Train loss: 116.2762\n"
     ]
    },
    {
     "name": "stderr",
     "output_type": "stream",
     "text": [
      "100%|██████████| 40/40 [00:02<00:00, 13.97it/s]\n"
     ]
    },
    {
     "name": "stdout",
     "output_type": "stream",
     "text": [
      "Test loss: 115.2587\n"
     ]
    },
    {
     "name": "stderr",
     "output_type": "stream",
     "text": [
      "100%|██████████| 235/235 [00:36<00:00,  6.43it/s]\n",
      "  0%|          | 0/40 [00:00<?, ?it/s]"
     ]
    },
    {
     "name": "stdout",
     "output_type": "stream",
     "text": [
      "Epoch: 19 Train loss: 115.9145\n"
     ]
    },
    {
     "name": "stderr",
     "output_type": "stream",
     "text": [
      "100%|██████████| 40/40 [00:02<00:00, 14.12it/s]\n"
     ]
    },
    {
     "name": "stdout",
     "output_type": "stream",
     "text": [
      "Test loss: 114.7585\n"
     ]
    },
    {
     "name": "stderr",
     "output_type": "stream",
     "text": [
      "100%|██████████| 235/235 [00:37<00:00,  6.25it/s]\n",
      "  0%|          | 0/40 [00:00<?, ?it/s]"
     ]
    },
    {
     "name": "stdout",
     "output_type": "stream",
     "text": [
      "Epoch: 20 Train loss: 115.6697\n"
     ]
    },
    {
     "name": "stderr",
     "output_type": "stream",
     "text": [
      "100%|██████████| 40/40 [00:03<00:00, 12.55it/s]\n"
     ]
    },
    {
     "name": "stdout",
     "output_type": "stream",
     "text": [
      "Test loss: 115.0261\n"
     ]
    },
    {
     "name": "stderr",
     "output_type": "stream",
     "text": [
      "100%|██████████| 235/235 [00:35<00:00,  6.68it/s]\n",
      "  0%|          | 0/40 [00:00<?, ?it/s]"
     ]
    },
    {
     "name": "stdout",
     "output_type": "stream",
     "text": [
      "Epoch: 21 Train loss: 115.4622\n"
     ]
    },
    {
     "name": "stderr",
     "output_type": "stream",
     "text": [
      "100%|██████████| 40/40 [00:02<00:00, 14.09it/s]\n"
     ]
    },
    {
     "name": "stdout",
     "output_type": "stream",
     "text": [
      "Test loss: 114.4268\n"
     ]
    },
    {
     "name": "stderr",
     "output_type": "stream",
     "text": [
      "100%|██████████| 235/235 [00:36<00:00,  6.52it/s]\n",
      "  0%|          | 0/40 [00:00<?, ?it/s]"
     ]
    },
    {
     "name": "stdout",
     "output_type": "stream",
     "text": [
      "Epoch: 22 Train loss: 115.2438\n"
     ]
    },
    {
     "name": "stderr",
     "output_type": "stream",
     "text": [
      "100%|██████████| 40/40 [00:03<00:00, 12.89it/s]\n"
     ]
    },
    {
     "name": "stdout",
     "output_type": "stream",
     "text": [
      "Test loss: 114.2547\n"
     ]
    },
    {
     "name": "stderr",
     "output_type": "stream",
     "text": [
      "100%|██████████| 235/235 [00:35<00:00,  6.67it/s]\n",
      "  0%|          | 0/40 [00:00<?, ?it/s]"
     ]
    },
    {
     "name": "stdout",
     "output_type": "stream",
     "text": [
      "Epoch: 23 Train loss: 115.0140\n"
     ]
    },
    {
     "name": "stderr",
     "output_type": "stream",
     "text": [
      "100%|██████████| 40/40 [00:03<00:00, 12.51it/s]\n"
     ]
    },
    {
     "name": "stdout",
     "output_type": "stream",
     "text": [
      "Test loss: 114.4710\n"
     ]
    },
    {
     "name": "stderr",
     "output_type": "stream",
     "text": [
      "100%|██████████| 235/235 [00:35<00:00,  6.62it/s]\n",
      "  0%|          | 0/40 [00:00<?, ?it/s]"
     ]
    },
    {
     "name": "stdout",
     "output_type": "stream",
     "text": [
      "Epoch: 24 Train loss: 114.8183\n"
     ]
    },
    {
     "name": "stderr",
     "output_type": "stream",
     "text": [
      "100%|██████████| 40/40 [00:02<00:00, 14.08it/s]\n"
     ]
    },
    {
     "name": "stdout",
     "output_type": "stream",
     "text": [
      "Test loss: 113.7066\n"
     ]
    },
    {
     "name": "stderr",
     "output_type": "stream",
     "text": [
      "100%|██████████| 235/235 [00:35<00:00,  6.66it/s]\n",
      "  0%|          | 0/40 [00:00<?, ?it/s]"
     ]
    },
    {
     "name": "stdout",
     "output_type": "stream",
     "text": [
      "Epoch: 25 Train loss: 114.7482\n"
     ]
    },
    {
     "name": "stderr",
     "output_type": "stream",
     "text": [
      "100%|██████████| 40/40 [00:02<00:00, 14.17it/s]\n"
     ]
    },
    {
     "name": "stdout",
     "output_type": "stream",
     "text": [
      "Test loss: 113.7439\n"
     ]
    }
   ],
   "source": [
    "writer = SummaryWriter(comment='DMM_Iterative_Pixyz_Action_Conditional')\n",
    "_x, _label = iter(test_loader).next()\n",
    "_x = _x.to(device)\n",
    "\n",
    "dmm = DMM(optimizer=optim.Adam, optimizer_params={'lr': 3e-3})\n",
    "\n",
    "\n",
    "for epoch in range(1, epochs + 1):\n",
    "    train_loss = data_loop(epoch, train_loader, dmm, device, train_mode=True)\n",
    "    test_loss = data_loop(epoch, test_loader, dmm, device)\n",
    "\n",
    "    writer.add_scalar('train_loss', train_loss, epoch)\n",
    "    writer.add_scalar('test_loss', test_loss, epoch)\n",
    "\n",
    "    sample = dmm.plot_image_from_latent()[:, None]\n",
    "    writer.add_images('Image_from_latent', sample, epoch)\n",
    "    generated_img_7 = dmm.generate_image_after_nsteps(7, _x, _label)\n",
    "    writer.add_images('Generate_after_7steps', generated_img_7[:, None], epoch)\n",
    "    \n",
    "    generated_img_14 = dmm.generate_image_after_nsteps(14, _x, _label)\n",
    "    writer.add_images('Generate_after_14steps', generated_img_14[:, None], epoch)\n",
    "    \n",
    "    recon_img = dmm.reconst_image(_x, _label)\n",
    "    writer.add_images('Reconstructed',  recon_img[:, None], epoch)\n",
    "    \n",
    "    writer.add_images('orignal', _x[:, None], epoch)"
   ]
  },
  {
   "cell_type": "code",
   "execution_count": null,
   "metadata": {},
   "outputs": [],
   "source": []
  }
 ],
 "metadata": {
  "kernelspec": {
   "display_name": "Python 3",
   "language": "python",
   "name": "python3"
  },
  "language_info": {
   "codemirror_mode": {
    "name": "ipython",
    "version": 3
   },
   "file_extension": ".py",
   "mimetype": "text/x-python",
   "name": "python",
   "nbconvert_exporter": "python",
   "pygments_lexer": "ipython3",
   "version": "3.6.4"
  }
 },
 "nbformat": 4,
 "nbformat_minor": 4
}

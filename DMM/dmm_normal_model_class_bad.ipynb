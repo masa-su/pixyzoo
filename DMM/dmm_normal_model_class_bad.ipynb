{
 "cells": [
  {
   "cell_type": "markdown",
   "metadata": {},
   "source": [
    "# Deep Markov Model\n",
    "* Original paper: Structured Inference Networks for Nonlinear State Space Models (https://arxiv.org/abs/1609.09869)\n",
    "* Original code: https://github.com/clinicalml/dmm"
   ]
  },
  {
   "cell_type": "markdown",
   "metadata": {},
   "source": [
    " ## Deep Markov Model summary\n",
    ">Deep Markov models (DMM), a class of\n",
    "generative models where classic linear emission and transition distributions are replaced with complex multi-layer\n",
    "perceptrons (MLPs).\n"
   ]
  },
  {
   "cell_type": "code",
   "execution_count": 1,
   "metadata": {},
   "outputs": [],
   "source": [
    "from tqdm import tqdm\n",
    "\n",
    "import torch\n",
    "from torch import optim\n",
    "import torch.nn as nn\n",
    "import torch.nn.functional as F\n",
    "from torchvision import transforms, datasets\n",
    "from tensorboardX import SummaryWriter"
   ]
  },
  {
   "cell_type": "code",
   "execution_count": 2,
   "metadata": {},
   "outputs": [
    {
     "data": {
      "text/plain": [
       "<torch._C.Generator at 0x7f3a96684d90>"
      ]
     },
     "execution_count": 2,
     "metadata": {},
     "output_type": "execute_result"
    }
   ],
   "source": [
    "batch_size = 256\n",
    "epochs = 25\n",
    "seed = 1\n",
    "torch.manual_seed(seed)"
   ]
  },
  {
   "cell_type": "code",
   "execution_count": 3,
   "metadata": {},
   "outputs": [],
   "source": [
    "if torch.cuda.is_available():\n",
    "    device = \"cuda\"\n",
    "else:\n",
    "    device = \"cpu\""
   ]
  },
  {
   "cell_type": "code",
   "execution_count": 4,
   "metadata": {},
   "outputs": [],
   "source": [
    "# Experiment Setting\n",
    "# generate MNIST by stacking row images(consider row as time step)\n",
    "def init_dataset(f_batch_size):\n",
    "    kwargs = {'num_workers': 1, 'pin_memory': True}\n",
    "    data_dir = '../data'\n",
    "    mnist_transform = transforms.Compose([\n",
    "        transforms.ToTensor(),\n",
    "        transforms.Lambda(lambda data: data[0])\n",
    "    ])\n",
    "    train_loader = torch.utils.data.DataLoader(\n",
    "        datasets.MNIST(data_dir, train=True, download=True,\n",
    "                       transform=mnist_transform),\n",
    "        batch_size=f_batch_size, shuffle=True, **kwargs)\n",
    "    test_loader = torch.utils.data.DataLoader(\n",
    "        datasets.MNIST(data_dir, train=False, transform=mnist_transform),\n",
    "        batch_size=f_batch_size, shuffle=True, **kwargs)\n",
    "\n",
    "    fixed_t_size = 28\n",
    "    return train_loader, test_loader, fixed_t_size\n",
    "\n",
    "train_loader, test_loader, t_max = init_dataset(batch_size)"
   ]
  },
  {
   "cell_type": "markdown",
   "metadata": {},
   "source": [
    "## Define probability distributions\n",
    "### In the original paper\n",
    "Prior(Transition model, equation(1) in the paper): $z_{t} \\sim  \\cal{N}\\left(G_{\\alpha}\\left(z_{t-1}, \\Delta_{t}\\right), S_{\\beta}\\left(z_{t-1}, \\Delta_{t}\\right)\\right)$  \n",
    "Generator(Emission, equation(2) in the paper): $x_{t} \\sim \\Pi\\left(F_{\\kappa}\\left(z_{t}\\right)\\right)$  \n",
    "Inference(equation(5) in the paper): $\\begin{aligned} q_{\\phi}\\left(z_{t} | z_{t-1}, x_{t}, \\ldots, x_{T}\\right) = \\mathcal{N}\\left(\\mu_{\\phi}\\left(z_{t-1}, x_{t}, \\ldots, x_{T}\\right),\\right.&\\left.\\Sigma_{\\phi}\\left(z_{t-1}, x_{t}, \\ldots, x_{T}\\right)\\right) \\end{aligned}$\n",
    "\n",
    "### MNIST settings\n",
    "Prior(Transition model): $p_{\\theta}(z_{t} | z_{t-1}) =  \\cal{N}(\\mu = f_{prior_\\mu}(z_{t-1}), \\sigma^2 = f_{prior_\\sigma^2}(z_{t-1})$    \n",
    "Generator(Emission): $p_{\\theta}(x | z)=\\mathscr{B}\\left(x ; \\lambda=g_{x}(z)\\right)$  \n",
    "\n",
    "RNN: $p(h) = RNN(x)$  \n",
    "Inference(Combiner): $p_{\\phi}(z | h, z_{t-1}) = \\cal{N}(\\mu = f_{\\mu}(h, z_{t-1}), \\sigma^2 = f_{\\sigma^2}(h, z_{t-1})$"
   ]
  },
  {
   "cell_type": "code",
   "execution_count": 5,
   "metadata": {},
   "outputs": [],
   "source": [
    "from pixyz.utils import print_latex\n",
    "from pixyz.distributions import Bernoulli, Normal, Deterministic"
   ]
  },
  {
   "cell_type": "code",
   "execution_count": 6,
   "metadata": {},
   "outputs": [],
   "source": [
    "x_dim = 28\n",
    "h_dim = 32\n",
    "hidden_dim = 32\n",
    "z_dim = 16\n",
    "t_max = x_dim"
   ]
  },
  {
   "cell_type": "code",
   "execution_count": 7,
   "metadata": {},
   "outputs": [],
   "source": [
    "# RNN\n",
    "class RNN(Deterministic):\n",
    "    \"\"\"\n",
    "    h = RNN(x)\n",
    "    Given observed x, RNN output hidden state\n",
    "    \"\"\"\n",
    "    def __init__(self):\n",
    "        super(RNN, self).__init__(cond_var=[\"x\"], var=[\"h\"])\n",
    "        self.rnn = nn.GRU(x_dim, h_dim, bidirectional=True)\n",
    "#         self.h0 = torch.zeros(2, batch_size, self.rnn.hidden_size).to(device)\n",
    "        self.h0 = nn.Parameter(torch.zeros(2, 1, self.rnn.hidden_size))\n",
    "        self.hidden_size = self.rnn.hidden_size\n",
    "        \n",
    "    def forward(self, x):\n",
    "        # if on gpu we need the fully broadcast view of the rnn initial state\n",
    "        # to be in contiguous gpu memory\n",
    "        # x(Batch_size, Time, Features)\n",
    "        h0 = self.h0.expand(2, x.size(1), self.rnn.hidden_size).contiguous()\n",
    "        h, _ = self.rnn(x, h0)\n",
    "        return {\"h\": h}"
   ]
  },
  {
   "cell_type": "code",
   "execution_count": 8,
   "metadata": {},
   "outputs": [],
   "source": [
    "# Emission p(x_t | z_t)\n",
    "class Generator(Bernoulli):\n",
    "    \"\"\"\n",
    "    Given the latent z at time step t, return the vector of\n",
    "    probabilities that parameterizes the bernlulli distribution p(x_t | x_t)\n",
    "    \"\"\"\n",
    "    def __init__(self):\n",
    "        super(Generator, self).__init__(cond_var=[\"z\"], var=[\"x\"])\n",
    "        self.fc1 = nn.Linear(z_dim, hidden_dim)\n",
    "        self.fc2 = nn.Linear(hidden_dim, x_dim)\n",
    "    \n",
    "    def forward(self, z):\n",
    "        h = F.relu(self.fc1(z))\n",
    "        return {\"probs\": torch.sigmoid(self.fc2(h))}"
   ]
  },
  {
   "cell_type": "code",
   "execution_count": 9,
   "metadata": {},
   "outputs": [],
   "source": [
    "# Combiner q(z_t | z_{t-1}, x_{1:T})\n",
    "class Inference(Normal):\n",
    "    \"\"\"\n",
    "    given the latent z at time step t-1 and the hidden state of the RNN h(x_{0:T} \n",
    "    return the loc and scale vectors that\n",
    "    parameterize the gaussian distribution q(z_t | z_{t-1}, x_{t:T})\n",
    "    \"\"\"\n",
    "    def __init__(self):\n",
    "        super(Inference, self).__init__(cond_var=[\"h\", \"z_prev\"], var=[\"z\"])\n",
    "        self.fc1 = nn.Linear(z_dim, h_dim*2)\n",
    "        self.fc21 = nn.Linear(h_dim*2, z_dim)\n",
    "        self.fc22 = nn.Linear(h_dim*2, z_dim)\n",
    "\n",
    "        \n",
    "    def forward(self, h, z_prev):\n",
    "        h_z = torch.tanh(self.fc1(z_prev))\n",
    "        h = 0.5 * (h + h_z)\n",
    "        return {\"loc\": self.fc21(h), \"scale\": F.softplus(self.fc22(h))}"
   ]
  },
  {
   "cell_type": "code",
   "execution_count": 10,
   "metadata": {},
   "outputs": [],
   "source": [
    "# Transition model p(z_t | z_{t-1})\n",
    "class Prior(Normal):\n",
    "    \"\"\"\n",
    "    Given the latent variable at the time step t-1\n",
    "    return the mean and scale vectors that parameterize the\n",
    "    gaussian distribution p(z_t | z_{t-1})\n",
    "    \"\"\"\n",
    "    def __init__(self):\n",
    "        super(Prior, self).__init__(cond_var=[\"z_prev\"], var=[\"z\"])\n",
    "        self.fc1 = nn.Linear(z_dim, hidden_dim)\n",
    "        self.fc21 = nn.Linear(hidden_dim, z_dim)\n",
    "        self.fc22 = nn.Linear(hidden_dim, z_dim)\n",
    "        \n",
    "    def forward(self, z_prev):\n",
    "        h = F.relu(self.fc1(z_prev))\n",
    "        return {\"loc\": self.fc21(h), \"scale\": F.softplus(self.fc22(h))}"
   ]
  },
  {
   "cell_type": "code",
   "execution_count": 11,
   "metadata": {},
   "outputs": [],
   "source": [
    "prior = Prior().to(device)\n",
    "encoder = Inference().to(device)\n",
    "decoder = Generator().to(device)\n",
    "rnn = RNN().to(device)"
   ]
  },
  {
   "cell_type": "code",
   "execution_count": 12,
   "metadata": {},
   "outputs": [
    {
     "name": "stdout",
     "output_type": "stream",
     "text": [
      "Distribution:\n",
      "  p(z|z_{prev})\n",
      "Network architecture:\n",
      "  Prior(\n",
      "    name=p, distribution_name=Normal,\n",
      "    var=['z'], cond_var=['z_prev'], input_var=['z_prev'], features_shape=torch.Size([])\n",
      "    (fc1): Linear(in_features=16, out_features=32, bias=True)\n",
      "    (fc21): Linear(in_features=32, out_features=16, bias=True)\n",
      "    (fc22): Linear(in_features=32, out_features=16, bias=True)\n",
      "  )\n",
      "********************************************************************************\n",
      "Distribution:\n",
      "  p(z|h,z_{prev})\n",
      "Network architecture:\n",
      "  Inference(\n",
      "    name=p, distribution_name=Normal,\n",
      "    var=['z'], cond_var=['h', 'z_prev'], input_var=['h', 'z_prev'], features_shape=torch.Size([])\n",
      "    (fc1): Linear(in_features=16, out_features=64, bias=True)\n",
      "    (fc21): Linear(in_features=64, out_features=16, bias=True)\n",
      "    (fc22): Linear(in_features=64, out_features=16, bias=True)\n",
      "  )\n",
      "********************************************************************************\n",
      "Distribution:\n",
      "  p(x|z)\n",
      "Network architecture:\n",
      "  Generator(\n",
      "    name=p, distribution_name=Bernoulli,\n",
      "    var=['x'], cond_var=['z'], input_var=['z'], features_shape=torch.Size([])\n",
      "    (fc1): Linear(in_features=16, out_features=32, bias=True)\n",
      "    (fc2): Linear(in_features=32, out_features=28, bias=True)\n",
      "  )\n",
      "********************************************************************************\n",
      "Distribution:\n",
      "  p(h|x)\n",
      "Network architecture:\n",
      "  RNN(\n",
      "    name=p, distribution_name=Deterministic,\n",
      "    var=['h'], cond_var=['x'], input_var=['x'], features_shape=torch.Size([])\n",
      "    (rnn): GRU(28, 32, bidirectional=True)\n",
      "  )\n"
     ]
    }
   ],
   "source": [
    "print(prior)\n",
    "print(\"*\"*80)\n",
    "print(encoder)\n",
    "print(\"*\"*80)\n",
    "print(decoder)\n",
    "print(\"*\"*80)\n",
    "print(rnn)"
   ]
  },
  {
   "cell_type": "code",
   "execution_count": 13,
   "metadata": {},
   "outputs": [
    {
     "name": "stdout",
     "output_type": "stream",
     "text": [
      "Distribution:\n",
      "  p(x,z|z_{prev}) = p(x|z)p(z|z_{prev})\n",
      "Network architecture:\n",
      "  Prior(\n",
      "    name=p, distribution_name=Normal,\n",
      "    var=['z'], cond_var=['z_prev'], input_var=['z_prev'], features_shape=torch.Size([])\n",
      "    (fc1): Linear(in_features=16, out_features=32, bias=True)\n",
      "    (fc21): Linear(in_features=32, out_features=16, bias=True)\n",
      "    (fc22): Linear(in_features=32, out_features=16, bias=True)\n",
      "  )\n",
      "  Generator(\n",
      "    name=p, distribution_name=Bernoulli,\n",
      "    var=['x'], cond_var=['z'], input_var=['z'], features_shape=torch.Size([])\n",
      "    (fc1): Linear(in_features=16, out_features=32, bias=True)\n",
      "    (fc2): Linear(in_features=32, out_features=28, bias=True)\n",
      "  )\n"
     ]
    },
    {
     "data": {
      "text/latex": [
       "$$p(x,z|z_{prev}) = p(x|z)p(z|z_{prev})$$"
      ],
      "text/plain": [
       "<IPython.core.display.Math object>"
      ]
     },
     "execution_count": 13,
     "metadata": {},
     "output_type": "execute_result"
    }
   ],
   "source": [
    "generate_from_prior = prior * decoder\n",
    "print(generate_from_prior)\n",
    "print_latex(generate_from_prior)"
   ]
  },
  {
   "cell_type": "markdown",
   "metadata": {},
   "source": [
    "## Define Loss function\n",
    "### In the original paper(equation (6) in the paper)\n",
    "${\\mathcal{L}(\\vec{x} ;(\\theta, \\phi))=\\sum_{t=1}^{T} \\underset{q_{\\phi}\\left(z_{t} | \\vec{x}\\right)}{\\mathbb{E}}\\left[\\log p_{\\theta}\\left(x_{t} | z_{t}\\right)\\right]} {-\\operatorname{KL}\\left(q_{\\phi}\\left(z_{1} | \\vec{x}\\right) | p_{\\theta}\\left(z_{1}\\right)\\right)}  {-\\sum_{t=2}^{T} \\underset{q_{\\phi}\\left(z_{t-1} | \\vec{x}\\right)}{\\mathbb{E}}\\left[\\operatorname{KL}\\left(q_{\\phi}\\left(z_{t} | z_{t-1}\\vec{x}\\right) | p_{\\theta}\\left(z_{t} | z_{t-1}\\right)\\right)\\right]}$"
   ]
  },
  {
   "cell_type": "code",
   "execution_count": 14,
   "metadata": {},
   "outputs": [],
   "source": [
    "from pixyz.losses import KullbackLeibler\n",
    "from pixyz.losses import Expectation as E\n",
    "from pixyz.losses import LogProb\n",
    "from pixyz.losses import IterativeLoss\n",
    "from pixyz.losses import CrossEntropy"
   ]
  },
  {
   "cell_type": "code",
   "execution_count": 15,
   "metadata": {},
   "outputs": [],
   "source": [
    "step_loss = CrossEntropy(encoder, decoder) + KullbackLeibler(encoder, prior)\n",
    "_loss = IterativeLoss(step_loss, max_iter=t_max, \n",
    "                      series_var=[\"x\", \"h\"], update_value={\"z\": \"z_prev\"})\n",
    "loss = _loss.expectation(rnn).mean()"
   ]
  },
  {
   "cell_type": "markdown",
   "metadata": {},
   "source": [
    "## Define DMM model using Model class"
   ]
  },
  {
   "cell_type": "code",
   "execution_count": 16,
   "metadata": {},
   "outputs": [],
   "source": [
    "from pixyz.models import Model\n",
    "\n",
    "dmm = Model(loss, distributions=[rnn, encoder, decoder, prior], optimizer=optim.Adam, optimizer_params={'lr': 3e-3})"
   ]
  },
  {
   "cell_type": "code",
   "execution_count": 17,
   "metadata": {},
   "outputs": [
    {
     "name": "stdout",
     "output_type": "stream",
     "text": [
      "Distributions (for training): \n",
      "  p(h|x), p(z|h,z_{prev}), p(x|z), p(z|z_{prev}) \n",
      "Loss function: \n",
      "  mean \\left(\\mathbb{E}_{p(h|x)} \\left[\\sum_{t=1}^{28} \\left(D_{KL} \\left[p(z|h,z_{prev})||p(z|z_{prev}) \\right] - \\mathbb{E}_{p(z|h,z_{prev})} \\left[\\log p(x|z) \\right]\\right) \\right] \\right) \n",
      "Optimizer: \n",
      "  Adam (\n",
      "  Parameter Group 0\n",
      "      amsgrad: False\n",
      "      betas: (0.9, 0.999)\n",
      "      eps: 1e-08\n",
      "      lr: 0.003\n",
      "      weight_decay: 0\n",
      "  )\n"
     ]
    },
    {
     "data": {
      "text/latex": [
       "$$mean \\left(\\mathbb{E}_{p(h|x)} \\left[\\sum_{t=1}^{28} \\left(D_{KL} \\left[p(z|h,z_{prev})||p(z|z_{prev}) \\right] - \\mathbb{E}_{p(z|h,z_{prev})} \\left[\\log p(x|z) \\right]\\right) \\right] \\right)$$"
      ],
      "text/plain": [
       "<IPython.core.display.Math object>"
      ]
     },
     "execution_count": 17,
     "metadata": {},
     "output_type": "execute_result"
    }
   ],
   "source": [
    "print(dmm)\n",
    "print_latex(dmm)"
   ]
  },
  {
   "cell_type": "markdown",
   "metadata": {},
   "source": [
    "## Define Train and Test loop using model"
   ]
  },
  {
   "cell_type": "code",
   "execution_count": 18,
   "metadata": {},
   "outputs": [],
   "source": [
    "def data_loop(epoch, loader, model, device, train_mode=False):\n",
    "    mean_loss = 0\n",
    "    for batch_idx, (data, _) in enumerate(tqdm(loader)):\n",
    "        data = data.to(device)\n",
    "        batch_size = data.size()[0]\n",
    "        x = data.transpose(0, 1)\n",
    "        z_prev = torch.zeros(batch_size, z_dim).to(device)\n",
    "        #q_z_prev = torch.zeros(batch_size, z_dim).to(device)\n",
    "        if train_mode:\n",
    "            mean_loss += model.train({'x': x, 'z_prev': z_prev}).item() * batch_size\n",
    "        else:\n",
    "            mean_loss += model.test({'x': x, 'z_prev': z_prev}).item() * batch_size\n",
    "    mean_loss /= len(loader.dataset)\n",
    "    if train_mode:\n",
    "        print('Epoch: {} Train loss: {:.4f}'.format(epoch, mean_loss))\n",
    "    else:\n",
    "        print('Test loss: {:.4f}'.format(mean_loss))\n",
    "    return mean_loss"
   ]
  },
  {
   "cell_type": "markdown",
   "metadata": {},
   "source": [
    "## Reconstruction and generation"
   ]
  },
  {
   "cell_type": "code",
   "execution_count": 19,
   "metadata": {},
   "outputs": [],
   "source": [
    "def plot_image_from_latent(batch_size):\n",
    "    x = []\n",
    "    z_prev = torch.zeros(batch_size, z_dim).to(device)\n",
    "    for t in range(t_max):\n",
    "        samples = generate_from_prior.sample({'z_prev': z_prev})\n",
    "        x_t = decoder.sample_mean({\"z\": samples[\"z\"]})\n",
    "        z_prev = samples[\"z\"]\n",
    "        x.append(x_t[None, :])\n",
    "    x = torch.cat(x, dim=0).transpose(0, 1)\n",
    "    return x\n",
    "\n",
    "\n",
    "def reconstruct(data):\n",
    "    xs = []\n",
    "    data = data.to(device)\n",
    "    x = data.transpose(0, 1)\n",
    "    batch_size = data.size()[0]\n",
    "    z_prev = torch.zeros(batch_size, z_dim).to(device)\n",
    "    for t in range(t_max):\n",
    "        h_t = rnn.sample_mean({'x': x})[t]\n",
    "        z_t = encoder.sample_mean({'h': h_t, 'z_prev': z_prev})\n",
    "        dec_x = decoder.sample_mean({'z': z_t})\n",
    "        z_prev = z_t\n",
    "        xs.append(dec_x[None, :])\n",
    "    reconst_img = torch.cat(xs, dim=0).transpose(0, 1)\n",
    "    return reconst_img\n",
    "\n",
    "\n",
    "def sample_after_n_steps(num_step, data):\n",
    "    xs = []\n",
    "    data = data.to(device)\n",
    "    x = data.transpose(0, 1)\n",
    "    batch_size = data.size()[0]\n",
    "    z_prev = torch.zeros(batch_size, z_dim).to(device)\n",
    "    for t in range(t_max):\n",
    "        if t+1 <  num_step:\n",
    "            h_t = rnn.sample_mean({'x': x})[t]\n",
    "            z_t = encoder.sample_mean({'h': h_t, 'z_prev': z_prev})\n",
    "            dec_x = decoder.sample_mean({'z': z_t})\n",
    "            z_prev = z_t\n",
    "            xs.append(dec_x[None, :])\n",
    "        else:\n",
    "            z_t = prior.sample({'z_prev':z_prev})[\"z\"]\n",
    "            dec_x = decoder.sample_mean({'z': z_t})\n",
    "            z_prev = z_t\n",
    "            xs.append(dec_x[None, :])\n",
    "    sample_img = torch.cat(xs, dim=0).transpose(0, 1)\n",
    "    return sample_img\n",
    "            "
   ]
  },
  {
   "cell_type": "code",
   "execution_count": 20,
   "metadata": {},
   "outputs": [
    {
     "name": "stderr",
     "output_type": "stream",
     "text": [
      "100%|██████████| 235/235 [00:34<00:00,  6.79it/s]\n",
      "  0%|          | 0/40 [00:00<?, ?it/s]"
     ]
    },
    {
     "name": "stdout",
     "output_type": "stream",
     "text": [
      "Epoch: 1 Train loss: 255.1766\n"
     ]
    },
    {
     "name": "stderr",
     "output_type": "stream",
     "text": [
      "100%|██████████| 40/40 [00:02<00:00, 14.83it/s]\n"
     ]
    },
    {
     "name": "stdout",
     "output_type": "stream",
     "text": [
      "Test loss: 204.9264\n"
     ]
    },
    {
     "name": "stderr",
     "output_type": "stream",
     "text": [
      "100%|██████████| 235/235 [00:34<00:00,  6.74it/s]\n",
      "  0%|          | 0/40 [00:00<?, ?it/s]"
     ]
    },
    {
     "name": "stdout",
     "output_type": "stream",
     "text": [
      "Epoch: 2 Train loss: 192.0579\n"
     ]
    },
    {
     "name": "stderr",
     "output_type": "stream",
     "text": [
      "100%|██████████| 40/40 [00:03<00:00, 12.35it/s]\n"
     ]
    },
    {
     "name": "stdout",
     "output_type": "stream",
     "text": [
      "Test loss: 184.1096\n"
     ]
    },
    {
     "name": "stderr",
     "output_type": "stream",
     "text": [
      "100%|██████████| 235/235 [00:34<00:00,  6.79it/s]\n",
      "  0%|          | 0/40 [00:00<?, ?it/s]"
     ]
    },
    {
     "name": "stdout",
     "output_type": "stream",
     "text": [
      "Epoch: 3 Train loss: 183.0376\n"
     ]
    },
    {
     "name": "stderr",
     "output_type": "stream",
     "text": [
      "100%|██████████| 40/40 [00:02<00:00, 14.60it/s]\n"
     ]
    },
    {
     "name": "stdout",
     "output_type": "stream",
     "text": [
      "Test loss: 180.6062\n"
     ]
    },
    {
     "name": "stderr",
     "output_type": "stream",
     "text": [
      "100%|██████████| 235/235 [00:35<00:00,  6.64it/s]\n",
      "  0%|          | 0/40 [00:00<?, ?it/s]"
     ]
    },
    {
     "name": "stdout",
     "output_type": "stream",
     "text": [
      "Epoch: 4 Train loss: 180.9568\n"
     ]
    },
    {
     "name": "stderr",
     "output_type": "stream",
     "text": [
      "100%|██████████| 40/40 [00:02<00:00, 14.72it/s]\n"
     ]
    },
    {
     "name": "stdout",
     "output_type": "stream",
     "text": [
      "Test loss: 179.3476\n"
     ]
    },
    {
     "name": "stderr",
     "output_type": "stream",
     "text": [
      "100%|██████████| 235/235 [00:34<00:00,  6.78it/s]\n",
      "  0%|          | 0/40 [00:00<?, ?it/s]"
     ]
    },
    {
     "name": "stdout",
     "output_type": "stream",
     "text": [
      "Epoch: 5 Train loss: 179.8904\n"
     ]
    },
    {
     "name": "stderr",
     "output_type": "stream",
     "text": [
      "100%|██████████| 40/40 [00:02<00:00, 14.03it/s]\n"
     ]
    },
    {
     "name": "stdout",
     "output_type": "stream",
     "text": [
      "Test loss: 178.4508\n"
     ]
    },
    {
     "name": "stderr",
     "output_type": "stream",
     "text": [
      "100%|██████████| 235/235 [00:34<00:00,  6.85it/s]\n",
      "  0%|          | 0/40 [00:00<?, ?it/s]"
     ]
    },
    {
     "name": "stdout",
     "output_type": "stream",
     "text": [
      "Epoch: 6 Train loss: 176.8495\n"
     ]
    },
    {
     "name": "stderr",
     "output_type": "stream",
     "text": [
      "100%|██████████| 40/40 [00:02<00:00, 14.78it/s]\n"
     ]
    },
    {
     "name": "stdout",
     "output_type": "stream",
     "text": [
      "Test loss: 174.6067\n"
     ]
    },
    {
     "name": "stderr",
     "output_type": "stream",
     "text": [
      "100%|██████████| 235/235 [00:34<00:00,  6.79it/s]\n",
      "  0%|          | 0/40 [00:00<?, ?it/s]"
     ]
    },
    {
     "name": "stdout",
     "output_type": "stream",
     "text": [
      "Epoch: 7 Train loss: 175.1140\n"
     ]
    },
    {
     "name": "stderr",
     "output_type": "stream",
     "text": [
      "100%|██████████| 40/40 [00:02<00:00, 14.85it/s]\n"
     ]
    },
    {
     "name": "stdout",
     "output_type": "stream",
     "text": [
      "Test loss: 174.0099\n"
     ]
    },
    {
     "name": "stderr",
     "output_type": "stream",
     "text": [
      "100%|██████████| 235/235 [00:35<00:00,  6.67it/s]\n",
      "  0%|          | 0/40 [00:00<?, ?it/s]"
     ]
    },
    {
     "name": "stdout",
     "output_type": "stream",
     "text": [
      "Epoch: 8 Train loss: 174.4934\n"
     ]
    },
    {
     "name": "stderr",
     "output_type": "stream",
     "text": [
      "100%|██████████| 40/40 [00:02<00:00, 13.78it/s]\n"
     ]
    },
    {
     "name": "stdout",
     "output_type": "stream",
     "text": [
      "Test loss: 173.4077\n"
     ]
    },
    {
     "name": "stderr",
     "output_type": "stream",
     "text": [
      "100%|██████████| 235/235 [00:35<00:00,  6.54it/s]\n",
      "  0%|          | 0/40 [00:00<?, ?it/s]"
     ]
    },
    {
     "name": "stdout",
     "output_type": "stream",
     "text": [
      "Epoch: 9 Train loss: 174.0542\n"
     ]
    },
    {
     "name": "stderr",
     "output_type": "stream",
     "text": [
      "100%|██████████| 40/40 [00:02<00:00, 14.44it/s]\n"
     ]
    },
    {
     "name": "stdout",
     "output_type": "stream",
     "text": [
      "Test loss: 173.2236\n"
     ]
    },
    {
     "name": "stderr",
     "output_type": "stream",
     "text": [
      "100%|██████████| 235/235 [00:36<00:00,  6.52it/s]\n",
      "  0%|          | 0/40 [00:00<?, ?it/s]"
     ]
    },
    {
     "name": "stdout",
     "output_type": "stream",
     "text": [
      "Epoch: 10 Train loss: 173.7850\n"
     ]
    },
    {
     "name": "stderr",
     "output_type": "stream",
     "text": [
      "100%|██████████| 40/40 [00:02<00:00, 14.49it/s]\n"
     ]
    },
    {
     "name": "stdout",
     "output_type": "stream",
     "text": [
      "Test loss: 173.0226\n"
     ]
    },
    {
     "name": "stderr",
     "output_type": "stream",
     "text": [
      "100%|██████████| 235/235 [00:35<00:00,  6.69it/s]\n",
      "  0%|          | 0/40 [00:00<?, ?it/s]"
     ]
    },
    {
     "name": "stdout",
     "output_type": "stream",
     "text": [
      "Epoch: 11 Train loss: 173.4782\n"
     ]
    },
    {
     "name": "stderr",
     "output_type": "stream",
     "text": [
      "100%|██████████| 40/40 [00:03<00:00, 12.58it/s]\n"
     ]
    },
    {
     "name": "stdout",
     "output_type": "stream",
     "text": [
      "Test loss: 172.6737\n"
     ]
    },
    {
     "name": "stderr",
     "output_type": "stream",
     "text": [
      "100%|██████████| 235/235 [00:35<00:00,  6.68it/s]\n",
      "  0%|          | 0/40 [00:00<?, ?it/s]"
     ]
    },
    {
     "name": "stdout",
     "output_type": "stream",
     "text": [
      "Epoch: 12 Train loss: 173.2920\n"
     ]
    },
    {
     "name": "stderr",
     "output_type": "stream",
     "text": [
      "100%|██████████| 40/40 [00:02<00:00, 15.06it/s]\n"
     ]
    },
    {
     "name": "stdout",
     "output_type": "stream",
     "text": [
      "Test loss: 172.2236\n"
     ]
    },
    {
     "name": "stderr",
     "output_type": "stream",
     "text": [
      "100%|██████████| 235/235 [00:34<00:00,  6.71it/s]\n",
      "  0%|          | 0/40 [00:00<?, ?it/s]"
     ]
    },
    {
     "name": "stdout",
     "output_type": "stream",
     "text": [
      "Epoch: 13 Train loss: 173.1253\n"
     ]
    },
    {
     "name": "stderr",
     "output_type": "stream",
     "text": [
      "100%|██████████| 40/40 [00:02<00:00, 13.44it/s]\n"
     ]
    },
    {
     "name": "stdout",
     "output_type": "stream",
     "text": [
      "Test loss: 172.2413\n"
     ]
    },
    {
     "name": "stderr",
     "output_type": "stream",
     "text": [
      "100%|██████████| 235/235 [00:35<00:00,  6.69it/s]\n",
      "  0%|          | 0/40 [00:00<?, ?it/s]"
     ]
    },
    {
     "name": "stdout",
     "output_type": "stream",
     "text": [
      "Epoch: 14 Train loss: 172.9210\n"
     ]
    },
    {
     "name": "stderr",
     "output_type": "stream",
     "text": [
      "100%|██████████| 40/40 [00:02<00:00, 14.92it/s]\n"
     ]
    },
    {
     "name": "stdout",
     "output_type": "stream",
     "text": [
      "Test loss: 172.0694\n"
     ]
    },
    {
     "name": "stderr",
     "output_type": "stream",
     "text": [
      "100%|██████████| 235/235 [00:34<00:00,  6.78it/s]\n",
      "  0%|          | 0/40 [00:00<?, ?it/s]"
     ]
    },
    {
     "name": "stdout",
     "output_type": "stream",
     "text": [
      "Epoch: 15 Train loss: 172.8624\n"
     ]
    },
    {
     "name": "stderr",
     "output_type": "stream",
     "text": [
      "100%|██████████| 40/40 [00:02<00:00, 13.92it/s]\n"
     ]
    },
    {
     "name": "stdout",
     "output_type": "stream",
     "text": [
      "Test loss: 171.8137\n"
     ]
    },
    {
     "name": "stderr",
     "output_type": "stream",
     "text": [
      "100%|██████████| 235/235 [00:34<00:00,  6.90it/s]\n",
      "  0%|          | 0/40 [00:00<?, ?it/s]"
     ]
    },
    {
     "name": "stdout",
     "output_type": "stream",
     "text": [
      "Epoch: 16 Train loss: 172.7550\n"
     ]
    },
    {
     "name": "stderr",
     "output_type": "stream",
     "text": [
      "100%|██████████| 40/40 [00:02<00:00, 13.52it/s]\n"
     ]
    },
    {
     "name": "stdout",
     "output_type": "stream",
     "text": [
      "Test loss: 172.2008\n"
     ]
    },
    {
     "name": "stderr",
     "output_type": "stream",
     "text": [
      "100%|██████████| 235/235 [00:34<00:00,  6.86it/s]\n",
      "  0%|          | 0/40 [00:00<?, ?it/s]"
     ]
    },
    {
     "name": "stdout",
     "output_type": "stream",
     "text": [
      "Epoch: 17 Train loss: 172.6063\n"
     ]
    },
    {
     "name": "stderr",
     "output_type": "stream",
     "text": [
      "100%|██████████| 40/40 [00:02<00:00, 14.37it/s]\n"
     ]
    },
    {
     "name": "stdout",
     "output_type": "stream",
     "text": [
      "Test loss: 171.8161\n"
     ]
    },
    {
     "name": "stderr",
     "output_type": "stream",
     "text": [
      "100%|██████████| 235/235 [00:35<00:00,  6.59it/s]\n",
      "  0%|          | 0/40 [00:00<?, ?it/s]"
     ]
    },
    {
     "name": "stdout",
     "output_type": "stream",
     "text": [
      "Epoch: 18 Train loss: 172.5269\n"
     ]
    },
    {
     "name": "stderr",
     "output_type": "stream",
     "text": [
      "100%|██████████| 40/40 [00:03<00:00, 12.88it/s]\n"
     ]
    },
    {
     "name": "stdout",
     "output_type": "stream",
     "text": [
      "Test loss: 171.5653\n"
     ]
    },
    {
     "name": "stderr",
     "output_type": "stream",
     "text": [
      "100%|██████████| 235/235 [00:35<00:00,  6.69it/s]\n",
      "  0%|          | 0/40 [00:00<?, ?it/s]"
     ]
    },
    {
     "name": "stdout",
     "output_type": "stream",
     "text": [
      "Epoch: 19 Train loss: 172.4226\n"
     ]
    },
    {
     "name": "stderr",
     "output_type": "stream",
     "text": [
      "100%|██████████| 40/40 [00:03<00:00, 13.23it/s]\n"
     ]
    },
    {
     "name": "stdout",
     "output_type": "stream",
     "text": [
      "Test loss: 171.5906\n"
     ]
    },
    {
     "name": "stderr",
     "output_type": "stream",
     "text": [
      "100%|██████████| 235/235 [00:34<00:00,  6.73it/s]\n",
      "  0%|          | 0/40 [00:00<?, ?it/s]"
     ]
    },
    {
     "name": "stdout",
     "output_type": "stream",
     "text": [
      "Epoch: 20 Train loss: 172.3534\n"
     ]
    },
    {
     "name": "stderr",
     "output_type": "stream",
     "text": [
      "100%|██████████| 40/40 [00:02<00:00, 14.56it/s]\n"
     ]
    },
    {
     "name": "stdout",
     "output_type": "stream",
     "text": [
      "Test loss: 171.6463\n"
     ]
    },
    {
     "name": "stderr",
     "output_type": "stream",
     "text": [
      "100%|██████████| 235/235 [00:35<00:00,  6.68it/s]\n",
      "  0%|          | 0/40 [00:00<?, ?it/s]"
     ]
    },
    {
     "name": "stdout",
     "output_type": "stream",
     "text": [
      "Epoch: 21 Train loss: 172.2563\n"
     ]
    },
    {
     "name": "stderr",
     "output_type": "stream",
     "text": [
      "100%|██████████| 40/40 [00:03<00:00, 13.27it/s]\n"
     ]
    },
    {
     "name": "stdout",
     "output_type": "stream",
     "text": [
      "Test loss: 171.5527\n"
     ]
    },
    {
     "name": "stderr",
     "output_type": "stream",
     "text": [
      "100%|██████████| 235/235 [00:34<00:00,  6.80it/s]\n",
      "  0%|          | 0/40 [00:00<?, ?it/s]"
     ]
    },
    {
     "name": "stdout",
     "output_type": "stream",
     "text": [
      "Epoch: 22 Train loss: 172.3164\n"
     ]
    },
    {
     "name": "stderr",
     "output_type": "stream",
     "text": [
      "100%|██████████| 40/40 [00:02<00:00, 15.25it/s]\n"
     ]
    },
    {
     "name": "stdout",
     "output_type": "stream",
     "text": [
      "Test loss: 171.6282\n"
     ]
    },
    {
     "name": "stderr",
     "output_type": "stream",
     "text": [
      "100%|██████████| 235/235 [00:36<00:00,  6.53it/s]\n",
      "  0%|          | 0/40 [00:00<?, ?it/s]"
     ]
    },
    {
     "name": "stdout",
     "output_type": "stream",
     "text": [
      "Epoch: 23 Train loss: 172.0883\n"
     ]
    },
    {
     "name": "stderr",
     "output_type": "stream",
     "text": [
      "100%|██████████| 40/40 [00:03<00:00, 11.78it/s]\n"
     ]
    },
    {
     "name": "stdout",
     "output_type": "stream",
     "text": [
      "Test loss: 171.2768\n"
     ]
    },
    {
     "name": "stderr",
     "output_type": "stream",
     "text": [
      "100%|██████████| 235/235 [00:34<00:00,  6.77it/s]\n",
      "  0%|          | 0/40 [00:00<?, ?it/s]"
     ]
    },
    {
     "name": "stdout",
     "output_type": "stream",
     "text": [
      "Epoch: 24 Train loss: 172.1598\n"
     ]
    },
    {
     "name": "stderr",
     "output_type": "stream",
     "text": [
      "100%|██████████| 40/40 [00:02<00:00, 14.85it/s]\n"
     ]
    },
    {
     "name": "stdout",
     "output_type": "stream",
     "text": [
      "Test loss: 171.1873\n"
     ]
    },
    {
     "name": "stderr",
     "output_type": "stream",
     "text": [
      "100%|██████████| 235/235 [00:35<00:00,  6.67it/s]\n",
      "  0%|          | 0/40 [00:00<?, ?it/s]"
     ]
    },
    {
     "name": "stdout",
     "output_type": "stream",
     "text": [
      "Epoch: 25 Train loss: 171.9704\n"
     ]
    },
    {
     "name": "stderr",
     "output_type": "stream",
     "text": [
      "100%|██████████| 40/40 [00:02<00:00, 14.28it/s]\n"
     ]
    },
    {
     "name": "stdout",
     "output_type": "stream",
     "text": [
      "Test loss: 171.2867\n"
     ]
    }
   ],
   "source": [
    "writer = SummaryWriter(comment='DMM_masa_original_cross')\n",
    "_x, _ = iter(test_loader).next()\n",
    "_x = _x.to(device)\n",
    "\n",
    "for epoch in range(1, epochs + 1):\n",
    "    train_loss = data_loop(epoch, train_loader, dmm, device, train_mode=True)\n",
    "    test_loss = data_loop(epoch, test_loader, dmm, device)\n",
    "\n",
    "    writer.add_scalar('train_loss', train_loss, epoch)\n",
    "    writer.add_scalar('test_loss', test_loss, epoch)\n",
    "\n",
    "    sample = plot_image_from_latent(batch_size)[:, None]\n",
    "    writer.add_images('Image_from_latent', sample, epoch)\n",
    "    \n",
    "    reconst_img = reconstruct(_x)[:, None]\n",
    "    writer.add_images('Reconstructed', reconst_img, epoch)\n",
    "    \n",
    "    generated_img_7 = sample_after_n_steps(7, _x)[:, None]\n",
    "    writer.add_images('Generate_after_7steps', generated_img_7, epoch)\n",
    "    \n",
    "    generated_img_14 = sample_after_n_steps(14, _x)[:, None]\n",
    "    writer.add_images('Generate_after_14steps', generated_img_14, epoch)\n",
    "    \n",
    "    writer.add_images('orignal', _x[:, None], epoch)"
   ]
  },
  {
   "cell_type": "markdown",
   "metadata": {},
   "source": [
    "## Image label conditioning on latent variable z"
   ]
  },
  {
   "cell_type": "markdown",
   "metadata": {},
   "source": [
    "### MNIST settings\n",
    "Prior(Transition model): $p_{\\theta}(z_{t} | z_{t-1}, u) =  \\cal{N}(\\mu = f_{prior_\\mu}(z_{t-1}, u), \\sigma^2 = f_{prior_\\sigma^2}(z_{t-1}, u)$    \n",
    "Generator(Emission): $p_{\\theta}(x | z)=\\mathscr{B}\\left(x ; \\lambda=g_{x}(z)\\right)$  \n",
    "\n",
    "RNN: $p(h) = RNN(x)$  \n",
    "Inference(Combiner): $p_{\\phi}(z | h, z_{t-1}, u) = \\cal{N}(\\mu = f_{\\mu}(h, z_{t-1}, u), \\sigma^2 = f_{\\sigma^2}(h, z_{t-1}, u)$"
   ]
  },
  {
   "cell_type": "code",
   "execution_count": 21,
   "metadata": {},
   "outputs": [],
   "source": [
    "x_dim = 28\n",
    "h_dim = 32\n",
    "hidden_dim = 32\n",
    "z_dim = 16\n",
    "t_max = x_dim\n",
    "\n",
    "# label dim\n",
    "u_dim = 10"
   ]
  },
  {
   "cell_type": "code",
   "execution_count": 22,
   "metadata": {},
   "outputs": [],
   "source": [
    "# RNN\n",
    "class RNN(Deterministic):\n",
    "    \"\"\"\n",
    "    h = RNN(x)\n",
    "    Given observed x, RNN output hidden state\n",
    "    \"\"\"\n",
    "    def __init__(self):\n",
    "        super(RNN, self).__init__(cond_var=[\"x\"], var=[\"h\"])\n",
    "        self.rnn = nn.GRU(x_dim, h_dim, bidirectional=True)\n",
    "#         self.h0 = torch.zeros(2, batch_size, self.rnn.hidden_size).to(device)\n",
    "        self.h0 = nn.Parameter(torch.zeros(2, 1, self.rnn.hidden_size))\n",
    "        self.hidden_size = self.rnn.hidden_size\n",
    "        \n",
    "    def forward(self, x):\n",
    "        # if on gpu we need the fully broadcast view of the rnn initial state\n",
    "        # to be in contiguous gpu memory\n",
    "        # x(Batch_size, Time, Features)\n",
    "        h0 = self.h0.expand(2, x.size(1), self.rnn.hidden_size).contiguous()\n",
    "        h, _ = self.rnn(x, h0)\n",
    "        return {\"h\": h}\n",
    "\n",
    "\n",
    "# Emission p(x_t | z_t)\n",
    "class Generator(Bernoulli):\n",
    "    \"\"\"\n",
    "    Given the latent z at time step t, return the vector of\n",
    "    probabilities that parameterizes the bernlulli distribution p(x_t | x_t)\n",
    "    \"\"\"\n",
    "    def __init__(self):\n",
    "        super(Generator, self).__init__(cond_var=[\"z\"], var=[\"x\"])\n",
    "        self.fc1 = nn.Linear(z_dim, hidden_dim)\n",
    "        self.fc2 = nn.Linear(hidden_dim, x_dim)\n",
    "    \n",
    "    def forward(self, z):\n",
    "        h = F.relu(self.fc1(z))\n",
    "        return {\"probs\": torch.sigmoid(self.fc2(h))}\n",
    "\n",
    "\n",
    "class Inference(Normal):\n",
    "    \"\"\"\n",
    "    given the latent z at time step t-1, the hidden state of the RNN h(x_{0:T} and u\n",
    "    return the loc and scale vectors that\n",
    "    parameterize the gaussian distribution q(z_t | z_{t-1}, x_{t:T}, u)\n",
    "    \"\"\"\n",
    "    def __init__(self):\n",
    "        super(Inference, self).__init__(cond_var=[\"h\", \"z_prev\", \"u\"], var=[\"z\"])\n",
    "        self.fc1 = nn.Linear(z_dim+u_dim, h_dim*2)\n",
    "        self.fc21 = nn.Linear(h_dim*2, z_dim)\n",
    "        self.fc22 = nn.Linear(h_dim*2, z_dim)\n",
    "\n",
    "        \n",
    "    def forward(self, h, z_prev, u):\n",
    "        feature = torch.cat((z_prev, u), 1)\n",
    "        h_z = torch.tanh(self.fc1(feature))\n",
    "        h = 0.5 * (h + h_z)\n",
    "        return {\"loc\": self.fc21(h), \"scale\": F.softplus(self.fc22(h))}\n",
    "\n",
    "\n",
    "class Prior(Normal):\n",
    "    \"\"\"\n",
    "    Given the latent variable at the time step t-1 and u,\n",
    "    return the mean and scale vectors that parameterize the\n",
    "    gaussian distribution p(z_t | z_{t-1}, u)\n",
    "    \"\"\"\n",
    "    def __init__(self):\n",
    "        super(Prior, self).__init__(cond_var=[\"z_prev\", \"u\"], var=[\"z\"])\n",
    "        self.fc1 = nn.Linear(z_dim+u_dim, hidden_dim)\n",
    "        self.fc21 = nn.Linear(hidden_dim, z_dim)\n",
    "        self.fc22 = nn.Linear(hidden_dim, z_dim)\n",
    "        \n",
    "    def forward(self, z_prev, u):\n",
    "        feature = torch.cat((z_prev, u), 1)\n",
    "        h = F.relu(self.fc1(feature))\n",
    "        return {\"loc\": self.fc21(h), \"scale\": F.softplus(self.fc22(h))}"
   ]
  },
  {
   "cell_type": "code",
   "execution_count": 23,
   "metadata": {},
   "outputs": [],
   "source": [
    "prior = Prior().to(device)\n",
    "encoder = Inference().to(device)\n",
    "decoder = Generator().to(device)\n",
    "rnn = RNN().to(device)\n",
    "\n",
    "\n",
    "step_loss = CrossEntropy(encoder, decoder) + KullbackLeibler(encoder, prior)\n",
    "_loss = IterativeLoss(step_loss, max_iter=t_max, \n",
    "                      series_var=[\"x\", \"h\", \"u\"], update_value={\"z\": \"z_prev\"})\n",
    "loss = _loss.expectation(rnn).mean()"
   ]
  },
  {
   "cell_type": "code",
   "execution_count": 24,
   "metadata": {},
   "outputs": [],
   "source": [
    "dmm = Model(loss, distributions=[rnn, encoder, decoder, prior], optimizer=optim.Adam, optimizer_params={'lr': 3e-3})"
   ]
  },
  {
   "cell_type": "code",
   "execution_count": 25,
   "metadata": {},
   "outputs": [
    {
     "name": "stdout",
     "output_type": "stream",
     "text": [
      "torch.Size([256, 28, 28])\n",
      "torch.Size([256, 10])\n",
      "torch.Size([28, 256, 10])\n"
     ]
    }
   ],
   "source": [
    "# check label dims\n",
    "x, label = iter(train_loader).next()\n",
    "label = torch.eye(10)[label]\n",
    "print(x.shape)\n",
    "print(label.shape)\n",
    "# copy labels for each time step\n",
    "print(torch.stack([label for num in range(28)]).shape)"
   ]
  },
  {
   "cell_type": "code",
   "execution_count": 26,
   "metadata": {},
   "outputs": [],
   "source": [
    "def data_loop(epoch, loader, model, device, train_mode=False):\n",
    "    mean_loss = 0\n",
    "    for batch_idx, (data, label) in enumerate(tqdm(loader)):\n",
    "        data = data.to(device)\n",
    "        label = torch.eye(10)[label].to(device)\n",
    "    \n",
    "        batch_size = data.size()[0]\n",
    "        # convert to (timestep, batch_size, feature)\n",
    "        x = data.transpose(0, 1)\n",
    "        label = torch.stack([label for num in range(t_max)])\n",
    "        \n",
    "        z_prev = torch.zeros(batch_size, z_dim).to(device)\n",
    "        #q_z_prev = torch.zeros(batch_size, z_dim).to(device)\n",
    "        if train_mode:\n",
    "            mean_loss += model.train({'x': x, 'z_prev': z_prev, 'u': label}).item() * batch_size\n",
    "        else:\n",
    "            mean_loss += model.test({'x': x, 'z_prev': z_prev, 'u': label}).item() * batch_size\n",
    "    mean_loss /= len(loader.dataset)\n",
    "    if train_mode:\n",
    "        print('Epoch: {} Train loss: {:.4f}'.format(epoch, mean_loss))\n",
    "    else:\n",
    "        print('Test loss: {:.4f}'.format(mean_loss))\n",
    "    return mean_loss"
   ]
  },
  {
   "cell_type": "code",
   "execution_count": 27,
   "metadata": {},
   "outputs": [],
   "source": [
    "def plot_image_from_latent():\n",
    "    # plot 100 images, 10 images each label\n",
    "    sample_num = 100 \n",
    "    x = []\n",
    "    label = torch.tensor([0, 1, 2, 3, 4, 5, 6, 7, 8, 9]*10)\n",
    "    label = torch.eye(10)[label].to(device)\n",
    "    label = torch.stack([label for num in range(t_max)])\n",
    "    \n",
    "    z_prev = torch.zeros(sample_num, z_dim).to(device)\n",
    "    for step in range(t_max):\n",
    "        z_t = prior.sample({'z_prev':z_prev, 'u': label[t]})[\"z\"]\n",
    "        dec_x = decoder.sample_mean({'z': z_t})\n",
    "        z_prev = z_t\n",
    "        x.append(x_t[None, :])\n",
    "    x = torch.cat(x, dim=0).transpose(0, 1)\n",
    "    return x\n",
    "\n",
    "\n",
    "def reconstruct(data, label):\n",
    "    xs = []\n",
    "    data = data.to(device)\n",
    "    label = torch.eye(10)[label].to(device)\n",
    "    \n",
    "    x = data.transpose(0, 1)\n",
    "    label = torch.stack([label for num in range(t_max)])\n",
    "    batch_size = data.size()[0]\n",
    "    z_prev = torch.zeros(batch_size, z_dim).to(device)\n",
    "    for t in range(t_max):\n",
    "        h_t = rnn.sample_mean({'x': x})[t]\n",
    "        z_t = encoder.sample_mean({'h': h_t, 'z_prev': z_prev, 'u': label[t]})\n",
    "        dec_x = decoder.sample_mean({'z': z_t})\n",
    "        z_prev = z_t\n",
    "        xs.append(dec_x[None, :])\n",
    "    reconst_img = torch.cat(xs, dim=0).transpose(0, 1)\n",
    "    return reconst_img\n",
    "\n",
    "\n",
    "def sample_after_n_steps(num_step, data, label):\n",
    "    xs = []\n",
    "    data = data.to(device)\n",
    "    label = torch.eye(10)[label].to(device)\n",
    "    \n",
    "    x = data.transpose(0, 1)\n",
    "    label = torch.stack([label for num in range(t_max)])\n",
    "    batch_size = data.size()[0]\n",
    "    z_prev = torch.zeros(batch_size, z_dim).to(device)\n",
    "    for t in range(t_max):\n",
    "        if t+1 <  num_step:\n",
    "            h_t = rnn.sample_mean({'x': x})[t]\n",
    "            z_t = encoder.sample_mean({'h': h_t, 'z_prev': z_prev, 'u': label[t]})\n",
    "            dec_x = decoder.sample_mean({'z': z_t})\n",
    "            z_prev = z_t\n",
    "            xs.append(dec_x[None, :])\n",
    "        else:\n",
    "            z_t = prior.sample({'z_prev':z_prev, 'u': label[t]})[\"z\"]\n",
    "            dec_x = decoder.sample_mean({'z': z_t})\n",
    "            z_prev = z_t\n",
    "            xs.append(dec_x[None, :])\n",
    "    sample_img = torch.cat(xs, dim=0).transpose(0, 1)\n",
    "    return sample_img\n",
    "            "
   ]
  },
  {
   "cell_type": "code",
   "execution_count": 28,
   "metadata": {},
   "outputs": [
    {
     "name": "stderr",
     "output_type": "stream",
     "text": [
      "100%|██████████| 235/235 [00:36<00:00,  6.43it/s]\n",
      "  0%|          | 0/40 [00:00<?, ?it/s]"
     ]
    },
    {
     "name": "stdout",
     "output_type": "stream",
     "text": [
      "Epoch: 1 Train loss: 250.0728\n"
     ]
    },
    {
     "name": "stderr",
     "output_type": "stream",
     "text": [
      "100%|██████████| 40/40 [00:03<00:00, 13.21it/s]"
     ]
    },
    {
     "name": "stdout",
     "output_type": "stream",
     "text": [
      "Test loss: 196.4350\n"
     ]
    },
    {
     "name": "stderr",
     "output_type": "stream",
     "text": [
      "\n"
     ]
    },
    {
     "ename": "NameError",
     "evalue": "name 't' is not defined",
     "output_type": "error",
     "traceback": [
      "\u001b[0;31m---------------------------------------------------------------------------\u001b[0m",
      "\u001b[0;31mNameError\u001b[0m                                 Traceback (most recent call last)",
      "\u001b[0;32m<ipython-input-28-ae43af7e148b>\u001b[0m in \u001b[0;36m<module>\u001b[0;34m()\u001b[0m\n\u001b[1;32m     11\u001b[0m     \u001b[0mwriter\u001b[0m\u001b[0;34m.\u001b[0m\u001b[0madd_scalar\u001b[0m\u001b[0;34m(\u001b[0m\u001b[0;34m'test_loss'\u001b[0m\u001b[0;34m,\u001b[0m \u001b[0mtest_loss\u001b[0m\u001b[0;34m,\u001b[0m \u001b[0mepoch\u001b[0m\u001b[0;34m)\u001b[0m\u001b[0;34m\u001b[0m\u001b[0m\n\u001b[1;32m     12\u001b[0m \u001b[0;34m\u001b[0m\u001b[0m\n\u001b[0;32m---> 13\u001b[0;31m     \u001b[0msample\u001b[0m \u001b[0;34m=\u001b[0m \u001b[0mplot_image_from_latent\u001b[0m\u001b[0;34m(\u001b[0m\u001b[0;34m)\u001b[0m\u001b[0;34m[\u001b[0m\u001b[0;34m:\u001b[0m\u001b[0;34m,\u001b[0m \u001b[0;32mNone\u001b[0m\u001b[0;34m]\u001b[0m\u001b[0;34m\u001b[0m\u001b[0m\n\u001b[0m\u001b[1;32m     14\u001b[0m     \u001b[0mwriter\u001b[0m\u001b[0;34m.\u001b[0m\u001b[0madd_images\u001b[0m\u001b[0;34m(\u001b[0m\u001b[0;34m'Image_from_latent'\u001b[0m\u001b[0;34m,\u001b[0m \u001b[0msample\u001b[0m\u001b[0;34m,\u001b[0m \u001b[0mepoch\u001b[0m\u001b[0;34m)\u001b[0m\u001b[0;34m\u001b[0m\u001b[0m\n\u001b[1;32m     15\u001b[0m \u001b[0;34m\u001b[0m\u001b[0m\n",
      "\u001b[0;32m<ipython-input-27-671d4ee0f337>\u001b[0m in \u001b[0;36mplot_image_from_latent\u001b[0;34m()\u001b[0m\n\u001b[1;32m      9\u001b[0m     \u001b[0mz_prev\u001b[0m \u001b[0;34m=\u001b[0m \u001b[0mtorch\u001b[0m\u001b[0;34m.\u001b[0m\u001b[0mzeros\u001b[0m\u001b[0;34m(\u001b[0m\u001b[0msample_num\u001b[0m\u001b[0;34m,\u001b[0m \u001b[0mz_dim\u001b[0m\u001b[0;34m)\u001b[0m\u001b[0;34m.\u001b[0m\u001b[0mto\u001b[0m\u001b[0;34m(\u001b[0m\u001b[0mdevice\u001b[0m\u001b[0;34m)\u001b[0m\u001b[0;34m\u001b[0m\u001b[0m\n\u001b[1;32m     10\u001b[0m     \u001b[0;32mfor\u001b[0m \u001b[0mstep\u001b[0m \u001b[0;32min\u001b[0m \u001b[0mrange\u001b[0m\u001b[0;34m(\u001b[0m\u001b[0mt_max\u001b[0m\u001b[0;34m)\u001b[0m\u001b[0;34m:\u001b[0m\u001b[0;34m\u001b[0m\u001b[0m\n\u001b[0;32m---> 11\u001b[0;31m         \u001b[0mz_t\u001b[0m \u001b[0;34m=\u001b[0m \u001b[0mprior\u001b[0m\u001b[0;34m.\u001b[0m\u001b[0msample\u001b[0m\u001b[0;34m(\u001b[0m\u001b[0;34m{\u001b[0m\u001b[0;34m'z_prev'\u001b[0m\u001b[0;34m:\u001b[0m\u001b[0mz_prev\u001b[0m\u001b[0;34m,\u001b[0m \u001b[0;34m'u'\u001b[0m\u001b[0;34m:\u001b[0m \u001b[0mlabel\u001b[0m\u001b[0;34m[\u001b[0m\u001b[0mt\u001b[0m\u001b[0;34m]\u001b[0m\u001b[0;34m}\u001b[0m\u001b[0;34m)\u001b[0m\u001b[0;34m[\u001b[0m\u001b[0;34m\"z\"\u001b[0m\u001b[0;34m]\u001b[0m\u001b[0;34m\u001b[0m\u001b[0m\n\u001b[0m\u001b[1;32m     12\u001b[0m         \u001b[0mdec_x\u001b[0m \u001b[0;34m=\u001b[0m \u001b[0mdecoder\u001b[0m\u001b[0;34m.\u001b[0m\u001b[0msample_mean\u001b[0m\u001b[0;34m(\u001b[0m\u001b[0;34m{\u001b[0m\u001b[0;34m'z'\u001b[0m\u001b[0;34m:\u001b[0m \u001b[0mz_t\u001b[0m\u001b[0;34m}\u001b[0m\u001b[0;34m)\u001b[0m\u001b[0;34m\u001b[0m\u001b[0m\n\u001b[1;32m     13\u001b[0m         \u001b[0mz_prev\u001b[0m \u001b[0;34m=\u001b[0m \u001b[0mz_t\u001b[0m\u001b[0;34m\u001b[0m\u001b[0m\n",
      "\u001b[0;31mNameError\u001b[0m: name 't' is not defined"
     ]
    }
   ],
   "source": [
    "writer = SummaryWriter(comment='DMM_masa_original_cross_action_conditional')\n",
    "_x, _label = iter(test_loader).next()\n",
    "_x = _x.to(device)\n",
    "\n",
    "\n",
    "for epoch in range(1, epochs + 1):\n",
    "    train_loss = data_loop(epoch, train_loader, dmm, device, train_mode=True)\n",
    "    test_loss = data_loop(epoch, test_loader, dmm, device)\n",
    "\n",
    "    writer.add_scalar('train_loss', train_loss, epoch)\n",
    "    writer.add_scalar('test_loss', test_loss, epoch)\n",
    "\n",
    "    sample = plot_image_from_latent()[:, None]\n",
    "    writer.add_images('Image_from_latent', sample, epoch)\n",
    "    \n",
    "    reconst_img = reconstruct(_x, _label)[:, None]\n",
    "    writer.add_images('Reconstructed', reconst_img, epoch)\n",
    "    \n",
    "    generated_img_7 = sample_after_n_steps(7, _x, _label)[:, None]\n",
    "    writer.add_images('Generate_after_7steps', generated_img_7, epoch)\n",
    "    \n",
    "    generated_img_14 = sample_after_n_steps(14, _x, _label)[:, None]\n",
    "    writer.add_images('Generate_after_14steps', generated_img_14, epoch)\n",
    "    \n",
    "    writer.add_images('orignal', _x[:, None], epoch)"
   ]
  },
  {
   "cell_type": "code",
   "execution_count": null,
   "metadata": {},
   "outputs": [],
   "source": []
  }
 ],
 "metadata": {
  "kernelspec": {
   "display_name": "Python 3",
   "language": "python",
   "name": "python3"
  },
  "language_info": {
   "codemirror_mode": {
    "name": "ipython",
    "version": 3
   },
   "file_extension": ".py",
   "mimetype": "text/x-python",
   "name": "python",
   "nbconvert_exporter": "python",
   "pygments_lexer": "ipython3",
   "version": "3.6.4"
  }
 },
 "nbformat": 4,
 "nbformat_minor": 4
}
